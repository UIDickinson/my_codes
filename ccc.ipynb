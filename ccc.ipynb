{
 "cells": [
  {
   "cell_type": "code",
   "execution_count": 2,
   "id": "14c2e8a5-5c2f-469b-9458-009f832ab612",
   "metadata": {
    "executionCancelledAt": null,
    "executionTime": 50,
    "lastExecutedAt": 1700803861745,
    "lastScheduledRunId": null,
    "lastSuccessfullyExecutedCode": "import pandas as pd\nimport numpy as np\nimport matplotlib.pyplot as plt\n%matplotlib inline",
    "outputsMetadata": {
     "0": {
      "height": 56,
      "type": "stream"
     }
    }
   },
   "outputs": [],
   "source": [
    "import pandas as pd\n",
    "import numpy as np\n",
    "import matplotlib.pyplot as plt\n",
    "%matplotlib inline"
   ]
  },
  {
   "cell_type": "code",
   "execution_count": 104,
   "id": "044fad39-cbbb-4578-9436-3d84620ab06a",
   "metadata": {
    "executionCancelledAt": null,
    "executionTime": 23,
    "lastExecutedAt": 1700805605846,
    "lastScheduledRunId": null,
    "lastSuccessfullyExecutedCode": "df_ss2 = pd.read_csv(\"CCC SS2 Assignment scores (2023-10-01 to 2023-10-31).csv\")\ndf_ss2 = pd.DataFrame(df_ss2)\nprint(len(df_ss2.columns))\nprint(df_ss2.info())",
    "outputsMetadata": {
     "0": {
      "height": 538,
      "type": "stream"
     }
    }
   },
   "outputs": [
    {
     "name": "stdout",
     "output_type": "stream",
     "text": [
      "64\n"
     ]
    }
   ],
   "source": [
    "df_ss2 = pd.read_csv(\"C.C.C SS3 Assignment scores (2023-10-01 to 2023-10-31).csv\")\n",
    "df_ss2 = pd.DataFrame(df_ss2)\n",
    "print(len(df_ss2.columns))"
   ]
  },
  {
   "cell_type": "code",
   "execution_count": 95,
   "id": "aacdfc9b-8b95-4085-8001-26b3868266e3",
   "metadata": {
    "executionCancelledAt": null,
    "executionTime": 19,
    "lastExecutedAt": 1700778145756,
    "lastScheduledRunId": null,
    "lastSuccessfullyExecutedCode": "#Check for empty elements\n\nnvc = pd.DataFrame(df_ss2.isnull().sum().sort_values(), columns=['Total Null Values'])\nnvc['Percentage'] = round(nvc['Total Null Values']/df_ss2.shape[0],3)*100\nprint(nvc)",
    "outputsMetadata": {
     "0": {
      "height": 538,
      "type": "stream"
     },
     "1": {
      "height": 361,
      "type": "dataFrame"
     }
    },
    "scrolled": true
   },
   "outputs": [
    {
     "name": "stdout",
     "output_type": "stream",
     "text": [
      "                                                    Total Null Values  \\\n",
      "Exercise: Pronoun-antecedent agreement                              0   \n",
      "Video: Run-ons and comma splices                                    0   \n",
      "Video: Why we do the same thing to both sides: ...                  0   \n",
      "Video: Intro to equations with variables on bot...                  0   \n",
      "Video: Equations with variables on both sides: ...                  0   \n",
      "...                                                               ...   \n",
      "Exercise: Recognizing run-ons and comma splices                     0   \n",
      "Article: Evaluating expressions with one variable                   0   \n",
      "Percent completed                                                   1   \n",
      "Average score                                                       1   \n",
      "Student name                                                        1   \n",
      "\n",
      "                                                    Percentage  \n",
      "Exercise: Pronoun-antecedent agreement                     0.0  \n",
      "Video: Run-ons and comma splices                           0.0  \n",
      "Video: Why we do the same thing to both sides: ...         0.0  \n",
      "Video: Intro to equations with variables on bot...         0.0  \n",
      "Video: Equations with variables on both sides: ...         0.0  \n",
      "...                                                        ...  \n",
      "Exercise: Recognizing run-ons and comma splices            0.0  \n",
      "Article: Evaluating expressions with one variable          0.0  \n",
      "Percent completed                                          4.8  \n",
      "Average score                                              4.8  \n",
      "Student name                                               4.8  \n",
      "\n",
      "[64 rows x 2 columns]\n"
     ]
    }
   ],
   "source": [
    "#Check for empty elements\n",
    "\n",
    "nvc = pd.DataFrame(df_ss2.isnull().sum().sort_values(), columns=['Total Null Values'])\n",
    "nvc['Percentage'] = round(nvc['Total Null Values']/df_ss2.shape[0],3)*100\n",
    "print(nvc)"
   ]
  },
  {
   "cell_type": "code",
   "execution_count": 105,
   "id": "69925300-2324-4a58-82a6-b5b72f14f971",
   "metadata": {
    "executionCancelledAt": null,
    "executionTime": 17,
    "lastExecutedAt": 1700805613260,
    "lastScheduledRunId": null,
    "lastSuccessfullyExecutedCode": "#filtered_columns = [col for col in df.columns if not col.startswith(\"Video\")]\n#print(filtered_columns)\nfiltered_columns = df_ss2.filter(like=\"Video\", axis=1).columns\ndf_ss2 = df_ss2.drop(columns=filtered_columns)\nff = df_ss2.filter(like=\"Article\", axis=1).columns\ndf_ss2 = df_ss2.drop(columns=ff)\ndf_ss2.iloc[0] = df_ss2.iloc[0,:].str.replace(\"Due \", \"\")",
    "outputsMetadata": {
     "0": {
      "height": 333,
      "type": "dataFrame"
     }
    }
   },
   "outputs": [],
   "source": [
    "#filtered_columns = [col for col in df.columns if not col.startswith(\"Video\")]\n",
    "#print(filtered_columns)\n",
    "filtered_columns = df_ss2.filter(like=\"Video\", axis=1).columns\n",
    "df_ss2 = df_ss2.drop(columns=filtered_columns)\n",
    "ff = df_ss2.filter(like=\"Article\", axis=1).columns\n",
    "df_ss2 = df_ss2.drop(columns=ff)\n",
    "df_ss2.iloc[0] = df_ss2.iloc[0,:].str.replace(\"Due \", \"\")"
   ]
  },
  {
   "cell_type": "code",
   "execution_count": 106,
   "id": "0a11187a-f9c5-4df2-9152-2d4f5d0a9894",
   "metadata": {
    "executionCancelledAt": null,
    "executionTime": 14,
    "lastExecutedAt": 1700805618588,
    "lastScheduledRunId": null,
    "lastSuccessfullyExecutedCode": "#cols = [col for col in df_ss2.columns if not col.startswith([\"Student name\",\"Average score\", \"\"])]\n#cols = cols[2:]\n# Transpose the DataFrame using swapaxes\n#transposed_df = df.swapaxes(0, 1)\n\n#df_ss = df_ss2.set_index(\"Student name\")\n#df_ss = df_ss.transpose()\ndf_ss = df_ss2.drop(columns= [\"Average score\", \"Percent completed\"])\ndf_ss[\"Student name\"] = df_ss[\"Student name\"].fillna(\"Date\")\ndf_ss = df_ss.set_index(\"Student name\")\ndf_ss = df_ss.transpose()\nprint(len(df_ss.Date.unique()))\nprint(df_ss.Date.unique())",
    "outputsMetadata": {
     "0": {
      "height": 76,
      "type": "stream"
     }
    }
   },
   "outputs": [],
   "source": [
    "#cols = [col for col in df_ss2.columns if not col.startswith([\"Student name\",\"Average score\", \"\"])]\n",
    "#cols = cols[2:]\n",
    "# Transpose the DataFrame using swapaxes\n",
    "#transposed_df = df.swapaxes(0, 1)\n",
    "\n",
    "#df_ss = df_ss2.set_index(\"Student name\")\n",
    "#df_ss = df_ss.transpose()\n",
    "df_ss = df_ss2.drop(columns= [\"Average score\", \"Percent completed\"])\n",
    "df_ss[\"Student name\"] = df_ss[\"Student name\"].fillna(\"Date\")\n",
    "df_ss = df_ss.set_index(\"Student name\")\n",
    "df_ss = df_ss.transpose()"
   ]
  },
  {
   "cell_type": "code",
   "execution_count": 107,
   "id": "3b09b514-049f-4d53-8c2b-1bae6b70345c",
   "metadata": {
    "executionCancelledAt": null,
    "executionTime": 18,
    "lastExecutedAt": 1700805635093,
    "lastScheduledRunId": null,
    "lastSuccessfullyExecutedCode": "for col in df_ss.columns:\n    df_ss[col].replace([\"\\t--\", \"Not started\"], \"Absent\", inplace=True)\n"
   },
   "outputs": [],
   "source": [
    "\n",
    "for col in df_ss.columns:\n",
    "    df_ss[col].replace([\"\\t--\", \"Not started\"], 0, inplace=True)"
   ]
  },
  {
   "cell_type": "code",
   "execution_count": 120,
   "id": "fd1eea1a-6709-41dc-b52f-627e3cb81834",
   "metadata": {
    "scrolled": true
   },
   "outputs": [],
   "source": [
    "dt= df_ss.copy()\n",
    "dtt = dt.columns[1:]"
   ]
  },
  {
   "cell_type": "code",
   "execution_count": 121,
   "id": "26472f58-4498-4b7e-90d3-1f1d69f52eb2",
   "metadata": {
    "executionCancelledAt": null,
    "executionTime": 44,
    "lastExecutedAt": 1700810058289,
    "lastScheduledRunId": null,
    "lastSuccessfullyExecutedCode": "df_ss"
   },
   "outputs": [],
   "source": [
    "dt[dtt] = dt[dtt].apply(pd.to_numeric, errors='ignore')"
   ]
  },
  {
   "cell_type": "code",
   "execution_count": 122,
   "id": "d7497fb2-50f1-4f30-be10-16119b6cf934",
   "metadata": {
    "executionCancelledAt": null,
    "executionTime": 218,
    "lastExecutedAt": 1700808104959,
    "lastScheduledRunId": null,
    "lastSuccessfullyExecutedCode": "dff = df_ss.index.tolist()\ndf_ss_date_g = df_ss.groupby(\"Date\").sum()\nd = df_ss.pivot_table(values=dff, index= \"Date\", aggfunc=\"sum\")",
    "scrolled": true
   },
   "outputs": [
    {
     "data": {
      "text/plain": [
       "Student name\n",
       "Date                    object\n",
       "abasiamaudo006           int64\n",
       "archibongbenedicta50     int64\n",
       "archibongp20             int64\n",
       "cyrilmiracle055          int64\n",
       "edidiong bassey          int64\n",
       "farchibong9              int64\n",
       "florenceumoh22           int64\n",
       "francisgodsgift5         int64\n",
       "goodnewsrobin2404        int64\n",
       "GRACE UMOH               int64\n",
       "jita8550                 int64\n",
       "joannasunday360          int64\n",
       "josephinejetim           int64\n",
       "kini  ubong              int64\n",
       "okond9288                int64\n",
       "prosperusoro92           int64\n",
       "Rejoice Effiong          int64\n",
       "udohappiness439          int64\n",
       "Victory Effiong          int64\n",
       "victoryb454              int64\n",
       "dtype: object"
      ]
     },
     "execution_count": 122,
     "metadata": {},
     "output_type": "execute_result"
    }
   ],
   "source": [
    "dt.dtypes"
   ]
  },
  {
   "cell_type": "code",
   "execution_count": 125,
   "id": "3ae72094-6207-44dd-b0cb-6870d75dcfae",
   "metadata": {},
   "outputs": [
    {
     "data": {
      "text/html": [
       "<div>\n",
       "<style scoped>\n",
       "    .dataframe tbody tr th:only-of-type {\n",
       "        vertical-align: middle;\n",
       "    }\n",
       "\n",
       "    .dataframe tbody tr th {\n",
       "        vertical-align: top;\n",
       "    }\n",
       "\n",
       "    .dataframe thead th {\n",
       "        text-align: right;\n",
       "    }\n",
       "</style>\n",
       "<table border=\"1\" class=\"dataframe\">\n",
       "  <thead>\n",
       "    <tr style=\"text-align: right;\">\n",
       "      <th>Date</th>\n",
       "      <th>2023-10-17</th>\n",
       "      <th>2023-10-19</th>\n",
       "      <th>2023-10-25</th>\n",
       "      <th>2023-10-26</th>\n",
       "      <th>2023-10-30</th>\n",
       "      <th>2023-10-31</th>\n",
       "    </tr>\n",
       "    <tr>\n",
       "      <th>Student name</th>\n",
       "      <th></th>\n",
       "      <th></th>\n",
       "      <th></th>\n",
       "      <th></th>\n",
       "      <th></th>\n",
       "      <th></th>\n",
       "    </tr>\n",
       "  </thead>\n",
       "  <tbody>\n",
       "    <tr>\n",
       "      <th>abasiamaudo006</th>\n",
       "      <td>500</td>\n",
       "      <td>500</td>\n",
       "      <td>100</td>\n",
       "      <td>1240</td>\n",
       "      <td>200</td>\n",
       "      <td>300</td>\n",
       "    </tr>\n",
       "    <tr>\n",
       "      <th>archibongbenedicta50</th>\n",
       "      <td>455</td>\n",
       "      <td>200</td>\n",
       "      <td>75</td>\n",
       "      <td>1096</td>\n",
       "      <td>110</td>\n",
       "      <td>300</td>\n",
       "    </tr>\n",
       "    <tr>\n",
       "      <th>archibongp20</th>\n",
       "      <td>0</td>\n",
       "      <td>0</td>\n",
       "      <td>0</td>\n",
       "      <td>895</td>\n",
       "      <td>180</td>\n",
       "      <td>300</td>\n",
       "    </tr>\n",
       "    <tr>\n",
       "      <th>cyrilmiracle055</th>\n",
       "      <td>480</td>\n",
       "      <td>225</td>\n",
       "      <td>75</td>\n",
       "      <td>1165</td>\n",
       "      <td>175</td>\n",
       "      <td>300</td>\n",
       "    </tr>\n",
       "    <tr>\n",
       "      <th>edidiong bassey</th>\n",
       "      <td>500</td>\n",
       "      <td>500</td>\n",
       "      <td>100</td>\n",
       "      <td>1360</td>\n",
       "      <td>200</td>\n",
       "      <td>300</td>\n",
       "    </tr>\n",
       "  </tbody>\n",
       "</table>\n",
       "</div>"
      ],
      "text/plain": [
       "Date                  2023-10-17  2023-10-19  2023-10-25  2023-10-26  \\\n",
       "Student name                                                           \n",
       "abasiamaudo006               500         500         100        1240   \n",
       "archibongbenedicta50         455         200          75        1096   \n",
       "archibongp20                   0           0           0         895   \n",
       "cyrilmiracle055              480         225          75        1165   \n",
       "edidiong bassey              500         500         100        1360   \n",
       "\n",
       "Date                  2023-10-30  2023-10-31  \n",
       "Student name                                  \n",
       "abasiamaudo006               200         300  \n",
       "archibongbenedicta50         110         300  \n",
       "archibongp20                 180         300  \n",
       "cyrilmiracle055              175         300  \n",
       "edidiong bassey              200         300  "
      ]
     },
     "execution_count": 125,
     "metadata": {},
     "output_type": "execute_result"
    }
   ],
   "source": [
    "df_new = dt.groupby(\"Date\").sum().T\n",
    "df_new[\"\"]\n",
    "df_new.head()"
   ]
  }
 ],
 "metadata": {
  "colab": {
   "name": "Welcome to DataCamp Workspaces.ipynb",
   "provenance": []
  },
  "kernelspec": {
   "display_name": "Python 3 (ipykernel)",
   "language": "python",
   "name": "python3"
  },
  "language_info": {
   "codemirror_mode": {
    "name": "ipython",
    "version": 3
   },
   "file_extension": ".py",
   "mimetype": "text/x-python",
   "name": "python",
   "nbconvert_exporter": "python",
   "pygments_lexer": "ipython3",
   "version": "3.11.5"
  }
 },
 "nbformat": 4,
 "nbformat_minor": 5
}
