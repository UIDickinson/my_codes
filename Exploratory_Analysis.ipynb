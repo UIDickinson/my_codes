{
 "cells": [
  {
   "cell_type": "markdown",
   "id": "7c1d59fd-e025-46e2-95ba-392ad95edab1",
   "metadata": {},
   "source": [
    "EXPLORING A DATAFRAME"
   ]
  },
  {
   "cell_type": "markdown",
   "id": "e9127552-0828-4c71-b281-ed9c17504704",
   "metadata": {},
   "source": [
    "Use this template to get a solid understanding of the structure of your DataFrame and its values before jumping into a deeper analysis.\n",
    "This template leverages many of pandas' handy functions for the most fundamental exploratory data analysis steps, including inspecting column data types and distributions, creating exploratory visualizations, and counting unique and missing values."
   ]
  },
  {
   "cell_type": "code",
   "execution_count": null,
   "id": "e9cb33f3-1b8d-43ed-8d8c-02d82f668e0f",
   "metadata": {},
   "outputs": [],
   "source": [
    "import pandas as pd\n",
    "import seaborn as sn\n",
    "import matplotlib.pyplot as plt\n",
    "\n",
    "# Load your dataset into a DataFrame\n",
    "df = pd.read_csv(\"data/taxis.csv\")\n",
    "\n",
    "# Print the number of rows and columns\n",
    "print(\"Number of rows and columns:\", df.shape)"
   ]
  },
  {
   "cell_type": "code",
   "execution_count": null,
   "id": "3f00bd4c-0d40-4b3c-ab10-4c280fb9def0",
   "metadata": {},
   "outputs": [],
   "source": [
    "# Print out the first five rows\n",
    "df.head()"
   ]
  },
  {
   "cell_type": "code",
   "execution_count": null,
   "id": "a7a18836-b787-494b-a62c-b502a7f715c7",
   "metadata": {},
   "outputs": [],
   "source": [
    "\n",
    "#Understanding columns and values\n",
    "#The info() function prints a concise summary of the DataFrame. For each column, you can find its name, data type, and the number of non-null rows. This is useful to gauge if there are many missing values and to understand what data types you're dealing with.\n",
    "\n",
    "df.info()"
   ]
  },
  {
   "cell_type": "code",
   "execution_count": null,
   "id": "e5e8feee-72e5-43a9-9361-0932b5a246f9",
   "metadata": {},
   "outputs": [],
   "source": [
    "\n",
    "#To get an exact count of missing values in each column, call the isna() function and aggregate it using the sum() function:\n",
    "\n",
    "df.isna().sum()\n",
    "\n",
    "#If there are missing values, you'll have to decide if and how missing values should be dealt with.\n",
    "#If you want to learn more about removing and replacing values, check out chapter 2 of DataCamp's Data Manipulation with pandas course."
   ]
  },
  {
   "cell_type": "code",
   "execution_count": null,
   "id": "27a37cc7-d3b7-4856-9595-75a4ece94cbf",
   "metadata": {},
   "outputs": [],
   "source": [
    "\n",
    "#The describe() function generates helpful descriptive statistics for each numeric column.\n",
    "#You can see the percentile, mean, standard deviation, and minimum and maximum values in its output.\n",
    "#Note that missing values are excluded here.\n",
    "\n",
    "df.describe()"
   ]
  },
  {
   "cell_type": "code",
   "execution_count": null,
   "id": "52f82f08-6044-4c4a-a6d7-0ebfb6e45eec",
   "metadata": {},
   "outputs": [],
   "source": [
    "#Use the unique() function to print out the unique values of a column:\n",
    "df[\"pickup_borough\"].unique()  # Replace with a column of interest"
   ]
  },
  {
   "cell_type": "code",
   "execution_count": null,
   "id": "021ce940-ab15-462a-b16f-c97ca60641e1",
   "metadata": {},
   "outputs": [],
   "source": [
    "\n",
    "#Use the value_counts() function to print out the number of rows for each unique value:\n",
    "\n",
    "df[\"pickup_borough\"].value_counts(  # Replace with a column of interest\n",
    "    dropna=True  # Set to False if you want to include NaN values\n",
    ")"
   ]
  },
  {
   "cell_type": "markdown",
   "id": "a62ac00d-b6f9-433e-918d-240432081d8a",
   "metadata": {},
   "source": [
    "''''\n",
    "    Basic data visualizations\n",
    "            pandas plot() function makes it easy to plot columns from your DataFrame. This section will go through a few basic data visualizations to better understand your data.\n",
    "                If you need a refresher on visualizing DataFrames, chapter 4 of DataCamp's Data Manipulation with pandas course is a useful reference!\n",
    "''''"
   ]
  },
  {
   "cell_type": "code",
   "execution_count": null,
   "id": "95bd0f53-b3ce-4728-9c31-8c44a3d058eb",
   "metadata": {},
   "outputs": [],
   "source": [
    "#Boxplots can help you identify outliers:\n",
    "\n",
    "df.plot(\n",
    "    kind=\"box\", figsize=(12, 8)  # Specifies a boxplot with set width & height in inches\n",
    ");"
   ]
  },
  {
   "cell_type": "code",
   "execution_count": null,
   "id": "10d4d3ef-4a48-4397-ae7d-85248e2dee44",
   "metadata": {},
   "outputs": [],
   "source": [
    "\n",
    "# To further inspect distribution of data in a column, you can use a histogram:\n",
    "\n",
    "df.plot(\n",
    "    kind=\"hist\",  # Specifies a histogram\n",
    "    y=\"distance\",  # Replace with a numeric column of interest\n",
    "    bins=20,  # Set the number of bins in the histogram\n",
    "    figsize=(12, 8)  # Set width & height in inches\n",
    ");\n"
   ]
  },
  {
   "cell_type": "code",
   "execution_count": null,
   "id": "19e33f16-2fe7-4b6e-b1c5-27b06beb93a7",
   "metadata": {},
   "outputs": [],
   "source": [
    "\n",
    "#You can use a bar plot to compare averages (and other aggregations!) of a numeric column across a categorical column:\n",
    "\n",
    "# Create a new DataFrame with a categorical column to group the data and a numeric column to aggregate\n",
    "# You can also use sum(), count(), and other aggregations instead of mean()\n",
    "df_bar = df.groupby([\"pickup_borough\"])[\"fare\"].mean()\n",
    "\n",
    "df_bar.plot(\n",
    "    kind=\"bar\",  # Specifies vertical bar plot\n",
    "    ylabel=\"Average fare\",  # Add a y-axis label\n",
    "    xlabel=\"Starting Borough\",  # Add a x-axis label\n",
    "    figsize=(15, 5)  # Set width & height in inches\n",
    ");"
   ]
  },
  {
   "cell_type": "code",
   "execution_count": null,
   "id": "77916b82-4732-4e72-8fca-3b09ba75e26d",
   "metadata": {},
   "outputs": [],
   "source": [
    "\n",
    "#If you have any date columns, you can use a lineplot to find patterns, such as seasonality:\n",
    "\n",
    "# Convert any date and/or time column to datetime format\n",
    "df[\"pickup\"] = pd.to_datetime(df[\"pickup\"])\n",
    "\n",
    "# Create a new DataFrame, group by the datetime column and choose an aggregation\n",
    "# On the datetime column, choose a time object, options can be found here:\n",
    "# https://pandas.pydata.org/pandas-docs/stable/user_guide/timeseries.html#time-date-components\n",
    "df_dates = df[\"pickup\"].groupby([df[\"pickup\"].dt.hour]).count()\n",
    "\n",
    "df_dates.plot(\n",
    "    kind=\"line\",  # Specifies line plot\n",
    "    ylabel=\"Number of trips\",  # Add a y-axis label\n",
    "    xlabel=\"Hour of the day\",  # Add a x-axis label\n",
    "    figsize=(15, 5)  # Set width & height in inches\n",
    ");\n"
   ]
  },
  {
   "cell_type": "code",
   "execution_count": null,
   "id": "51a7ed0d-143b-4566-9c3b-335ed59dba3a",
   "metadata": {},
   "outputs": [],
   "source": [
    "\n",
    "# Scatter plots are useful to investigate the relationship between two numeric variables:\n",
    "\n",
    "df.plot(\n",
    "    kind=\"scatter\",  # Specifies a scatter plot\n",
    "    x=\"distance\",  # Replace with a numeric column for the x-axis\n",
    "    y=\"fare\",  # Replace with a numeric column for the y-axis\n",
    "    figsize=(15, 5)  # Set width & height in inches\n",
    ");\n"
   ]
  },
  {
   "cell_type": "code",
   "execution_count": null,
   "id": "535f853b-d5dd-4f01-9464-43856728c8ff",
   "metadata": {},
   "outputs": [],
   "source": [
    "\n",
    "#To further explore relationships between columns, generate a correlation matrix using pandas' corr() function and a plot it with Seaborn's heatmap() function.\n",
    "\n",
    "# Generate and print pairwise correlation of columns\n",
    "cm = df.corr()\n",
    "print(cm)\n",
    "\n",
    "# Plot the correlation matrix nicely using Seaborn\n",
    "sn.heatmap(cm, annot=True)\n",
    "plt.show()\n",
    "\"\"\"\n",
    "Eager for more visualizations? Take a look at the documentation of the plot() function to see what other visualizations you can make.\n",
    "You can also take DataCamp courses to learn more about powerful Python visualization libraries,\n",
    "such as matplotlib, seaborn, and plotly!\n",
    "\"\"\""
   ]
  }
 ],
 "metadata": {
  "kernelspec": {
   "display_name": "Python 3 (ipykernel)",
   "language": "python",
   "name": "python3"
  },
  "language_info": {
   "codemirror_mode": {
    "name": "ipython",
    "version": 3
   },
   "file_extension": ".py",
   "mimetype": "text/x-python",
   "name": "python",
   "nbconvert_exporter": "python",
   "pygments_lexer": "ipython3",
   "version": "3.11.5"
  }
 },
 "nbformat": 4,
 "nbformat_minor": 5
}
