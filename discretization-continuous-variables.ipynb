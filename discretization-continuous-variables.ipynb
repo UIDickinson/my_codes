{
 "cells": [
  {
   "cell_type": "markdown",
   "id": "55ca1500",
   "metadata": {
    "execution": {
     "iopub.execute_input": "2022-09-18T08:47:45.863701Z",
     "iopub.status.busy": "2022-09-18T08:47:45.863300Z",
     "iopub.status.idle": "2022-09-18T08:47:45.869003Z",
     "shell.execute_reply": "2022-09-18T08:47:45.867575Z",
     "shell.execute_reply.started": "2022-09-18T08:47:45.863668Z"
    },
    "papermill": {
     "duration": 0.015022,
     "end_time": "2022-09-18T09:00:12.006022",
     "exception": false,
     "start_time": "2022-09-18T09:00:11.991000",
     "status": "completed"
    },
    "tags": []
   },
   "source": [
    "# importing libraries"
   ]
  },
  {
   "cell_type": "code",
   "execution_count": 1,
   "id": "4fde0437",
   "metadata": {
    "execution": {
     "iopub.execute_input": "2022-09-18T09:00:12.037459Z",
     "iopub.status.busy": "2022-09-18T09:00:12.036612Z",
     "iopub.status.idle": "2022-09-18T09:00:13.029040Z",
     "shell.execute_reply": "2022-09-18T09:00:13.028132Z"
    },
    "papermill": {
     "duration": 1.012217,
     "end_time": "2022-09-18T09:00:13.031926",
     "exception": false,
     "start_time": "2022-09-18T09:00:12.019709",
     "status": "completed"
    },
    "tags": []
   },
   "outputs": [],
   "source": [
    "import pandas as pd\n",
    "import numpy as np\n",
    "import matplotlib.pyplot as plt\n",
    "\n",
    "import seaborn as sns"
   ]
  },
  {
   "cell_type": "code",
   "execution_count": 2,
   "id": "ba2a7dfc",
   "metadata": {
    "_kg_hide-output": true,
    "execution": {
     "iopub.execute_input": "2022-09-18T09:00:13.061054Z",
     "iopub.status.busy": "2022-09-18T09:00:13.060673Z",
     "iopub.status.idle": "2022-09-18T09:00:25.807287Z",
     "shell.execute_reply": "2022-09-18T09:00:25.806018Z"
    },
    "papermill": {
     "duration": 12.764255,
     "end_time": "2022-09-18T09:00:25.809987",
     "exception": false,
     "start_time": "2022-09-18T09:00:13.045732",
     "status": "completed"
    },
    "tags": []
   },
   "outputs": [
    {
     "name": "stdout",
     "output_type": "stream",
     "text": [
      "Collecting feature-engine\r\n",
      "  Downloading feature_engine-1.4.0-py2.py3-none-any.whl (276 kB)\r\n",
      "\u001b[2K     \u001b[90m━━━━━━━━━━━━━━━━━━━━━━━━━━━━━━━━━━━━━━━\u001b[0m \u001b[32m276.4/276.4 kB\u001b[0m \u001b[31m6.1 MB/s\u001b[0m eta \u001b[36m0:00:00\u001b[0m\r\n",
      "\u001b[?25hRequirement already satisfied: scikit-learn>=1.0.0 in /opt/conda/lib/python3.7/site-packages (from feature-engine) (1.0.2)\r\n",
      "Requirement already satisfied: pandas>=1.0.3 in /opt/conda/lib/python3.7/site-packages (from feature-engine) (1.3.5)\r\n",
      "Requirement already satisfied: scipy>=1.4.1 in /opt/conda/lib/python3.7/site-packages (from feature-engine) (1.7.3)\r\n",
      "Requirement already satisfied: statsmodels>=0.11.1 in /opt/conda/lib/python3.7/site-packages (from feature-engine) (0.13.2)\r\n",
      "Requirement already satisfied: numpy>=1.18.2 in /opt/conda/lib/python3.7/site-packages (from feature-engine) (1.21.6)\r\n",
      "Requirement already satisfied: python-dateutil>=2.7.3 in /opt/conda/lib/python3.7/site-packages (from pandas>=1.0.3->feature-engine) (2.8.2)\r\n",
      "Requirement already satisfied: pytz>=2017.3 in /opt/conda/lib/python3.7/site-packages (from pandas>=1.0.3->feature-engine) (2022.1)\r\n",
      "Requirement already satisfied: joblib>=0.11 in /opt/conda/lib/python3.7/site-packages (from scikit-learn>=1.0.0->feature-engine) (1.0.1)\r\n",
      "Requirement already satisfied: threadpoolctl>=2.0.0 in /opt/conda/lib/python3.7/site-packages (from scikit-learn>=1.0.0->feature-engine) (3.1.0)\r\n",
      "Requirement already satisfied: packaging>=21.3 in /opt/conda/lib/python3.7/site-packages (from statsmodels>=0.11.1->feature-engine) (21.3)\r\n",
      "Requirement already satisfied: patsy>=0.5.2 in /opt/conda/lib/python3.7/site-packages (from statsmodels>=0.11.1->feature-engine) (0.5.2)\r\n",
      "Requirement already satisfied: pyparsing!=3.0.5,>=2.0.2 in /opt/conda/lib/python3.7/site-packages (from packaging>=21.3->statsmodels>=0.11.1->feature-engine) (3.0.9)\r\n",
      "Requirement already satisfied: six in /opt/conda/lib/python3.7/site-packages (from patsy>=0.5.2->statsmodels>=0.11.1->feature-engine) (1.15.0)\r\n",
      "Installing collected packages: feature-engine\r\n",
      "Successfully installed feature-engine-1.4.0\r\n",
      "\u001b[33mWARNING: Running pip as the 'root' user can result in broken permissions and conflicting behaviour with the system package manager. It is recommended to use a virtual environment instead: https://pip.pypa.io/warnings/venv\u001b[0m\u001b[33m\r\n",
      "\u001b[0m"
     ]
    }
   ],
   "source": [
    "!pip install feature-engine"
   ]
  },
  {
   "cell_type": "code",
   "execution_count": 3,
   "id": "6792fe15",
   "metadata": {
    "execution": {
     "iopub.execute_input": "2022-09-18T09:00:25.840794Z",
     "iopub.status.busy": "2022-09-18T09:00:25.840356Z",
     "iopub.status.idle": "2022-09-18T09:00:25.921854Z",
     "shell.execute_reply": "2022-09-18T09:00:25.920791Z"
    },
    "papermill": {
     "duration": 0.0996,
     "end_time": "2022-09-18T09:00:25.924147",
     "exception": false,
     "start_time": "2022-09-18T09:00:25.824547",
     "status": "completed"
    },
    "tags": []
   },
   "outputs": [
    {
     "data": {
      "text/html": [
       "<div>\n",
       "<style scoped>\n",
       "    .dataframe tbody tr th:only-of-type {\n",
       "        vertical-align: middle;\n",
       "    }\n",
       "\n",
       "    .dataframe tbody tr th {\n",
       "        vertical-align: top;\n",
       "    }\n",
       "\n",
       "    .dataframe thead th {\n",
       "        text-align: right;\n",
       "    }\n",
       "</style>\n",
       "<table border=\"1\" class=\"dataframe\">\n",
       "  <thead>\n",
       "    <tr style=\"text-align: right;\">\n",
       "      <th></th>\n",
       "      <th>PassengerId</th>\n",
       "      <th>HomePlanet</th>\n",
       "      <th>CryoSleep</th>\n",
       "      <th>Cabin</th>\n",
       "      <th>Destination</th>\n",
       "      <th>Age</th>\n",
       "      <th>VIP</th>\n",
       "      <th>RoomService</th>\n",
       "      <th>FoodCourt</th>\n",
       "      <th>ShoppingMall</th>\n",
       "      <th>Spa</th>\n",
       "      <th>VRDeck</th>\n",
       "      <th>Name</th>\n",
       "      <th>Transported</th>\n",
       "    </tr>\n",
       "  </thead>\n",
       "  <tbody>\n",
       "    <tr>\n",
       "      <th>0</th>\n",
       "      <td>0001_01</td>\n",
       "      <td>Europa</td>\n",
       "      <td>False</td>\n",
       "      <td>B/0/P</td>\n",
       "      <td>TRAPPIST-1e</td>\n",
       "      <td>39.0</td>\n",
       "      <td>False</td>\n",
       "      <td>0.0</td>\n",
       "      <td>0.0</td>\n",
       "      <td>0.0</td>\n",
       "      <td>0.0</td>\n",
       "      <td>0.0</td>\n",
       "      <td>Maham Ofracculy</td>\n",
       "      <td>False</td>\n",
       "    </tr>\n",
       "    <tr>\n",
       "      <th>1</th>\n",
       "      <td>0002_01</td>\n",
       "      <td>Earth</td>\n",
       "      <td>False</td>\n",
       "      <td>F/0/S</td>\n",
       "      <td>TRAPPIST-1e</td>\n",
       "      <td>24.0</td>\n",
       "      <td>False</td>\n",
       "      <td>109.0</td>\n",
       "      <td>9.0</td>\n",
       "      <td>25.0</td>\n",
       "      <td>549.0</td>\n",
       "      <td>44.0</td>\n",
       "      <td>Juanna Vines</td>\n",
       "      <td>True</td>\n",
       "    </tr>\n",
       "    <tr>\n",
       "      <th>2</th>\n",
       "      <td>0003_01</td>\n",
       "      <td>Europa</td>\n",
       "      <td>False</td>\n",
       "      <td>A/0/S</td>\n",
       "      <td>TRAPPIST-1e</td>\n",
       "      <td>58.0</td>\n",
       "      <td>True</td>\n",
       "      <td>43.0</td>\n",
       "      <td>3576.0</td>\n",
       "      <td>0.0</td>\n",
       "      <td>6715.0</td>\n",
       "      <td>49.0</td>\n",
       "      <td>Altark Susent</td>\n",
       "      <td>False</td>\n",
       "    </tr>\n",
       "    <tr>\n",
       "      <th>3</th>\n",
       "      <td>0003_02</td>\n",
       "      <td>Europa</td>\n",
       "      <td>False</td>\n",
       "      <td>A/0/S</td>\n",
       "      <td>TRAPPIST-1e</td>\n",
       "      <td>33.0</td>\n",
       "      <td>False</td>\n",
       "      <td>0.0</td>\n",
       "      <td>1283.0</td>\n",
       "      <td>371.0</td>\n",
       "      <td>3329.0</td>\n",
       "      <td>193.0</td>\n",
       "      <td>Solam Susent</td>\n",
       "      <td>False</td>\n",
       "    </tr>\n",
       "    <tr>\n",
       "      <th>4</th>\n",
       "      <td>0004_01</td>\n",
       "      <td>Earth</td>\n",
       "      <td>False</td>\n",
       "      <td>F/1/S</td>\n",
       "      <td>TRAPPIST-1e</td>\n",
       "      <td>16.0</td>\n",
       "      <td>False</td>\n",
       "      <td>303.0</td>\n",
       "      <td>70.0</td>\n",
       "      <td>151.0</td>\n",
       "      <td>565.0</td>\n",
       "      <td>2.0</td>\n",
       "      <td>Willy Santantines</td>\n",
       "      <td>True</td>\n",
       "    </tr>\n",
       "  </tbody>\n",
       "</table>\n",
       "</div>"
      ],
      "text/plain": [
       "  PassengerId HomePlanet CryoSleep  Cabin  Destination   Age    VIP  \\\n",
       "0     0001_01     Europa     False  B/0/P  TRAPPIST-1e  39.0  False   \n",
       "1     0002_01      Earth     False  F/0/S  TRAPPIST-1e  24.0  False   \n",
       "2     0003_01     Europa     False  A/0/S  TRAPPIST-1e  58.0   True   \n",
       "3     0003_02     Europa     False  A/0/S  TRAPPIST-1e  33.0  False   \n",
       "4     0004_01      Earth     False  F/1/S  TRAPPIST-1e  16.0  False   \n",
       "\n",
       "   RoomService  FoodCourt  ShoppingMall     Spa  VRDeck               Name  \\\n",
       "0          0.0        0.0           0.0     0.0     0.0    Maham Ofracculy   \n",
       "1        109.0        9.0          25.0   549.0    44.0       Juanna Vines   \n",
       "2         43.0     3576.0           0.0  6715.0    49.0      Altark Susent   \n",
       "3          0.0     1283.0         371.0  3329.0   193.0       Solam Susent   \n",
       "4        303.0       70.0         151.0   565.0     2.0  Willy Santantines   \n",
       "\n",
       "   Transported  \n",
       "0        False  \n",
       "1         True  \n",
       "2        False  \n",
       "3        False  \n",
       "4         True  "
      ]
     },
     "execution_count": 3,
     "metadata": {},
     "output_type": "execute_result"
    }
   ],
   "source": [
    "titanic=pd.read_csv('../input/spaceship-titanic/train.csv')\n",
    "titanic.head()"
   ]
  },
  {
   "cell_type": "markdown",
   "id": "20ef6798",
   "metadata": {
    "papermill": {
     "duration": 0.013911,
     "end_time": "2022-09-18T09:00:25.952842",
     "exception": false,
     "start_time": "2022-09-18T09:00:25.938931",
     "status": "completed"
    },
    "tags": []
   },
   "source": [
    "# Lets focus on Continuous varibles"
   ]
  },
  {
   "cell_type": "code",
   "execution_count": 4,
   "id": "c0daad8f",
   "metadata": {
    "execution": {
     "iopub.execute_input": "2022-09-18T09:00:25.982887Z",
     "iopub.status.busy": "2022-09-18T09:00:25.982487Z",
     "iopub.status.idle": "2022-09-18T09:00:26.015841Z",
     "shell.execute_reply": "2022-09-18T09:00:26.014640Z"
    },
    "papermill": {
     "duration": 0.051433,
     "end_time": "2022-09-18T09:00:26.018473",
     "exception": false,
     "start_time": "2022-09-18T09:00:25.967040",
     "status": "completed"
    },
    "tags": []
   },
   "outputs": [],
   "source": [
    "# all the numerical features are continuous in nature here\n",
    "num_features=titanic.describe().columns.tolist()"
   ]
  },
  {
   "cell_type": "code",
   "execution_count": 5,
   "id": "b27f04b5",
   "metadata": {
    "execution": {
     "iopub.execute_input": "2022-09-18T09:00:26.048690Z",
     "iopub.status.busy": "2022-09-18T09:00:26.048288Z",
     "iopub.status.idle": "2022-09-18T09:00:26.233704Z",
     "shell.execute_reply": "2022-09-18T09:00:26.232508Z"
    },
    "papermill": {
     "duration": 0.203351,
     "end_time": "2022-09-18T09:00:26.236397",
     "exception": false,
     "start_time": "2022-09-18T09:00:26.033046",
     "status": "completed"
    },
    "tags": []
   },
   "outputs": [],
   "source": [
    "from sklearn.model_selection import train_test_split\n",
    "X_train, X_test, y_train, y_test = train_test_split(\n",
    " titanic[num_features], titanic[\"Transported\"], test_size=0.3,\n",
    " random_state=0)"
   ]
  },
  {
   "cell_type": "code",
   "execution_count": 6,
   "id": "71be6bab",
   "metadata": {
    "execution": {
     "iopub.execute_input": "2022-09-18T09:00:26.266464Z",
     "iopub.status.busy": "2022-09-18T09:00:26.266056Z",
     "iopub.status.idle": "2022-09-18T09:00:26.282653Z",
     "shell.execute_reply": "2022-09-18T09:00:26.281531Z"
    },
    "papermill": {
     "duration": 0.034235,
     "end_time": "2022-09-18T09:00:26.284873",
     "exception": false,
     "start_time": "2022-09-18T09:00:26.250638",
     "status": "completed"
    },
    "tags": []
   },
   "outputs": [
    {
     "data": {
      "text/html": [
       "<div>\n",
       "<style scoped>\n",
       "    .dataframe tbody tr th:only-of-type {\n",
       "        vertical-align: middle;\n",
       "    }\n",
       "\n",
       "    .dataframe tbody tr th {\n",
       "        vertical-align: top;\n",
       "    }\n",
       "\n",
       "    .dataframe thead th {\n",
       "        text-align: right;\n",
       "    }\n",
       "</style>\n",
       "<table border=\"1\" class=\"dataframe\">\n",
       "  <thead>\n",
       "    <tr style=\"text-align: right;\">\n",
       "      <th></th>\n",
       "      <th>Age</th>\n",
       "      <th>RoomService</th>\n",
       "      <th>FoodCourt</th>\n",
       "      <th>ShoppingMall</th>\n",
       "      <th>Spa</th>\n",
       "      <th>VRDeck</th>\n",
       "    </tr>\n",
       "  </thead>\n",
       "  <tbody>\n",
       "    <tr>\n",
       "      <th>7289</th>\n",
       "      <td>64.0</td>\n",
       "      <td>19.0</td>\n",
       "      <td>261.0</td>\n",
       "      <td>208.0</td>\n",
       "      <td>0.0</td>\n",
       "      <td>214.0</td>\n",
       "    </tr>\n",
       "    <tr>\n",
       "      <th>2709</th>\n",
       "      <td>24.0</td>\n",
       "      <td>NaN</td>\n",
       "      <td>2.0</td>\n",
       "      <td>25.0</td>\n",
       "      <td>NaN</td>\n",
       "      <td>707.0</td>\n",
       "    </tr>\n",
       "    <tr>\n",
       "      <th>6803</th>\n",
       "      <td>44.0</td>\n",
       "      <td>0.0</td>\n",
       "      <td>0.0</td>\n",
       "      <td>16.0</td>\n",
       "      <td>72.0</td>\n",
       "      <td>4304.0</td>\n",
       "    </tr>\n",
       "    <tr>\n",
       "      <th>3731</th>\n",
       "      <td>34.0</td>\n",
       "      <td>0.0</td>\n",
       "      <td>847.0</td>\n",
       "      <td>14.0</td>\n",
       "      <td>0.0</td>\n",
       "      <td>0.0</td>\n",
       "    </tr>\n",
       "    <tr>\n",
       "      <th>6333</th>\n",
       "      <td>13.0</td>\n",
       "      <td>0.0</td>\n",
       "      <td>0.0</td>\n",
       "      <td>0.0</td>\n",
       "      <td>0.0</td>\n",
       "      <td>0.0</td>\n",
       "    </tr>\n",
       "  </tbody>\n",
       "</table>\n",
       "</div>"
      ],
      "text/plain": [
       "       Age  RoomService  FoodCourt  ShoppingMall   Spa  VRDeck\n",
       "7289  64.0         19.0      261.0         208.0   0.0   214.0\n",
       "2709  24.0          NaN        2.0          25.0   NaN   707.0\n",
       "6803  44.0          0.0        0.0          16.0  72.0  4304.0\n",
       "3731  34.0          0.0      847.0          14.0   0.0     0.0\n",
       "6333  13.0          0.0        0.0           0.0   0.0     0.0"
      ]
     },
     "execution_count": 6,
     "metadata": {},
     "output_type": "execute_result"
    }
   ],
   "source": [
    "X_train.head()"
   ]
  },
  {
   "cell_type": "code",
   "execution_count": 7,
   "id": "26f67275",
   "metadata": {
    "execution": {
     "iopub.execute_input": "2022-09-18T09:00:26.315903Z",
     "iopub.status.busy": "2022-09-18T09:00:26.315200Z",
     "iopub.status.idle": "2022-09-18T09:00:26.327063Z",
     "shell.execute_reply": "2022-09-18T09:00:26.325977Z"
    },
    "papermill": {
     "duration": 0.030156,
     "end_time": "2022-09-18T09:00:26.329534",
     "exception": false,
     "start_time": "2022-09-18T09:00:26.299378",
     "status": "completed"
    },
    "tags": []
   },
   "outputs": [],
   "source": [
    "#filling null values using median of train set\n",
    "\n",
    "X_train.fillna(X_train.median(),inplace=True)\n",
    "X_test.fillna(X_train.median(),inplace=True)"
   ]
  },
  {
   "cell_type": "code",
   "execution_count": 8,
   "id": "f156ad54",
   "metadata": {
    "execution": {
     "iopub.execute_input": "2022-09-18T09:00:26.359971Z",
     "iopub.status.busy": "2022-09-18T09:00:26.359566Z",
     "iopub.status.idle": "2022-09-18T09:00:26.374469Z",
     "shell.execute_reply": "2022-09-18T09:00:26.373684Z"
    },
    "papermill": {
     "duration": 0.032335,
     "end_time": "2022-09-18T09:00:26.376451",
     "exception": false,
     "start_time": "2022-09-18T09:00:26.344116",
     "status": "completed"
    },
    "tags": []
   },
   "outputs": [
    {
     "data": {
      "text/html": [
       "<div>\n",
       "<style scoped>\n",
       "    .dataframe tbody tr th:only-of-type {\n",
       "        vertical-align: middle;\n",
       "    }\n",
       "\n",
       "    .dataframe tbody tr th {\n",
       "        vertical-align: top;\n",
       "    }\n",
       "\n",
       "    .dataframe thead th {\n",
       "        text-align: right;\n",
       "    }\n",
       "</style>\n",
       "<table border=\"1\" class=\"dataframe\">\n",
       "  <thead>\n",
       "    <tr style=\"text-align: right;\">\n",
       "      <th></th>\n",
       "      <th>Age</th>\n",
       "      <th>RoomService</th>\n",
       "      <th>FoodCourt</th>\n",
       "      <th>ShoppingMall</th>\n",
       "      <th>Spa</th>\n",
       "      <th>VRDeck</th>\n",
       "    </tr>\n",
       "  </thead>\n",
       "  <tbody>\n",
       "    <tr>\n",
       "      <th>3601</th>\n",
       "      <td>16.0</td>\n",
       "      <td>0.0</td>\n",
       "      <td>0.0</td>\n",
       "      <td>623.0</td>\n",
       "      <td>40.0</td>\n",
       "      <td>209.0</td>\n",
       "    </tr>\n",
       "    <tr>\n",
       "      <th>6057</th>\n",
       "      <td>2.0</td>\n",
       "      <td>0.0</td>\n",
       "      <td>0.0</td>\n",
       "      <td>0.0</td>\n",
       "      <td>0.0</td>\n",
       "      <td>0.0</td>\n",
       "    </tr>\n",
       "    <tr>\n",
       "      <th>2797</th>\n",
       "      <td>31.0</td>\n",
       "      <td>517.0</td>\n",
       "      <td>1.0</td>\n",
       "      <td>301.0</td>\n",
       "      <td>60.0</td>\n",
       "      <td>4.0</td>\n",
       "    </tr>\n",
       "    <tr>\n",
       "      <th>7110</th>\n",
       "      <td>14.0</td>\n",
       "      <td>653.0</td>\n",
       "      <td>0.0</td>\n",
       "      <td>4.0</td>\n",
       "      <td>0.0</td>\n",
       "      <td>0.0</td>\n",
       "    </tr>\n",
       "    <tr>\n",
       "      <th>8579</th>\n",
       "      <td>30.0</td>\n",
       "      <td>0.0</td>\n",
       "      <td>0.0</td>\n",
       "      <td>0.0</td>\n",
       "      <td>0.0</td>\n",
       "      <td>0.0</td>\n",
       "    </tr>\n",
       "  </tbody>\n",
       "</table>\n",
       "</div>"
      ],
      "text/plain": [
       "       Age  RoomService  FoodCourt  ShoppingMall   Spa  VRDeck\n",
       "3601  16.0          0.0        0.0         623.0  40.0   209.0\n",
       "6057   2.0          0.0        0.0           0.0   0.0     0.0\n",
       "2797  31.0        517.0        1.0         301.0  60.0     4.0\n",
       "7110  14.0        653.0        0.0           4.0   0.0     0.0\n",
       "8579  30.0          0.0        0.0           0.0   0.0     0.0"
      ]
     },
     "execution_count": 8,
     "metadata": {},
     "output_type": "execute_result"
    }
   ],
   "source": [
    "X_test.head()"
   ]
  },
  {
   "cell_type": "markdown",
   "id": "5dbb635d",
   "metadata": {
    "papermill": {
     "duration": 0.014425,
     "end_time": "2022-09-18T09:00:26.405536",
     "exception": false,
     "start_time": "2022-09-18T09:00:26.391111",
     "status": "completed"
    },
    "tags": []
   },
   "source": [
    "# Discretization\n",
    "**Discretization, or binning, is the process of transforming continuous variables into discrete\n",
    "variables by creating a set of contiguous intervals, also called bins, that span the range of\n",
    "the variable values. Discretization is used to change the distribution of skewed variables\n",
    "and to minimize the influence of outliers, and hence improve the performance of some\n",
    "machine learning models.**\n",
    "\n",
    "## Types of Discretization\n",
    " * **UnSupervised** --> This technique does not uses any information other than the varible own distribution to create bins\n",
    " * **Supervised** -- > this tehcnique uses the target information  to create bins"
   ]
  },
  {
   "cell_type": "markdown",
   "id": "f999fa11",
   "metadata": {
    "papermill": {
     "duration": 0.014515,
     "end_time": "2022-09-18T09:00:26.434739",
     "exception": false,
     "start_time": "2022-09-18T09:00:26.420224",
     "status": "completed"
    },
    "tags": []
   },
   "source": [
    "# Unsupervised Binning"
   ]
  },
  {
   "attachments": {
    "274b9c6c-4975-47dd-947c-74968c66fac6.png": {
     "image/png": "[encoded data removed]"
    }
   },
   "cell_type": "markdown",
   "id": "1eb559b5",
   "metadata": {
    "papermill": {
     "duration": 0.014278,
     "end_time": "2022-09-18T09:00:26.463756",
     "exception": false,
     "start_time": "2022-09-18T09:00:26.449478",
     "status": "completed"
    },
    "tags": []
   },
   "source": [
    "# 1. Equal width Binning\n",
    "the variable values are sorted into intervals of the same\n",
    "width. The number of intervals is decided arbitrarily and the width is determined by the\n",
    "range of values of the variable and the number of bins to create, so for the variable X, the\n",
    "interval width is given as follows:\n",
    "![image.png](attachment:274b9c6c-4975-47dd-947c-74968c66fac6.png)\n",
    "\n",
    "For example, if the values of the variable vary between 0 and 100, we can create five bins\n",
    "like this: width = (100-0) / 5 = 20; the bins will be 0-20, 20-40, 40-60, 80-100."
   ]
  },
  {
   "cell_type": "markdown",
   "id": "3a5abe43",
   "metadata": {
    "papermill": {
     "duration": 0.014332,
     "end_time": "2022-09-18T09:00:26.492745",
     "exception": false,
     "start_time": "2022-09-18T09:00:26.478413",
     "status": "completed"
    },
    "tags": []
   },
   "source": [
    "# Normal way"
   ]
  },
  {
   "cell_type": "code",
   "execution_count": 9,
   "id": "e60761ad",
   "metadata": {
    "execution": {
     "iopub.execute_input": "2022-09-18T09:00:26.524071Z",
     "iopub.status.busy": "2022-09-18T09:00:26.523399Z",
     "iopub.status.idle": "2022-09-18T09:00:26.531902Z",
     "shell.execute_reply": "2022-09-18T09:00:26.530831Z"
    },
    "papermill": {
     "duration": 0.026726,
     "end_time": "2022-09-18T09:00:26.534148",
     "exception": false,
     "start_time": "2022-09-18T09:00:26.507422",
     "status": "completed"
    },
    "tags": []
   },
   "outputs": [
    {
     "data": {
      "text/plain": [
       "7"
      ]
     },
     "execution_count": 9,
     "metadata": {},
     "output_type": "execute_result"
    }
   ],
   "source": [
    "# Lets Divide Age into 10 Bins\n",
    "X_train_copy=X_train.copy()\n",
    "X_test_copy=X_test.copy()\n",
    "# Applying the formula shown above\n",
    "maximum=X_train_copy['Age'].max()\n",
    "minimum=X_test_copy['Age'].min()\n",
    "roomRange= maximum - minimum \n",
    "width = int(roomRange/10)\n",
    "width\n",
    "\n",
    "#inerval width is shown in output"
   ]
  },
  {
   "cell_type": "code",
   "execution_count": 10,
   "id": "de305519",
   "metadata": {
    "execution": {
     "iopub.execute_input": "2022-09-18T09:00:26.565008Z",
     "iopub.status.busy": "2022-09-18T09:00:26.564608Z",
     "iopub.status.idle": "2022-09-18T09:00:26.570989Z",
     "shell.execute_reply": "2022-09-18T09:00:26.569790Z"
    },
    "papermill": {
     "duration": 0.024368,
     "end_time": "2022-09-18T09:00:26.573227",
     "exception": false,
     "start_time": "2022-09-18T09:00:26.548859",
     "status": "completed"
    },
    "tags": []
   },
   "outputs": [
    {
     "name": "stdout",
     "output_type": "stream",
     "text": [
      " min--> 0 \n",
      " max--> 79 \n",
      " inerval_width--> 7\n"
     ]
    }
   ],
   "source": [
    "# lets create new min and max values for our interval with rounded min and max values of RoomService\n",
    "min_value = int(np.floor(minimum))\n",
    "max_value = int(np.ceil( maximum))\n",
    "print(\" min-->\",min_value,\"\\n\",\"max-->\",max_value,\"\\n\",\"inerval_width-->\",width)"
   ]
  },
  {
   "cell_type": "markdown",
   "id": "a9e234f8",
   "metadata": {
    "papermill": {
     "duration": 0.014354,
     "end_time": "2022-09-18T09:00:26.602279",
     "exception": false,
     "start_time": "2022-09-18T09:00:26.587925",
     "status": "completed"
    },
    "tags": []
   },
   "source": [
    "## intervals"
   ]
  },
  {
   "cell_type": "code",
   "execution_count": 11,
   "id": "da958576",
   "metadata": {
    "execution": {
     "iopub.execute_input": "2022-09-18T09:00:26.633692Z",
     "iopub.status.busy": "2022-09-18T09:00:26.633069Z",
     "iopub.status.idle": "2022-09-18T09:00:26.639692Z",
     "shell.execute_reply": "2022-09-18T09:00:26.638693Z"
    },
    "papermill": {
     "duration": 0.024973,
     "end_time": "2022-09-18T09:00:26.641862",
     "exception": false,
     "start_time": "2022-09-18T09:00:26.616889",
     "status": "completed"
    },
    "tags": []
   },
   "outputs": [
    {
     "data": {
      "text/plain": [
       "[0, 7, 14, 21, 28, 35, 42, 49, 56, 63, 70, 77, 84]"
      ]
     },
     "execution_count": 11,
     "metadata": {},
     "output_type": "execute_result"
    }
   ],
   "source": [
    "intervals = [i for i in range(min_value, max_value + width,width)]\n",
    "intervals"
   ]
  },
  {
   "cell_type": "code",
   "execution_count": 12,
   "id": "1945c9b4",
   "metadata": {
    "execution": {
     "iopub.execute_input": "2022-09-18T09:00:26.673377Z",
     "iopub.status.busy": "2022-09-18T09:00:26.672945Z",
     "iopub.status.idle": "2022-09-18T09:00:26.692171Z",
     "shell.execute_reply": "2022-09-18T09:00:26.691030Z"
    },
    "papermill": {
     "duration": 0.037646,
     "end_time": "2022-09-18T09:00:26.694401",
     "exception": false,
     "start_time": "2022-09-18T09:00:26.656755",
     "status": "completed"
    },
    "tags": []
   },
   "outputs": [],
   "source": [
    "#To divide a pandas Series into intervals, we will use pandas' cut() method,\n",
    "X_train_copy['Age_Bins'] = pd.cut(x=X_train_copy['Age'], bins=intervals,\n",
    "include_lowest=True)\n",
    "X_test_copy['Age_Bins'] = pd.cut(x=X_test_copy['Age'], bins=intervals,\n",
    "include_lowest=True)"
   ]
  },
  {
   "cell_type": "code",
   "execution_count": 13,
   "id": "77e9b9a3",
   "metadata": {
    "execution": {
     "iopub.execute_input": "2022-09-18T09:00:26.725950Z",
     "iopub.status.busy": "2022-09-18T09:00:26.725548Z",
     "iopub.status.idle": "2022-09-18T09:00:26.744325Z",
     "shell.execute_reply": "2022-09-18T09:00:26.743275Z"
    },
    "papermill": {
     "duration": 0.03696,
     "end_time": "2022-09-18T09:00:26.746479",
     "exception": false,
     "start_time": "2022-09-18T09:00:26.709519",
     "status": "completed"
    },
    "tags": []
   },
   "outputs": [
    {
     "data": {
      "text/html": [
       "<div>\n",
       "<style scoped>\n",
       "    .dataframe tbody tr th:only-of-type {\n",
       "        vertical-align: middle;\n",
       "    }\n",
       "\n",
       "    .dataframe tbody tr th {\n",
       "        vertical-align: top;\n",
       "    }\n",
       "\n",
       "    .dataframe thead th {\n",
       "        text-align: right;\n",
       "    }\n",
       "</style>\n",
       "<table border=\"1\" class=\"dataframe\">\n",
       "  <thead>\n",
       "    <tr style=\"text-align: right;\">\n",
       "      <th></th>\n",
       "      <th>Age</th>\n",
       "      <th>RoomService</th>\n",
       "      <th>FoodCourt</th>\n",
       "      <th>ShoppingMall</th>\n",
       "      <th>Spa</th>\n",
       "      <th>VRDeck</th>\n",
       "      <th>Age_Bins</th>\n",
       "    </tr>\n",
       "  </thead>\n",
       "  <tbody>\n",
       "    <tr>\n",
       "      <th>7289</th>\n",
       "      <td>64.0</td>\n",
       "      <td>19.0</td>\n",
       "      <td>261.0</td>\n",
       "      <td>208.0</td>\n",
       "      <td>0.0</td>\n",
       "      <td>214.0</td>\n",
       "      <td>(63.0, 70.0]</td>\n",
       "    </tr>\n",
       "    <tr>\n",
       "      <th>2709</th>\n",
       "      <td>24.0</td>\n",
       "      <td>0.0</td>\n",
       "      <td>2.0</td>\n",
       "      <td>25.0</td>\n",
       "      <td>0.0</td>\n",
       "      <td>707.0</td>\n",
       "      <td>(21.0, 28.0]</td>\n",
       "    </tr>\n",
       "    <tr>\n",
       "      <th>6803</th>\n",
       "      <td>44.0</td>\n",
       "      <td>0.0</td>\n",
       "      <td>0.0</td>\n",
       "      <td>16.0</td>\n",
       "      <td>72.0</td>\n",
       "      <td>4304.0</td>\n",
       "      <td>(42.0, 49.0]</td>\n",
       "    </tr>\n",
       "    <tr>\n",
       "      <th>3731</th>\n",
       "      <td>34.0</td>\n",
       "      <td>0.0</td>\n",
       "      <td>847.0</td>\n",
       "      <td>14.0</td>\n",
       "      <td>0.0</td>\n",
       "      <td>0.0</td>\n",
       "      <td>(28.0, 35.0]</td>\n",
       "    </tr>\n",
       "    <tr>\n",
       "      <th>6333</th>\n",
       "      <td>13.0</td>\n",
       "      <td>0.0</td>\n",
       "      <td>0.0</td>\n",
       "      <td>0.0</td>\n",
       "      <td>0.0</td>\n",
       "      <td>0.0</td>\n",
       "      <td>(7.0, 14.0]</td>\n",
       "    </tr>\n",
       "  </tbody>\n",
       "</table>\n",
       "</div>"
      ],
      "text/plain": [
       "       Age  RoomService  FoodCourt  ShoppingMall   Spa  VRDeck      Age_Bins\n",
       "7289  64.0         19.0      261.0         208.0   0.0   214.0  (63.0, 70.0]\n",
       "2709  24.0          0.0        2.0          25.0   0.0   707.0  (21.0, 28.0]\n",
       "6803  44.0          0.0        0.0          16.0  72.0  4304.0  (42.0, 49.0]\n",
       "3731  34.0          0.0      847.0          14.0   0.0     0.0  (28.0, 35.0]\n",
       "6333  13.0          0.0        0.0           0.0   0.0     0.0   (7.0, 14.0]"
      ]
     },
     "execution_count": 13,
     "metadata": {},
     "output_type": "execute_result"
    }
   ],
   "source": [
    "X_train_copy.head()\n",
    "#In equal-width discretization, there is usually a different number of observations per interval."
   ]
  },
  {
   "cell_type": "markdown",
   "id": "66a17918",
   "metadata": {
    "papermill": {
     "duration": 0.015017,
     "end_time": "2022-09-18T09:00:26.776793",
     "exception": false,
     "start_time": "2022-09-18T09:00:26.761776",
     "status": "completed"
    },
    "tags": []
   },
   "source": [
    "## If the variable distribution in the train and test sets are similar, we should expect a similar proportion of observations across the Age_Bins intervals in the train and test sets.\n"
   ]
  },
  {
   "cell_type": "code",
   "execution_count": 14,
   "id": "3f23c162",
   "metadata": {
    "execution": {
     "iopub.execute_input": "2022-09-18T09:00:26.809362Z",
     "iopub.status.busy": "2022-09-18T09:00:26.808553Z",
     "iopub.status.idle": "2022-09-18T09:00:27.164402Z",
     "shell.execute_reply": "2022-09-18T09:00:27.163224Z"
    },
    "papermill": {
     "duration": 0.374771,
     "end_time": "2022-09-18T09:00:27.166755",
     "exception": false,
     "start_time": "2022-09-18T09:00:26.791984",
     "status": "completed"
    },
    "tags": []
   },
   "outputs": [
    {
     "data": {
      "image/png": "[encoded data removed]",
      "text/plain": [
       "<Figure size 432x288 with 1 Axes>"
      ]
     },
     "metadata": {
      "needs_background": "light"
     },
     "output_type": "display_data"
    }
   ],
   "source": [
    "t1 = X_train_copy['Age_Bins'].value_counts() / len(X_train)\n",
    "t2 = X_test_copy['Age_Bins'].value_counts() / len(X_test)\n",
    "tmp = pd.concat([t1, t2], axis=1)\n",
    "tmp.columns = ['train', 'test']\n",
    "tmp.plot.bar()\n",
    "plt.xticks(rotation=45)\n",
    "plt.ylabel('Number of observations per bin');"
   ]
  },
  {
   "cell_type": "markdown",
   "id": "176faa49",
   "metadata": {
    "execution": {
     "iopub.execute_input": "2022-09-18T04:43:16.261896Z",
     "iopub.status.busy": "2022-09-18T04:43:16.261489Z",
     "iopub.status.idle": "2022-09-18T04:43:16.269343Z",
     "shell.execute_reply": "2022-09-18T04:43:16.268090Z",
     "shell.execute_reply.started": "2022-09-18T04:43:16.261864Z"
    },
    "papermill": {
     "duration": 0.015244,
     "end_time": "2022-09-18T09:00:27.197753",
     "exception": false,
     "start_time": "2022-09-18T09:00:27.182509",
     "status": "completed"
    },
    "tags": []
   },
   "source": [
    "# Better Way"
   ]
  },
  {
   "cell_type": "code",
   "execution_count": 15,
   "id": "35c374d5",
   "metadata": {
    "execution": {
     "iopub.execute_input": "2022-09-18T09:00:27.230826Z",
     "iopub.status.busy": "2022-09-18T09:00:27.230104Z",
     "iopub.status.idle": "2022-09-18T09:00:27.235370Z",
     "shell.execute_reply": "2022-09-18T09:00:27.234575Z"
    },
    "papermill": {
     "duration": 0.024467,
     "end_time": "2022-09-18T09:00:27.237693",
     "exception": false,
     "start_time": "2022-09-18T09:00:27.213226",
     "status": "completed"
    },
    "tags": []
   },
   "outputs": [],
   "source": [
    "X_train_copy=X_train.copy()\n",
    "X_test_copy=X_test.copy()"
   ]
  },
  {
   "cell_type": "code",
   "execution_count": 16,
   "id": "60c3c3fc",
   "metadata": {
    "execution": {
     "iopub.execute_input": "2022-09-18T09:00:27.271996Z",
     "iopub.status.busy": "2022-09-18T09:00:27.271333Z",
     "iopub.status.idle": "2022-09-18T09:00:27.409787Z",
     "shell.execute_reply": "2022-09-18T09:00:27.408703Z"
    },
    "papermill": {
     "duration": 0.158676,
     "end_time": "2022-09-18T09:00:27.412643",
     "exception": false,
     "start_time": "2022-09-18T09:00:27.253967",
     "status": "completed"
    },
    "tags": []
   },
   "outputs": [],
   "source": [
    "from feature_engine.discretisation import EqualWidthDiscretiser"
   ]
  },
  {
   "cell_type": "code",
   "execution_count": 17,
   "id": "4c3de90a",
   "metadata": {
    "execution": {
     "iopub.execute_input": "2022-09-18T09:00:27.445969Z",
     "iopub.status.busy": "2022-09-18T09:00:27.445558Z",
     "iopub.status.idle": "2022-09-18T09:00:27.450589Z",
     "shell.execute_reply": "2022-09-18T09:00:27.449499Z"
    },
    "papermill": {
     "duration": 0.024285,
     "end_time": "2022-09-18T09:00:27.452762",
     "exception": false,
     "start_time": "2022-09-18T09:00:27.428477",
     "status": "completed"
    },
    "tags": []
   },
   "outputs": [],
   "source": [
    "widthDiscretiser=EqualWidthDiscretiser(bins=10,variables=[\"Age\"])\n",
    "#to know more about paramaters of this class \n"
   ]
  },
  {
   "cell_type": "markdown",
   "id": "1c99e478",
   "metadata": {
    "papermill": {
     "duration": 0.015352,
     "end_time": "2022-09-18T09:00:27.483778",
     "exception": false,
     "start_time": "2022-09-18T09:00:27.468426",
     "status": "completed"
    },
    "tags": []
   },
   "source": [
    "[Check the link](https://feature-engine.readthedocs.io/en/latest/user_guide/discretisation/EqualWidthDiscretiser.html)"
   ]
  },
  {
   "cell_type": "code",
   "execution_count": 18,
   "id": "6e72a11f",
   "metadata": {
    "execution": {
     "iopub.execute_input": "2022-09-18T09:00:27.517476Z",
     "iopub.status.busy": "2022-09-18T09:00:27.517033Z",
     "iopub.status.idle": "2022-09-18T09:00:27.530487Z",
     "shell.execute_reply": "2022-09-18T09:00:27.529500Z"
    },
    "papermill": {
     "duration": 0.032862,
     "end_time": "2022-09-18T09:00:27.532509",
     "exception": false,
     "start_time": "2022-09-18T09:00:27.499647",
     "status": "completed"
    },
    "tags": []
   },
   "outputs": [
    {
     "data": {
      "text/plain": [
       "{'Age': [-inf,\n",
       "  7.9,\n",
       "  15.8,\n",
       "  23.700000000000003,\n",
       "  31.6,\n",
       "  39.5,\n",
       "  47.400000000000006,\n",
       "  55.300000000000004,\n",
       "  63.2,\n",
       "  71.10000000000001,\n",
       "  inf]}"
      ]
     },
     "execution_count": 18,
     "metadata": {},
     "output_type": "execute_result"
    }
   ],
   "source": [
    "widthDiscretiser.fit(X_train_copy)\n",
    "widthDiscretiser.binner_dict_"
   ]
  },
  {
   "cell_type": "markdown",
   "id": "05a4be00",
   "metadata": {
    "papermill": {
     "duration": 0.01535,
     "end_time": "2022-09-18T09:00:27.563681",
     "exception": false,
     "start_time": "2022-09-18T09:00:27.548331",
     "status": "completed"
    },
    "tags": []
   },
   "source": [
    "## here the Number represents the bins (in age column)\n",
    "Example - 1 --> first bin, 5--> fift bin"
   ]
  },
  {
   "cell_type": "code",
   "execution_count": 19,
   "id": "cecc37be",
   "metadata": {
    "execution": {
     "iopub.execute_input": "2022-09-18T09:00:27.597168Z",
     "iopub.status.busy": "2022-09-18T09:00:27.596751Z",
     "iopub.status.idle": "2022-09-18T09:00:27.617610Z",
     "shell.execute_reply": "2022-09-18T09:00:27.616825Z"
    },
    "papermill": {
     "duration": 0.039828,
     "end_time": "2022-09-18T09:00:27.619574",
     "exception": false,
     "start_time": "2022-09-18T09:00:27.579746",
     "status": "completed"
    },
    "tags": []
   },
   "outputs": [
    {
     "data": {
      "text/html": [
       "<div>\n",
       "<style scoped>\n",
       "    .dataframe tbody tr th:only-of-type {\n",
       "        vertical-align: middle;\n",
       "    }\n",
       "\n",
       "    .dataframe tbody tr th {\n",
       "        vertical-align: top;\n",
       "    }\n",
       "\n",
       "    .dataframe thead th {\n",
       "        text-align: right;\n",
       "    }\n",
       "</style>\n",
       "<table border=\"1\" class=\"dataframe\">\n",
       "  <thead>\n",
       "    <tr style=\"text-align: right;\">\n",
       "      <th></th>\n",
       "      <th>Age</th>\n",
       "      <th>RoomService</th>\n",
       "      <th>FoodCourt</th>\n",
       "      <th>ShoppingMall</th>\n",
       "      <th>Spa</th>\n",
       "      <th>VRDeck</th>\n",
       "    </tr>\n",
       "  </thead>\n",
       "  <tbody>\n",
       "    <tr>\n",
       "      <th>3601</th>\n",
       "      <td>2</td>\n",
       "      <td>0.0</td>\n",
       "      <td>0.0</td>\n",
       "      <td>623.0</td>\n",
       "      <td>40.0</td>\n",
       "      <td>209.0</td>\n",
       "    </tr>\n",
       "    <tr>\n",
       "      <th>6057</th>\n",
       "      <td>0</td>\n",
       "      <td>0.0</td>\n",
       "      <td>0.0</td>\n",
       "      <td>0.0</td>\n",
       "      <td>0.0</td>\n",
       "      <td>0.0</td>\n",
       "    </tr>\n",
       "    <tr>\n",
       "      <th>2797</th>\n",
       "      <td>3</td>\n",
       "      <td>517.0</td>\n",
       "      <td>1.0</td>\n",
       "      <td>301.0</td>\n",
       "      <td>60.0</td>\n",
       "      <td>4.0</td>\n",
       "    </tr>\n",
       "    <tr>\n",
       "      <th>7110</th>\n",
       "      <td>1</td>\n",
       "      <td>653.0</td>\n",
       "      <td>0.0</td>\n",
       "      <td>4.0</td>\n",
       "      <td>0.0</td>\n",
       "      <td>0.0</td>\n",
       "    </tr>\n",
       "    <tr>\n",
       "      <th>8579</th>\n",
       "      <td>3</td>\n",
       "      <td>0.0</td>\n",
       "      <td>0.0</td>\n",
       "      <td>0.0</td>\n",
       "      <td>0.0</td>\n",
       "      <td>0.0</td>\n",
       "    </tr>\n",
       "  </tbody>\n",
       "</table>\n",
       "</div>"
      ],
      "text/plain": [
       "      Age  RoomService  FoodCourt  ShoppingMall   Spa  VRDeck\n",
       "3601    2          0.0        0.0         623.0  40.0   209.0\n",
       "6057    0          0.0        0.0           0.0   0.0     0.0\n",
       "2797    3        517.0        1.0         301.0  60.0     4.0\n",
       "7110    1        653.0        0.0           4.0   0.0     0.0\n",
       "8579    3          0.0        0.0           0.0   0.0     0.0"
      ]
     },
     "execution_count": 19,
     "metadata": {},
     "output_type": "execute_result"
    }
   ],
   "source": [
    "X_train_copy=widthDiscretiser.transform(X_train_copy)\n",
    "X_test_copy=widthDiscretiser.transform(X_test_copy)\n",
    "X_test_copy.head()"
   ]
  },
  {
   "cell_type": "code",
   "execution_count": 20,
   "id": "17e5db24",
   "metadata": {
    "execution": {
     "iopub.execute_input": "2022-09-18T09:00:27.653563Z",
     "iopub.status.busy": "2022-09-18T09:00:27.652743Z",
     "iopub.status.idle": "2022-09-18T09:00:27.915784Z",
     "shell.execute_reply": "2022-09-18T09:00:27.914945Z"
    },
    "papermill": {
     "duration": 0.282185,
     "end_time": "2022-09-18T09:00:27.917795",
     "exception": false,
     "start_time": "2022-09-18T09:00:27.635610",
     "status": "completed"
    },
    "tags": []
   },
   "outputs": [
    {
     "data": {
      "image/png": "[encoded data removed]",
      "text/plain": [
       "<Figure size 432x288 with 1 Axes>"
      ]
     },
     "metadata": {
      "needs_background": "light"
     },
     "output_type": "display_data"
    }
   ],
   "source": [
    "t1 = X_train_copy['Age'].value_counts() / len(X_train_copy)\n",
    "t2 = X_test_copy['Age'].value_counts() / len(X_test_copy)\n",
    "tmp = pd.concat([t1, t2], axis=1)\n",
    "tmp.columns = ['train', 'test']\n",
    "tmp.plot.bar()\n",
    "plt.xticks(rotation=45)\n",
    "plt.ylabel('Number of observations per bin');"
   ]
  },
  {
   "cell_type": "markdown",
   "id": "0c25ea35",
   "metadata": {
    "execution": {
     "iopub.execute_input": "2022-09-18T08:07:03.841167Z",
     "iopub.status.busy": "2022-09-18T08:07:03.840759Z",
     "iopub.status.idle": "2022-09-18T08:07:03.846932Z",
     "shell.execute_reply": "2022-09-18T08:07:03.845331Z",
     "shell.execute_reply.started": "2022-09-18T08:07:03.841134Z"
    },
    "papermill": {
     "duration": 0.016023,
     "end_time": "2022-09-18T09:00:27.950241",
     "exception": false,
     "start_time": "2022-09-18T09:00:27.934218",
     "status": "completed"
    },
    "tags": []
   },
   "source": [
    "# Distribution"
   ]
  },
  {
   "cell_type": "code",
   "execution_count": 21,
   "id": "7cfbdbad",
   "metadata": {
    "execution": {
     "iopub.execute_input": "2022-09-18T09:00:27.984646Z",
     "iopub.status.busy": "2022-09-18T09:00:27.983996Z",
     "iopub.status.idle": "2022-09-18T09:00:27.990357Z",
     "shell.execute_reply": "2022-09-18T09:00:27.989324Z"
    },
    "papermill": {
     "duration": 0.026169,
     "end_time": "2022-09-18T09:00:27.992679",
     "exception": false,
     "start_time": "2022-09-18T09:00:27.966510",
     "status": "completed"
    },
    "tags": []
   },
   "outputs": [],
   "source": [
    "def make_plot(X,X_copy,variable):\n",
    "    plt.figure(figsize=(12,6))\n",
    "    sns.countplot(x=X[variable])\n",
    "    plt.title(\"Before Binning \")\n",
    "    plt.show()\n",
    "    plt.figure(figsize=(12,6))\n",
    "    sns.countplot(x=X_copy[variable])\n",
    "    plt.title(\"After Binning \")\n",
    "    plt.show()\n",
    "    \n"
   ]
  },
  {
   "cell_type": "markdown",
   "id": "e3099f94",
   "metadata": {
    "papermill": {
     "duration": 0.015884,
     "end_time": "2022-09-18T09:00:28.024876",
     "exception": false,
     "start_time": "2022-09-18T09:00:28.008992",
     "status": "completed"
    },
    "tags": []
   },
   "source": [
    "## train"
   ]
  },
  {
   "cell_type": "code",
   "execution_count": 22,
   "id": "7350760d",
   "metadata": {
    "execution": {
     "iopub.execute_input": "2022-09-18T09:00:28.059145Z",
     "iopub.status.busy": "2022-09-18T09:00:28.058714Z",
     "iopub.status.idle": "2022-09-18T09:00:29.204212Z",
     "shell.execute_reply": "2022-09-18T09:00:29.203120Z"
    },
    "papermill": {
     "duration": 1.165466,
     "end_time": "2022-09-18T09:00:29.206515",
     "exception": false,
     "start_time": "2022-09-18T09:00:28.041049",
     "status": "completed"
    },
    "tags": []
   },
   "outputs": [
    {
     "data": {
      "image/png": "[encoded data removed]",
      "text/plain": [
       "<Figure size 864x432 with 1 Axes>"
      ]
     },
     "metadata": {
      "needs_background": "light"
     },
     "output_type": "display_data"
    },
    {
     "data": {
      "image/png": "[encoded data removed]",
      "text/plain": [
       "<Figure size 864x432 with 1 Axes>"
      ]
     },
     "metadata": {
      "needs_background": "light"
     },
     "output_type": "display_data"
    }
   ],
   "source": [
    "make_plot(X_train,X_train_copy,\"Age\")"
   ]
  },
  {
   "cell_type": "markdown",
   "id": "e9fb41ca",
   "metadata": {
    "papermill": {
     "duration": 0.016389,
     "end_time": "2022-09-18T09:00:29.239916",
     "exception": false,
     "start_time": "2022-09-18T09:00:29.223527",
     "status": "completed"
    },
    "tags": []
   },
   "source": [
    "## test"
   ]
  },
  {
   "cell_type": "code",
   "execution_count": 23,
   "id": "a9deb316",
   "metadata": {
    "execution": {
     "iopub.execute_input": "2022-09-18T09:00:29.275526Z",
     "iopub.status.busy": "2022-09-18T09:00:29.274916Z",
     "iopub.status.idle": "2022-09-18T09:00:30.398161Z",
     "shell.execute_reply": "2022-09-18T09:00:30.396997Z"
    },
    "papermill": {
     "duration": 1.14357,
     "end_time": "2022-09-18T09:00:30.400368",
     "exception": false,
     "start_time": "2022-09-18T09:00:29.256798",
     "status": "completed"
    },
    "tags": []
   },
   "outputs": [
    {
     "data": {
      "image/png": "[encoded data removed]",
      "text/plain": [
       "<Figure size 864x432 with 1 Axes>"
      ]
     },
     "metadata": {
      "needs_background": "light"
     },
     "output_type": "display_data"
    },
    {
     "data": {
      "image/png": "[encoded data removed]",
      "text/plain": [
       "<Figure size 864x432 with 1 Axes>"
      ]
     },
     "metadata": {
      "needs_background": "light"
     },
     "output_type": "display_data"
    }
   ],
   "source": [
    "make_plot(X_test,X_test_copy,\"Age\")"
   ]
  },
  {
   "cell_type": "code",
   "execution_count": 24,
   "id": "6c4eda06",
   "metadata": {
    "execution": {
     "iopub.execute_input": "2022-09-18T09:00:30.438010Z",
     "iopub.status.busy": "2022-09-18T09:00:30.436882Z",
     "iopub.status.idle": "2022-09-18T09:00:30.442809Z",
     "shell.execute_reply": "2022-09-18T09:00:30.441928Z"
    },
    "papermill": {
     "duration": 0.026942,
     "end_time": "2022-09-18T09:00:30.444858",
     "exception": false,
     "start_time": "2022-09-18T09:00:30.417916",
     "status": "completed"
    },
    "tags": []
   },
   "outputs": [],
   "source": [
    "# checking for outliers\n",
    "def box_plot(X,X_copy,variable):\n",
    "    plt.subplot(1,2,1)\n",
    "    X[variable].plot.box(title=\"Before discretization\")\n",
    "    plt.subplot(1,2,2)\n",
    "    X_copy[variable].plot.box(title=\"After discretization\");\n"
   ]
  },
  {
   "cell_type": "markdown",
   "id": "bd313fcf",
   "metadata": {
    "papermill": {
     "duration": 0.017115,
     "end_time": "2022-09-18T09:00:30.480884",
     "exception": false,
     "start_time": "2022-09-18T09:00:30.463769",
     "status": "completed"
    },
    "tags": []
   },
   "source": [
    "# oultliers"
   ]
  },
  {
   "cell_type": "markdown",
   "id": "30054e93",
   "metadata": {
    "execution": {
     "iopub.execute_input": "2022-09-18T08:21:45.286937Z",
     "iopub.status.busy": "2022-09-18T08:21:45.285576Z",
     "iopub.status.idle": "2022-09-18T08:21:45.292239Z",
     "shell.execute_reply": "2022-09-18T08:21:45.291020Z",
     "shell.execute_reply.started": "2022-09-18T08:21:45.286889Z"
    },
    "papermill": {
     "duration": 0.017014,
     "end_time": "2022-09-18T09:00:30.515164",
     "exception": false,
     "start_time": "2022-09-18T09:00:30.498150",
     "status": "completed"
    },
    "tags": []
   },
   "source": [
    "## train"
   ]
  },
  {
   "cell_type": "code",
   "execution_count": 25,
   "id": "1d685ff8",
   "metadata": {
    "execution": {
     "iopub.execute_input": "2022-09-18T09:00:30.552178Z",
     "iopub.status.busy": "2022-09-18T09:00:30.551525Z",
     "iopub.status.idle": "2022-09-18T09:00:30.968839Z",
     "shell.execute_reply": "2022-09-18T09:00:30.967983Z"
    },
    "papermill": {
     "duration": 0.438367,
     "end_time": "2022-09-18T09:00:30.970914",
     "exception": false,
     "start_time": "2022-09-18T09:00:30.532547",
     "status": "completed"
    },
    "tags": []
   },
   "outputs": [
    {
     "data": {
      "image/png": "[encoded data removed]",
      "text/plain": [
       "<Figure size 432x288 with 2 Axes>"
      ]
     },
     "metadata": {
      "needs_background": "light"
     },
     "output_type": "display_data"
    }
   ],
   "source": [
    "box_plot(X_train,X_train_copy,\"Age\")"
   ]
  },
  {
   "cell_type": "markdown",
   "id": "13bb8afd",
   "metadata": {
    "papermill": {
     "duration": 0.017554,
     "end_time": "2022-09-18T09:00:31.006720",
     "exception": false,
     "start_time": "2022-09-18T09:00:30.989166",
     "status": "completed"
    },
    "tags": []
   },
   "source": [
    "## test"
   ]
  },
  {
   "cell_type": "code",
   "execution_count": 26,
   "id": "b84a491a",
   "metadata": {
    "execution": {
     "iopub.execute_input": "2022-09-18T09:00:31.044319Z",
     "iopub.status.busy": "2022-09-18T09:00:31.043668Z",
     "iopub.status.idle": "2022-09-18T09:00:31.312892Z",
     "shell.execute_reply": "2022-09-18T09:00:31.312127Z"
    },
    "papermill": {
     "duration": 0.290613,
     "end_time": "2022-09-18T09:00:31.315039",
     "exception": false,
     "start_time": "2022-09-18T09:00:31.024426",
     "status": "completed"
    },
    "tags": []
   },
   "outputs": [
    {
     "data": {
      "image/png": "[encoded data removed]",
      "text/plain": [
       "<Figure size 432x288 with 2 Axes>"
      ]
     },
     "metadata": {
      "needs_background": "light"
     },
     "output_type": "display_data"
    }
   ],
   "source": [
    "box_plot(X_test,X_test_copy,\"Age\")"
   ]
  },
  {
   "cell_type": "markdown",
   "id": "793c1fc3",
   "metadata": {
    "papermill": {
     "duration": 0.017849,
     "end_time": "2022-09-18T09:00:31.351059",
     "exception": false,
     "start_time": "2022-09-18T09:00:31.333210",
     "status": "completed"
    },
    "tags": []
   },
   "source": [
    "# Equal Frequency Binning\n",
    "* Equal-frequency discretization divides the values of the variable into intervals that carry\n",
    "the same proportion of observations. The interval width is determined by quantiles, and\n",
    "therefore different intervals may have different widths\n",
    "* it consists of dividing the continuous variable into N quantiles,\n",
    "with N to be defined by the user\n"
   ]
  },
  {
   "cell_type": "markdown",
   "id": "3f8a0202",
   "metadata": {
    "papermill": {
     "duration": 0.017752,
     "end_time": "2022-09-18T09:00:31.386789",
     "exception": false,
     "start_time": "2022-09-18T09:00:31.369037",
     "status": "completed"
    },
    "tags": []
   },
   "source": [
    "## Normal Way "
   ]
  },
  {
   "cell_type": "code",
   "execution_count": 27,
   "id": "1fb6853d",
   "metadata": {
    "execution": {
     "iopub.execute_input": "2022-09-18T09:00:31.424760Z",
     "iopub.status.busy": "2022-09-18T09:00:31.424055Z",
     "iopub.status.idle": "2022-09-18T09:00:31.428752Z",
     "shell.execute_reply": "2022-09-18T09:00:31.427952Z"
    },
    "papermill": {
     "duration": 0.026008,
     "end_time": "2022-09-18T09:00:31.430795",
     "exception": false,
     "start_time": "2022-09-18T09:00:31.404787",
     "status": "completed"
    },
    "tags": []
   },
   "outputs": [],
   "source": [
    "X_train_copy=X_train.copy()\n",
    "X_test_copy=X_test.copy()"
   ]
  },
  {
   "cell_type": "code",
   "execution_count": 28,
   "id": "925fedbb",
   "metadata": {
    "execution": {
     "iopub.execute_input": "2022-09-18T09:00:31.469196Z",
     "iopub.status.busy": "2022-09-18T09:00:31.468598Z",
     "iopub.status.idle": "2022-09-18T09:00:31.479947Z",
     "shell.execute_reply": "2022-09-18T09:00:31.478809Z"
    },
    "papermill": {
     "duration": 0.033047,
     "end_time": "2022-09-18T09:00:31.482290",
     "exception": false,
     "start_time": "2022-09-18T09:00:31.449243",
     "status": "completed"
    },
    "tags": []
   },
   "outputs": [],
   "source": [
    "X_train_copy['Age_Bins'], intervals = pd.qcut(X_train['Age'], 10,\n",
    "labels=None, retbins=True)\n",
    "\n",
    "X_test_copy['Age_Bins'] = pd.cut(x = X_test_copy['Age'], bins=intervals)\n"
   ]
  },
  {
   "cell_type": "code",
   "execution_count": 29,
   "id": "7bfc4219",
   "metadata": {
    "execution": {
     "iopub.execute_input": "2022-09-18T09:00:31.519506Z",
     "iopub.status.busy": "2022-09-18T09:00:31.519107Z",
     "iopub.status.idle": "2022-09-18T09:00:31.523635Z",
     "shell.execute_reply": "2022-09-18T09:00:31.522485Z"
    },
    "papermill": {
     "duration": 0.025548,
     "end_time": "2022-09-18T09:00:31.525789",
     "exception": false,
     "start_time": "2022-09-18T09:00:31.500241",
     "status": "completed"
    },
    "tags": []
   },
   "outputs": [],
   "source": [
    "## see how the df b/w two intervals is not same "
   ]
  },
  {
   "cell_type": "code",
   "execution_count": 30,
   "id": "8ebca91a",
   "metadata": {
    "execution": {
     "iopub.execute_input": "2022-09-18T09:00:31.563396Z",
     "iopub.status.busy": "2022-09-18T09:00:31.562775Z",
     "iopub.status.idle": "2022-09-18T09:00:31.568698Z",
     "shell.execute_reply": "2022-09-18T09:00:31.567552Z"
    },
    "papermill": {
     "duration": 0.027477,
     "end_time": "2022-09-18T09:00:31.571202",
     "exception": false,
     "start_time": "2022-09-18T09:00:31.543725",
     "status": "completed"
    },
    "tags": []
   },
   "outputs": [
    {
     "name": "stdout",
     "output_type": "stream",
     "text": [
      "[ 0. 13. 18. 21. 24. 27. 30. 35. 40. 49. 79.]\n"
     ]
    }
   ],
   "source": [
    "print(intervals)"
   ]
  },
  {
   "cell_type": "code",
   "execution_count": 31,
   "id": "d0202d5e",
   "metadata": {
    "execution": {
     "iopub.execute_input": "2022-09-18T09:00:31.609633Z",
     "iopub.status.busy": "2022-09-18T09:00:31.608731Z",
     "iopub.status.idle": "2022-09-18T09:00:31.625457Z",
     "shell.execute_reply": "2022-09-18T09:00:31.624664Z"
    },
    "papermill": {
     "duration": 0.037898,
     "end_time": "2022-09-18T09:00:31.627445",
     "exception": false,
     "start_time": "2022-09-18T09:00:31.589547",
     "status": "completed"
    },
    "tags": []
   },
   "outputs": [
    {
     "data": {
      "text/html": [
       "<div>\n",
       "<style scoped>\n",
       "    .dataframe tbody tr th:only-of-type {\n",
       "        vertical-align: middle;\n",
       "    }\n",
       "\n",
       "    .dataframe tbody tr th {\n",
       "        vertical-align: top;\n",
       "    }\n",
       "\n",
       "    .dataframe thead th {\n",
       "        text-align: right;\n",
       "    }\n",
       "</style>\n",
       "<table border=\"1\" class=\"dataframe\">\n",
       "  <thead>\n",
       "    <tr style=\"text-align: right;\">\n",
       "      <th></th>\n",
       "      <th>Age</th>\n",
       "      <th>RoomService</th>\n",
       "      <th>FoodCourt</th>\n",
       "      <th>ShoppingMall</th>\n",
       "      <th>Spa</th>\n",
       "      <th>VRDeck</th>\n",
       "      <th>Age_Bins</th>\n",
       "    </tr>\n",
       "  </thead>\n",
       "  <tbody>\n",
       "    <tr>\n",
       "      <th>3601</th>\n",
       "      <td>16.0</td>\n",
       "      <td>0.0</td>\n",
       "      <td>0.0</td>\n",
       "      <td>623.0</td>\n",
       "      <td>40.0</td>\n",
       "      <td>209.0</td>\n",
       "      <td>(13.0, 18.0]</td>\n",
       "    </tr>\n",
       "    <tr>\n",
       "      <th>6057</th>\n",
       "      <td>2.0</td>\n",
       "      <td>0.0</td>\n",
       "      <td>0.0</td>\n",
       "      <td>0.0</td>\n",
       "      <td>0.0</td>\n",
       "      <td>0.0</td>\n",
       "      <td>(0.0, 13.0]</td>\n",
       "    </tr>\n",
       "    <tr>\n",
       "      <th>2797</th>\n",
       "      <td>31.0</td>\n",
       "      <td>517.0</td>\n",
       "      <td>1.0</td>\n",
       "      <td>301.0</td>\n",
       "      <td>60.0</td>\n",
       "      <td>4.0</td>\n",
       "      <td>(30.0, 35.0]</td>\n",
       "    </tr>\n",
       "    <tr>\n",
       "      <th>7110</th>\n",
       "      <td>14.0</td>\n",
       "      <td>653.0</td>\n",
       "      <td>0.0</td>\n",
       "      <td>4.0</td>\n",
       "      <td>0.0</td>\n",
       "      <td>0.0</td>\n",
       "      <td>(13.0, 18.0]</td>\n",
       "    </tr>\n",
       "    <tr>\n",
       "      <th>8579</th>\n",
       "      <td>30.0</td>\n",
       "      <td>0.0</td>\n",
       "      <td>0.0</td>\n",
       "      <td>0.0</td>\n",
       "      <td>0.0</td>\n",
       "      <td>0.0</td>\n",
       "      <td>(27.0, 30.0]</td>\n",
       "    </tr>\n",
       "  </tbody>\n",
       "</table>\n",
       "</div>"
      ],
      "text/plain": [
       "       Age  RoomService  FoodCourt  ShoppingMall   Spa  VRDeck      Age_Bins\n",
       "3601  16.0          0.0        0.0         623.0  40.0   209.0  (13.0, 18.0]\n",
       "6057   2.0          0.0        0.0           0.0   0.0     0.0   (0.0, 13.0]\n",
       "2797  31.0        517.0        1.0         301.0  60.0     4.0  (30.0, 35.0]\n",
       "7110  14.0        653.0        0.0           4.0   0.0     0.0  (13.0, 18.0]\n",
       "8579  30.0          0.0        0.0           0.0   0.0     0.0  (27.0, 30.0]"
      ]
     },
     "execution_count": 31,
     "metadata": {},
     "output_type": "execute_result"
    }
   ],
   "source": [
    "X_test_copy.head()"
   ]
  },
  {
   "cell_type": "markdown",
   "id": "4c23053d",
   "metadata": {
    "execution": {
     "iopub.execute_input": "2022-09-18T06:00:27.700482Z",
     "iopub.status.busy": "2022-09-18T06:00:27.700036Z",
     "iopub.status.idle": "2022-09-18T06:00:27.705950Z",
     "shell.execute_reply": "2022-09-18T06:00:27.704664Z",
     "shell.execute_reply.started": "2022-09-18T06:00:27.700442Z"
    },
    "papermill": {
     "duration": 0.018072,
     "end_time": "2022-09-18T09:00:31.664103",
     "exception": false,
     "start_time": "2022-09-18T09:00:31.646031",
     "status": "completed"
    },
    "tags": []
   },
   "source": [
    "## Better way"
   ]
  },
  {
   "cell_type": "code",
   "execution_count": 32,
   "id": "ff956c7b",
   "metadata": {
    "execution": {
     "iopub.execute_input": "2022-09-18T09:00:31.703250Z",
     "iopub.status.busy": "2022-09-18T09:00:31.702054Z",
     "iopub.status.idle": "2022-09-18T09:00:31.708134Z",
     "shell.execute_reply": "2022-09-18T09:00:31.707324Z"
    },
    "papermill": {
     "duration": 0.027611,
     "end_time": "2022-09-18T09:00:31.710193",
     "exception": false,
     "start_time": "2022-09-18T09:00:31.682582",
     "status": "completed"
    },
    "tags": []
   },
   "outputs": [],
   "source": [
    "X_train_copy=X_train.copy()\n",
    "X_test_copy=X_test.copy()\n",
    "\n",
    "from feature_engine.discretisation import  EqualFrequencyDiscretiser"
   ]
  },
  {
   "cell_type": "code",
   "execution_count": 33,
   "id": "a66ea552",
   "metadata": {
    "execution": {
     "iopub.execute_input": "2022-09-18T09:00:31.748840Z",
     "iopub.status.busy": "2022-09-18T09:00:31.747851Z",
     "iopub.status.idle": "2022-09-18T09:00:31.752918Z",
     "shell.execute_reply": "2022-09-18T09:00:31.752132Z"
    },
    "papermill": {
     "duration": 0.026496,
     "end_time": "2022-09-18T09:00:31.754910",
     "exception": false,
     "start_time": "2022-09-18T09:00:31.728414",
     "status": "completed"
    },
    "tags": []
   },
   "outputs": [],
   "source": [
    "frqDisc = EqualFrequencyDiscretiser(q=10,variables=[\"Age\"])"
   ]
  },
  {
   "cell_type": "code",
   "execution_count": 34,
   "id": "b3870edb",
   "metadata": {
    "execution": {
     "iopub.execute_input": "2022-09-18T09:00:31.793843Z",
     "iopub.status.busy": "2022-09-18T09:00:31.793139Z",
     "iopub.status.idle": "2022-09-18T09:00:31.805703Z",
     "shell.execute_reply": "2022-09-18T09:00:31.804933Z"
    },
    "papermill": {
     "duration": 0.034224,
     "end_time": "2022-09-18T09:00:31.807663",
     "exception": false,
     "start_time": "2022-09-18T09:00:31.773439",
     "status": "completed"
    },
    "tags": []
   },
   "outputs": [
    {
     "data": {
      "text/plain": [
       "{'Age': [-inf, 13.0, 18.0, 21.0, 24.0, 27.0, 30.0, 35.0, 40.0, 49.0, inf]}"
      ]
     },
     "execution_count": 34,
     "metadata": {},
     "output_type": "execute_result"
    }
   ],
   "source": [
    "frqDisc.fit(X_train_copy)\n",
    "frqDisc.binner_dict_"
   ]
  },
  {
   "cell_type": "code",
   "execution_count": 35,
   "id": "3da1025f",
   "metadata": {
    "execution": {
     "iopub.execute_input": "2022-09-18T09:00:31.846288Z",
     "iopub.status.busy": "2022-09-18T09:00:31.845588Z",
     "iopub.status.idle": "2022-09-18T09:00:31.856897Z",
     "shell.execute_reply": "2022-09-18T09:00:31.856090Z"
    },
    "papermill": {
     "duration": 0.032911,
     "end_time": "2022-09-18T09:00:31.858975",
     "exception": false,
     "start_time": "2022-09-18T09:00:31.826064",
     "status": "completed"
    },
    "tags": []
   },
   "outputs": [],
   "source": [
    "X_train_copy=frqDisc.transform(X_train_copy)\n",
    "X_test_copy=frqDisc.transform(X_test_copy)"
   ]
  },
  {
   "cell_type": "code",
   "execution_count": 36,
   "id": "28c64dc2",
   "metadata": {
    "execution": {
     "iopub.execute_input": "2022-09-18T09:00:31.897703Z",
     "iopub.status.busy": "2022-09-18T09:00:31.897010Z",
     "iopub.status.idle": "2022-09-18T09:00:31.910404Z",
     "shell.execute_reply": "2022-09-18T09:00:31.909630Z"
    },
    "papermill": {
     "duration": 0.035008,
     "end_time": "2022-09-18T09:00:31.912459",
     "exception": false,
     "start_time": "2022-09-18T09:00:31.877451",
     "status": "completed"
    },
    "tags": []
   },
   "outputs": [
    {
     "data": {
      "text/html": [
       "<div>\n",
       "<style scoped>\n",
       "    .dataframe tbody tr th:only-of-type {\n",
       "        vertical-align: middle;\n",
       "    }\n",
       "\n",
       "    .dataframe tbody tr th {\n",
       "        vertical-align: top;\n",
       "    }\n",
       "\n",
       "    .dataframe thead th {\n",
       "        text-align: right;\n",
       "    }\n",
       "</style>\n",
       "<table border=\"1\" class=\"dataframe\">\n",
       "  <thead>\n",
       "    <tr style=\"text-align: right;\">\n",
       "      <th></th>\n",
       "      <th>Age</th>\n",
       "      <th>RoomService</th>\n",
       "      <th>FoodCourt</th>\n",
       "      <th>ShoppingMall</th>\n",
       "      <th>Spa</th>\n",
       "      <th>VRDeck</th>\n",
       "    </tr>\n",
       "  </thead>\n",
       "  <tbody>\n",
       "    <tr>\n",
       "      <th>3601</th>\n",
       "      <td>1</td>\n",
       "      <td>0.0</td>\n",
       "      <td>0.0</td>\n",
       "      <td>623.0</td>\n",
       "      <td>40.0</td>\n",
       "      <td>209.0</td>\n",
       "    </tr>\n",
       "    <tr>\n",
       "      <th>6057</th>\n",
       "      <td>0</td>\n",
       "      <td>0.0</td>\n",
       "      <td>0.0</td>\n",
       "      <td>0.0</td>\n",
       "      <td>0.0</td>\n",
       "      <td>0.0</td>\n",
       "    </tr>\n",
       "    <tr>\n",
       "      <th>2797</th>\n",
       "      <td>6</td>\n",
       "      <td>517.0</td>\n",
       "      <td>1.0</td>\n",
       "      <td>301.0</td>\n",
       "      <td>60.0</td>\n",
       "      <td>4.0</td>\n",
       "    </tr>\n",
       "    <tr>\n",
       "      <th>7110</th>\n",
       "      <td>1</td>\n",
       "      <td>653.0</td>\n",
       "      <td>0.0</td>\n",
       "      <td>4.0</td>\n",
       "      <td>0.0</td>\n",
       "      <td>0.0</td>\n",
       "    </tr>\n",
       "    <tr>\n",
       "      <th>8579</th>\n",
       "      <td>5</td>\n",
       "      <td>0.0</td>\n",
       "      <td>0.0</td>\n",
       "      <td>0.0</td>\n",
       "      <td>0.0</td>\n",
       "      <td>0.0</td>\n",
       "    </tr>\n",
       "  </tbody>\n",
       "</table>\n",
       "</div>"
      ],
      "text/plain": [
       "      Age  RoomService  FoodCourt  ShoppingMall   Spa  VRDeck\n",
       "3601    1          0.0        0.0         623.0  40.0   209.0\n",
       "6057    0          0.0        0.0           0.0   0.0     0.0\n",
       "2797    6        517.0        1.0         301.0  60.0     4.0\n",
       "7110    1        653.0        0.0           4.0   0.0     0.0\n",
       "8579    5          0.0        0.0           0.0   0.0     0.0"
      ]
     },
     "execution_count": 36,
     "metadata": {},
     "output_type": "execute_result"
    }
   ],
   "source": [
    "# Numbers represent the qantiles here in Age column\n",
    "X_test_copy.head()"
   ]
  },
  {
   "cell_type": "markdown",
   "id": "b95d19a0",
   "metadata": {
    "papermill": {
     "duration": 0.018881,
     "end_time": "2022-09-18T09:00:31.950646",
     "exception": false,
     "start_time": "2022-09-18T09:00:31.931765",
     "status": "completed"
    },
    "tags": []
   },
   "source": [
    "# Distribution"
   ]
  },
  {
   "cell_type": "markdown",
   "id": "fe068e54",
   "metadata": {
    "execution": {
     "iopub.execute_input": "2022-09-18T08:20:29.855957Z",
     "iopub.status.busy": "2022-09-18T08:20:29.855526Z",
     "iopub.status.idle": "2022-09-18T08:20:29.861198Z",
     "shell.execute_reply": "2022-09-18T08:20:29.859916Z",
     "shell.execute_reply.started": "2022-09-18T08:20:29.855923Z"
    },
    "papermill": {
     "duration": 0.01821,
     "end_time": "2022-09-18T09:00:31.987635",
     "exception": false,
     "start_time": "2022-09-18T09:00:31.969425",
     "status": "completed"
    },
    "tags": []
   },
   "source": [
    "## train"
   ]
  },
  {
   "cell_type": "code",
   "execution_count": 37,
   "id": "1975ec38",
   "metadata": {
    "execution": {
     "iopub.execute_input": "2022-09-18T09:00:32.026838Z",
     "iopub.status.busy": "2022-09-18T09:00:32.026148Z",
     "iopub.status.idle": "2022-09-18T09:00:33.168039Z",
     "shell.execute_reply": "2022-09-18T09:00:33.166908Z"
    },
    "papermill": {
     "duration": 1.164394,
     "end_time": "2022-09-18T09:00:33.170668",
     "exception": false,
     "start_time": "2022-09-18T09:00:32.006274",
     "status": "completed"
    },
    "tags": []
   },
   "outputs": [
    {
     "data": {
      "image/png": "[encoded data removed]",
      "text/plain": [
       "<Figure size 864x432 with 1 Axes>"
      ]
     },
     "metadata": {
      "needs_background": "light"
     },
     "output_type": "display_data"
    },
    {
     "data": {
      "image/png": "[encoded data removed]",
      "text/plain": [
       "<Figure size 864x432 with 1 Axes>"
      ]
     },
     "metadata": {
      "needs_background": "light"
     },
     "output_type": "display_data"
    }
   ],
   "source": [
    "make_plot(X_train,X_train_copy,\"Age\")"
   ]
  },
  {
   "cell_type": "markdown",
   "id": "59df2180",
   "metadata": {
    "papermill": {
     "duration": 0.019106,
     "end_time": "2022-09-18T09:00:33.209396",
     "exception": false,
     "start_time": "2022-09-18T09:00:33.190290",
     "status": "completed"
    },
    "tags": []
   },
   "source": [
    "## test "
   ]
  },
  {
   "cell_type": "code",
   "execution_count": 38,
   "id": "0c6c3f33",
   "metadata": {
    "execution": {
     "iopub.execute_input": "2022-09-18T09:00:33.250324Z",
     "iopub.status.busy": "2022-09-18T09:00:33.249701Z",
     "iopub.status.idle": "2022-09-18T09:00:34.359921Z",
     "shell.execute_reply": "2022-09-18T09:00:34.359041Z"
    },
    "papermill": {
     "duration": 1.133606,
     "end_time": "2022-09-18T09:00:34.362357",
     "exception": false,
     "start_time": "2022-09-18T09:00:33.228751",
     "status": "completed"
    },
    "tags": []
   },
   "outputs": [
    {
     "data": {
      "image/png": "[encoded data removed]",
      "text/plain": [
       "<Figure size 864x432 with 1 Axes>"
      ]
     },
     "metadata": {
      "needs_background": "light"
     },
     "output_type": "display_data"
    },
    {
     "data": {
      "image/png": "[encoded data removed]",
      "text/plain": [
       "<Figure size 864x432 with 1 Axes>"
      ]
     },
     "metadata": {
      "needs_background": "light"
     },
     "output_type": "display_data"
    }
   ],
   "source": [
    "make_plot(X_test,X_test_copy,\"Age\")"
   ]
  },
  {
   "cell_type": "markdown",
   "id": "c9b8eb09",
   "metadata": {
    "papermill": {
     "duration": 0.019628,
     "end_time": "2022-09-18T09:00:34.402178",
     "exception": false,
     "start_time": "2022-09-18T09:00:34.382550",
     "status": "completed"
    },
    "tags": []
   },
   "source": [
    "# outliers"
   ]
  },
  {
   "cell_type": "markdown",
   "id": "bbe96faa",
   "metadata": {
    "papermill": {
     "duration": 0.019586,
     "end_time": "2022-09-18T09:00:34.441496",
     "exception": false,
     "start_time": "2022-09-18T09:00:34.421910",
     "status": "completed"
    },
    "tags": []
   },
   "source": [
    "## train"
   ]
  },
  {
   "cell_type": "code",
   "execution_count": 39,
   "id": "2f7446a2",
   "metadata": {
    "execution": {
     "iopub.execute_input": "2022-09-18T09:00:34.483552Z",
     "iopub.status.busy": "2022-09-18T09:00:34.482790Z",
     "iopub.status.idle": "2022-09-18T09:00:34.751445Z",
     "shell.execute_reply": "2022-09-18T09:00:34.750295Z"
    },
    "papermill": {
     "duration": 0.292053,
     "end_time": "2022-09-18T09:00:34.753773",
     "exception": false,
     "start_time": "2022-09-18T09:00:34.461720",
     "status": "completed"
    },
    "tags": []
   },
   "outputs": [
    {
     "data": {
      "image/png": "[encoded data removed]",
      "text/plain": [
       "<Figure size 432x288 with 2 Axes>"
      ]
     },
     "metadata": {
      "needs_background": "light"
     },
     "output_type": "display_data"
    }
   ],
   "source": [
    "box_plot(X_train,X_train_copy,\"Age\")"
   ]
  },
  {
   "cell_type": "markdown",
   "id": "75a29d97",
   "metadata": {
    "papermill": {
     "duration": 0.02001,
     "end_time": "2022-09-18T09:00:34.794212",
     "exception": false,
     "start_time": "2022-09-18T09:00:34.774202",
     "status": "completed"
    },
    "tags": []
   },
   "source": [
    "## test"
   ]
  },
  {
   "cell_type": "code",
   "execution_count": 40,
   "id": "d0a29507",
   "metadata": {
    "execution": {
     "iopub.execute_input": "2022-09-18T09:00:34.836514Z",
     "iopub.status.busy": "2022-09-18T09:00:34.836061Z",
     "iopub.status.idle": "2022-09-18T09:00:35.110218Z",
     "shell.execute_reply": "2022-09-18T09:00:35.109119Z"
    },
    "papermill": {
     "duration": 0.298131,
     "end_time": "2022-09-18T09:00:35.112521",
     "exception": false,
     "start_time": "2022-09-18T09:00:34.814390",
     "status": "completed"
    },
    "tags": []
   },
   "outputs": [
    {
     "data": {
      "image/png": "[encoded data removed]",
      "text/plain": [
       "<Figure size 432x288 with 2 Axes>"
      ]
     },
     "metadata": {
      "needs_background": "light"
     },
     "output_type": "display_data"
    }
   ],
   "source": [
    "box_plot(X_test,X_test_copy,\"Age\")"
   ]
  },
  {
   "cell_type": "code",
   "execution_count": null,
   "id": "bfdc5217",
   "metadata": {
    "papermill": {
     "duration": 0.020301,
     "end_time": "2022-09-18T09:00:35.153272",
     "exception": false,
     "start_time": "2022-09-18T09:00:35.132971",
     "status": "completed"
    },
    "tags": []
   },
   "outputs": [],
   "source": []
  }
 ],
 "metadata": {
  "kernelspec": {
   "display_name": "Python 3",
   "language": "python",
   "name": "python3"
  },
  "language_info": {
   "codemirror_mode": {
    "name": "ipython",
    "version": 3
   },
   "file_extension": ".py",
   "mimetype": "text/x-python",
   "name": "python",
   "nbconvert_exporter": "python",
   "pygments_lexer": "ipython3",
   "version": "3.7.12"
  },
  "papermill": {
   "default_parameters": {},
   "duration": 32.420962,
   "end_time": "2022-09-18T09:00:35.894955",
   "environment_variables": {},
   "exception": null,
   "input_path": "__notebook__.ipynb",
   "output_path": "__notebook__.ipynb",
   "parameters": {},
   "start_time": "2022-09-18T09:00:03.473993",
   "version": "2.3.4"
  }
 },
 "nbformat": 4,
 "nbformat_minor": 5
}
