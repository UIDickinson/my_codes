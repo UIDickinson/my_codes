{
 "cells": [
  {
   "cell_type": "markdown",
   "metadata": {
    "papermill": {
     "duration": 0.069874,
     "end_time": "2021-12-30T11:51:55.077253",
     "exception": false,
     "start_time": "2021-12-30T11:51:55.007379",
     "status": "completed"
    },
    "tags": []
   },
   "source": [
    "# **Categorical Encodings Made Easy: An Overview of Techniques**\n",
    "\n",
    "### **Note: More complete notebook on Categorical Encoding :**\n",
    "\n",
    "**Cats on a Hot Tin Roof: Cats Encoding Methods**\n",
    "\n",
    "https://www.kaggle.com/arashnic/cats-on-a-hot-tin-roof-cats-encoding-methods"
   ]
  },
  {
   "cell_type": "markdown",
   "metadata": {
    "papermill": {
     "duration": 0.066545,
     "end_time": "2021-12-30T11:51:55.210829",
     "exception": false,
     "start_time": "2021-12-30T11:51:55.144284",
     "status": "completed"
    },
    "tags": []
   },
   "source": [
    "## **Introduction**"
   ]
  },
  {
   "cell_type": "markdown",
   "metadata": {
    "papermill": {
     "duration": 0.065784,
     "end_time": "2021-12-30T11:51:55.345378",
     "exception": false,
     "start_time": "2021-12-30T11:51:55.279594",
     "status": "completed"
    },
    "tags": []
   },
   "source": [
    "The performance of a machine learning model not only depends on the model and the hyperparameters but also on how we process and feed different types of variables to the model. Since most machine learning models only accept numerical variables, preprocessing the categorical variables becomes a necessary step. We need to convert these categorical variables to numbers such that the model is able to understand and extract valuable information.\n",
    "\n",
    "\n",
    "\n",
    "Usually there are 2 kinds of categorical data:\n",
    "\n",
    "- Ordinal Data: The categories have an inherent order\n",
    "in Job Change dataset are:[ 'education_level', 'experience','company_size','last_new_job']\n",
    "- Nominal Data: The categories do not have an inherent order \n",
    "in Job chanege dataset are:['city','gender','enrolled_university','major_discipline', 'company_type','relevent_experience',]\n",
    "*(binary data could be nominal or ordinal)*\n",
    "\n",
    "Generally:\n",
    "In Ordinal data, while encoding, one should retain the information regarding the order in which the category is provided. \n",
    "\n",
    "While encoding Nominal data, we have to consider the presence or absence of a feature. In such a case, no notion of order is present. \n",
    "\n",
    "\n",
    "\n"
   ]
  },
  {
   "cell_type": "markdown",
   "metadata": {
    "papermill": {
     "duration": 0.065847,
     "end_time": "2021-12-30T11:51:55.477092",
     "exception": false,
     "start_time": "2021-12-30T11:51:55.411245",
     "status": "completed"
    },
    "tags": []
   },
   "source": [
    "So how should we select encoding methods is depends algorithm(s) we apply :\n",
    "        \n",
    "- Some algorithms can work with categorical data directly e.g LightGBM , CatBoost , or For example, a decision tree can be learned directly from categorical data with no data transform required (this depends on the specific implementation).\n",
    "\n",
    "- Many machine learning algorithms cannot operate on label data directly. They require all input variables and output variables to be numeric.\n",
    "\n",
    "- Some implementations of machine learning algorithms require all data to be numerical. For example, scikit-learn has this requirement.\n",
    "\n",
    "- If we categorize algorithms to linear and tree based models we sholuld consider that generally linear models are sensitive to order of ordinal data so we should select appropriate encoding methods. \n",
    "\n",
    "\n",
    "\n"
   ]
  },
  {
   "cell_type": "markdown",
   "metadata": {
    "papermill": {
     "duration": 0.065444,
     "end_time": "2021-12-30T11:51:55.608528",
     "exception": false,
     "start_time": "2021-12-30T11:51:55.543084",
     "status": "completed"
    },
    "tags": []
   },
   "source": [
    "![gif](https://lh3.googleusercontent.com/YyC6zhZXIRLiLa87ISWdqwujDaNENXkf1ZqLV6JSKB8a-NGn5aVD0WdRYuookPv9Bfr9-danuXOhfweUGJBMfY9QS59KdxXHspfWRj9e26x9HgiMjEcXP2Jp8IlibnDiLst_sr5P)"
   ]
  },
  {
   "cell_type": "markdown",
   "metadata": {
    "papermill": {
     "duration": 0.065737,
     "end_time": "2021-12-30T11:51:55.740955",
     "exception": false,
     "start_time": "2021-12-30T11:51:55.675218",
     "status": "completed"
    },
    "tags": []
   },
   "source": [
    ">## **Content:**\n",
    ">    \n",
    ">#### 1. Quick EDA\n",
    ">#### 2. Label Encoding, Ordinal Encoding\n",
    ">#### 3. One-Hot Encoding, Dummy Encoding\n",
    ">#### 4. Frequency Encoding\n",
    ">#### 5. Target Encoding\n",
    ">#### 6. Hash Encoding\n",
    ">#### 7. Weight of Evidence\n",
    ">#### 8. CatBoost and Cats\n",
    ">#### 9. LightGBM and Cats\n"
   ]
  },
  {
   "cell_type": "code",
   "execution_count": null,
   "metadata": {
    "papermill": {
     "duration": 0.066994,
     "end_time": "2021-12-30T11:51:55.873763",
     "exception": false,
     "start_time": "2021-12-30T11:51:55.806769",
     "status": "completed"
    },
    "tags": []
   },
   "outputs": [],
   "source": []
  },
  {
   "cell_type": "markdown",
   "metadata": {
    "papermill": {
     "duration": 0.066216,
     "end_time": "2021-12-30T11:51:56.006448",
     "exception": false,
     "start_time": "2021-12-30T11:51:55.940232",
     "status": "completed"
    },
    "tags": []
   },
   "source": [
    ">In this noteboo we will review some encoding techniques along side with applying some algorithms and base models, mostly with class weight as a technique to handle imbamced data. In most models using class weight parameter prevented overfiting and boosted the performance .  All models are as base and boosting is possible by applying advanced feat eng, feat selection, model tuning, applying other techniques for handling imbalanced data , ensemblibg and so on.\n",
    "\n",
    "Morever different imputing techniques applied according the applied algorithm . Some linear models required scaling before feeding to the models. You can apply your ideas on based models to boost performance.    \n"
   ]
  },
  {
   "cell_type": "code",
   "execution_count": 1,
   "metadata": {
    "execution": {
     "iopub.execute_input": "2021-12-30T11:51:56.143744Z",
     "iopub.status.busy": "2021-12-30T11:51:56.142745Z",
     "iopub.status.idle": "2021-12-30T11:51:56.168031Z",
     "shell.execute_reply": "2021-12-30T11:51:56.168597Z"
    },
    "papermill": {
     "duration": 0.09505,
     "end_time": "2021-12-30T11:51:56.168803",
     "exception": false,
     "start_time": "2021-12-30T11:51:56.073753",
     "status": "completed"
    },
    "tags": []
   },
   "outputs": [
    {
     "name": "stdout",
     "output_type": "stream",
     "text": [
      "/kaggle/input/job-change-dataset-answer/jobchange_test_target_values.npy\n",
      "/kaggle/input/hr-analytics-job-change-of-data-scientists/sample_submission.csv\n",
      "/kaggle/input/hr-analytics-job-change-of-data-scientists/aug_test.csv\n",
      "/kaggle/input/hr-analytics-job-change-of-data-scientists/aug_train.csv\n"
     ]
    }
   ],
   "source": [
    "# This Python 3 environment comes with many helpful analytics libraries installed\n",
    "# It is defined by the kaggle/python Docker image: https://github.com/kaggle/docker-python\n",
    "# For example, here's several helpful packages to load\n",
    "\n",
    "import numpy as np # linear algebra\n",
    "import pandas as pd # data processing, CSV file I/O (e.g. pd.read_csv)\n",
    "\n",
    "# Input data files are available in the read-only \"../input/\" directory\n",
    "# For example, running this (by clicking run or pressing Shift+Enter) will list all files under the input directory\n",
    "\n",
    "import os\n",
    "for dirname, _, filenames in os.walk('/kaggle/input'):\n",
    "    for filename in filenames:\n",
    "        print(os.path.join(dirname, filename))\n",
    "\n",
    "# You can write up to 20GB to the current directory (/kaggle/working/) that gets preserved as output when you create a version using \"Save & Run All\" \n",
    "# You can also write temporary files to /kaggle/temp/, but they won't be saved outside of the current session"
   ]
  },
  {
   "cell_type": "code",
   "execution_count": 2,
   "metadata": {
    "execution": {
     "iopub.execute_input": "2021-12-30T11:51:56.308353Z",
     "iopub.status.busy": "2021-12-30T11:51:56.307335Z",
     "iopub.status.idle": "2021-12-30T11:51:58.075463Z",
     "shell.execute_reply": "2021-12-30T11:51:58.074620Z"
    },
    "papermill": {
     "duration": 1.838409,
     "end_time": "2021-12-30T11:51:58.075611",
     "exception": false,
     "start_time": "2021-12-30T11:51:56.237202",
     "status": "completed"
    },
    "tags": []
   },
   "outputs": [
    {
     "data": {
      "text/html": [
       "<style type='text/css'>\n",
       ".datatable table.frame { margin-bottom: 0; }\n",
       ".datatable table.frame thead { border-bottom: none; }\n",
       ".datatable table.frame tr.coltypes td {  color: #FFFFFF;  line-height: 6px;  padding: 0 0.5em;}\n",
       ".datatable .bool    { background: #DDDD99; }\n",
       ".datatable .object  { background: #565656; }\n",
       ".datatable .int     { background: #5D9E5D; }\n",
       ".datatable .float   { background: #4040CC; }\n",
       ".datatable .str     { background: #CC4040; }\n",
       ".datatable .row_index {  background: var(--jp-border-color3);  border-right: 1px solid var(--jp-border-color0);  color: var(--jp-ui-font-color3);  font-size: 9px;}\n",
       ".datatable .frame tr.coltypes .row_index {  background: var(--jp-border-color0);}\n",
       ".datatable th:nth-child(2) { padding-left: 12px; }\n",
       ".datatable .hellipsis {  color: var(--jp-cell-editor-border-color);}\n",
       ".datatable .vellipsis {  background: var(--jp-layout-color0);  color: var(--jp-cell-editor-border-color);}\n",
       ".datatable .na {  color: var(--jp-cell-editor-border-color);  font-size: 80%;}\n",
       ".datatable .footer { font-size: 9px; }\n",
       ".datatable .frame_dimensions {  background: var(--jp-border-color3);  border-top: 1px solid var(--jp-border-color0);  color: var(--jp-ui-font-color3);  display: inline-block;  opacity: 0.6;  padding: 1px 10px 1px 5px;}\n",
       ".datatable .frame thead tr.colnames {  background-image: url('data:image/png;base64,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');  background-repeat: repeat-x;  background-size: 14px;  height: 28px;}\n",
       "</style>\n"
      ],
      "text/plain": [
       "<IPython.core.display.HTML object>"
      ]
     },
     "metadata": {},
     "output_type": "display_data"
    }
   ],
   "source": [
    "import numpy as np\n",
    "import pandas as pd\n",
    "import matplotlib.pyplot as plt\n",
    "import seaborn as sns\n",
    "%matplotlib inline \n",
    "plt.style.use('fivethirtyeight')\n",
    "from scipy import stats\n",
    "from scipy.stats import rankdata, norm\n",
    "\n",
    "from sklearn.preprocessing import LabelEncoder, OneHotEncoder, StandardScaler, MinMaxScaler, RobustScaler\n",
    "from sklearn.model_selection import train_test_split, KFold, GroupKFold, GridSearchCV, StratifiedKFold\n",
    "from sklearn.discriminant_analysis import QuadraticDiscriminantAnalysis, LinearDiscriminantAnalysis\n",
    "\n",
    "\n",
    "from sklearn.linear_model import LogisticRegression, PassiveAggressiveClassifier, RidgeClassifier, OrthogonalMatchingPursuit\n",
    "from sklearn.svm import SVC, NuSVC, LinearSVC\n",
    "from sklearn.neighbors import KNeighborsClassifier\n",
    "from sklearn.metrics import *\n",
    "\n",
    "from sklearn.experimental import enable_iterative_imputer\n",
    "from sklearn.impute import SimpleImputer, IterativeImputer\n",
    "import time, os, warnings, random, string, re, gc, sys\n",
    "\n",
    "import category_encoders as ce\n",
    "\n",
    "import lightgbm as lgb\n",
    "import catboost as cb\n",
    "\n",
    "\n",
    "\n",
    "if not sys.warnoptions:\n",
    "    import warnings\n",
    "    warnings.simplefilter(\"ignore\")\n",
    "    \n",
    "from IPython.display import display\n",
    "pd.set_option('display.max_colwidth', 300)\n",
    "\n",
    "def set_seed(seed=4242):\n",
    "    random.seed(seed)\n",
    "    np.random.seed(seed)\n",
    "    os.environ['PYTHONHASHSEED'] = str(seed)\n",
    "set_seed()\n",
    "\n"
   ]
  },
  {
   "cell_type": "code",
   "execution_count": 3,
   "metadata": {
    "execution": {
     "iopub.execute_input": "2021-12-30T11:51:58.219251Z",
     "iopub.status.busy": "2021-12-30T11:51:58.218520Z",
     "iopub.status.idle": "2021-12-30T11:51:58.329288Z",
     "shell.execute_reply": "2021-12-30T11:51:58.328563Z"
    },
    "papermill": {
     "duration": 0.182812,
     "end_time": "2021-12-30T11:51:58.329437",
     "exception": false,
     "start_time": "2021-12-30T11:51:58.146625",
     "status": "completed"
    },
    "tags": []
   },
   "outputs": [
    {
     "data": {
      "text/plain": [
       "((19158, 14), (2129, 13), (2129,))"
      ]
     },
     "execution_count": 3,
     "metadata": {},
     "output_type": "execute_result"
    }
   ],
   "source": [
    "train = pd.read_csv('/kaggle/input/hr-analytics-job-change-of-data-scientists/aug_train.csv')\n",
    "test = pd.read_csv('/kaggle/input/hr-analytics-job-change-of-data-scientists/aug_test.csv')\n",
    "answer = np.load('/kaggle/input/job-change-dataset-answer/jobchange_test_target_values.npy')\n",
    "\n",
    "train.shape, test.shape, answer.shape"
   ]
  },
  {
   "cell_type": "markdown",
   "metadata": {
    "papermill": {
     "duration": 0.070822,
     "end_time": "2021-12-30T11:51:58.470195",
     "exception": false,
     "start_time": "2021-12-30T11:51:58.399373",
     "status": "completed"
    },
    "tags": []
   },
   "source": [
    "## **Quick EDA**"
   ]
  },
  {
   "cell_type": "code",
   "execution_count": 4,
   "metadata": {
    "execution": {
     "iopub.execute_input": "2021-12-30T11:51:58.612962Z",
     "iopub.status.busy": "2021-12-30T11:51:58.612201Z",
     "iopub.status.idle": "2021-12-30T11:51:58.651979Z",
     "shell.execute_reply": "2021-12-30T11:51:58.652761Z"
    },
    "papermill": {
     "duration": 0.113798,
     "end_time": "2021-12-30T11:51:58.653011",
     "exception": false,
     "start_time": "2021-12-30T11:51:58.539213",
     "status": "completed"
    },
    "tags": []
   },
   "outputs": [
    {
     "name": "stdout",
     "output_type": "stream",
     "text": [
      "<class 'pandas.core.frame.DataFrame'>\n",
      "RangeIndex: 19158 entries, 0 to 19157\n",
      "Data columns (total 14 columns):\n",
      " #   Column                  Non-Null Count  Dtype  \n",
      "---  ------                  --------------  -----  \n",
      " 0   enrollee_id             19158 non-null  int64  \n",
      " 1   city                    19158 non-null  object \n",
      " 2   city_development_index  19158 non-null  float64\n",
      " 3   gender                  14650 non-null  object \n",
      " 4   relevent_experience     19158 non-null  object \n",
      " 5   enrolled_university     18772 non-null  object \n",
      " 6   education_level         18698 non-null  object \n",
      " 7   major_discipline        16345 non-null  object \n",
      " 8   experience              19093 non-null  object \n",
      " 9   company_size            13220 non-null  object \n",
      " 10  company_type            13018 non-null  object \n",
      " 11  last_new_job            18735 non-null  object \n",
      " 12  training_hours          19158 non-null  int64  \n",
      " 13  target                  19158 non-null  float64\n",
      "dtypes: float64(2), int64(2), object(10)\n",
      "memory usage: 2.0+ MB\n"
     ]
    }
   ],
   "source": [
    "train.info()"
   ]
  },
  {
   "cell_type": "code",
   "execution_count": 5,
   "metadata": {
    "execution": {
     "iopub.execute_input": "2021-12-30T11:51:58.801284Z",
     "iopub.status.busy": "2021-12-30T11:51:58.800526Z",
     "iopub.status.idle": "2021-12-30T11:51:58.805306Z",
     "shell.execute_reply": "2021-12-30T11:51:58.804634Z"
    },
    "papermill": {
     "duration": 0.082041,
     "end_time": "2021-12-30T11:51:58.805446",
     "exception": false,
     "start_time": "2021-12-30T11:51:58.723405",
     "status": "completed"
    },
    "tags": []
   },
   "outputs": [
    {
     "data": {
      "text/plain": [
       "['city',\n",
       " 'gender',\n",
       " 'relevent_experience',\n",
       " 'enrolled_university',\n",
       " 'education_level',\n",
       " 'major_discipline',\n",
       " 'experience',\n",
       " 'company_size',\n",
       " 'company_type',\n",
       " 'last_new_job']"
      ]
     },
     "execution_count": 5,
     "metadata": {},
     "output_type": "execute_result"
    }
   ],
   "source": [
    "cats = [c for c in train.columns if train[c].dtypes=='object']\n",
    "cats"
   ]
  },
  {
   "cell_type": "markdown",
   "metadata": {
    "papermill": {
     "duration": 0.069275,
     "end_time": "2021-12-30T11:51:58.944314",
     "exception": false,
     "start_time": "2021-12-30T11:51:58.875039",
     "status": "completed"
    },
    "tags": []
   },
   "source": [
    "Changin column name to be identified nominals and ordinals:"
   ]
  },
  {
   "cell_type": "code",
   "execution_count": 6,
   "metadata": {
    "execution": {
     "iopub.execute_input": "2021-12-30T11:51:59.097645Z",
     "iopub.status.busy": "2021-12-30T11:51:59.096886Z",
     "iopub.status.idle": "2021-12-30T11:51:59.101001Z",
     "shell.execute_reply": "2021-12-30T11:51:59.100364Z"
    },
    "papermill": {
     "duration": 0.085093,
     "end_time": "2021-12-30T11:51:59.101149",
     "exception": false,
     "start_time": "2021-12-30T11:51:59.016056",
     "status": "completed"
    },
    "tags": []
   },
   "outputs": [
    {
     "data": {
      "text/plain": [
       "['education_level_ord',\n",
       " 'experience_ord',\n",
       " 'company_size_ord',\n",
       " 'last_new_job_ord']"
      ]
     },
     "execution_count": 6,
     "metadata": {},
     "output_type": "execute_result"
    }
   ],
   "source": [
    "train.columns = ['enrollee_id', 'city_nom', 'city_development_index', 'gender_nom',\n",
    "       'relevent_experience_nom', 'enrolled_university_nom', 'education_level_ord',\n",
    "       'major_discipline_nom', 'experience_ord', 'company_size_ord', 'company_type_nom',\n",
    "       'last_new_job_ord', 'training_hours', 'target']\n",
    "\n",
    "test.columns = ['enrollee_id', 'city_nom', 'city_development_index', 'gender_nom',\n",
    "       'relevent_experience_nom', 'enrolled_university_nom', 'education_level_ord',\n",
    "       'major_discipline_nom', 'experience_ord', 'company_size_ord', 'company_type_nom',\n",
    "       'last_new_job_ord', 'training_hours']\n",
    "\n",
    "ordinals= [c for c in train.columns if 'ord' in c]\n",
    "nominals = [c for c in train.columns if 'nom' in c]\n",
    "ordinals"
   ]
  },
  {
   "cell_type": "code",
   "execution_count": 7,
   "metadata": {
    "execution": {
     "iopub.execute_input": "2021-12-30T11:51:59.250001Z",
     "iopub.status.busy": "2021-12-30T11:51:59.249278Z",
     "iopub.status.idle": "2021-12-30T11:51:59.519963Z",
     "shell.execute_reply": "2021-12-30T11:51:59.520846Z"
    },
    "papermill": {
     "duration": 0.349114,
     "end_time": "2021-12-30T11:51:59.521106",
     "exception": false,
     "start_time": "2021-12-30T11:51:59.171992",
     "status": "completed"
    },
    "tags": []
   },
   "outputs": [
    {
     "data": {
      "text/plain": [
       "<matplotlib.axes._subplots.AxesSubplot at 0x7febd94b07d0>"
      ]
     },
     "execution_count": 7,
     "metadata": {},
     "output_type": "execute_result"
    },
    {
     "data": {
      "image/png": "[encoded data removed]",
      "text/plain": [
       "<Figure size 432x288 with 1 Axes>"
      ]
     },
     "metadata": {},
     "output_type": "display_data"
    }
   ],
   "source": [
    "tr_orig = train.copy()\n",
    "ts_orig = test.copy()\n",
    "\n",
    "sns.countplot(train.target)"
   ]
  },
  {
   "cell_type": "markdown",
   "metadata": {
    "papermill": {
     "duration": 0.071613,
     "end_time": "2021-12-30T11:51:59.673815",
     "exception": false,
     "start_time": "2021-12-30T11:51:59.602202",
     "status": "completed"
    },
    "tags": []
   },
   "source": [
    "### Numerics"
   ]
  },
  {
   "cell_type": "code",
   "execution_count": 8,
   "metadata": {
    "execution": {
     "iopub.execute_input": "2021-12-30T11:51:59.830908Z",
     "iopub.status.busy": "2021-12-30T11:51:59.827118Z",
     "iopub.status.idle": "2021-12-30T11:52:00.586733Z",
     "shell.execute_reply": "2021-12-30T11:52:00.587256Z"
    },
    "papermill": {
     "duration": 0.841145,
     "end_time": "2021-12-30T11:52:00.587425",
     "exception": false,
     "start_time": "2021-12-30T11:51:59.746280",
     "status": "completed"
    },
    "tags": []
   },
   "outputs": [
    {
     "data": {
      "text/plain": [
       "Text(0.5, 1.0, 'Train Vs Test')"
      ]
     },
     "execution_count": 8,
     "metadata": {},
     "output_type": "execute_result"
    },
    {
     "data": {
      "image/png": "[encoded data removed]",
      "text/plain": [
       "<Figure size 1800x504 with 2 Axes>"
      ]
     },
     "metadata": {},
     "output_type": "display_data"
    }
   ],
   "source": [
    "fig, axs = plt.subplots(ncols=2, figsize=(25, 7))\n",
    "sns.distplot(train.city_development_index,bins=50,  fit=norm,kde=True,kde_kws={\"shade\": True}, norm_hist=True,  color='darkcyan', ax=axs[0])\n",
    "sns.distplot(train.training_hours,bins=50,  fit=norm,kde=True,kde_kws={\"shade\": True}, norm_hist=True,  color='darkcyan', ax=axs[1])\n",
    "axs[0].set_title('Train Vs Test')\n",
    "sns.distplot(test.city_development_index,bins=50,  fit=norm,kde=True,kde_kws={\"shade\": True}, norm_hist=True,  color='k', ax=axs[0])\n",
    "sns.distplot(test.training_hours,bins=50,  fit=norm,kde=True,kde_kws={\"shade\": True},norm_hist=True,  color='k', ax=axs[1])\n",
    "axs[1].set_title('Train Vs Test')"
   ]
  },
  {
   "cell_type": "code",
   "execution_count": 9,
   "metadata": {
    "execution": {
     "iopub.execute_input": "2021-12-30T11:52:00.744911Z",
     "iopub.status.busy": "2021-12-30T11:52:00.744211Z",
     "iopub.status.idle": "2021-12-30T11:52:01.546302Z",
     "shell.execute_reply": "2021-12-30T11:52:01.546846Z"
    },
    "papermill": {
     "duration": 0.885801,
     "end_time": "2021-12-30T11:52:01.546994",
     "exception": false,
     "start_time": "2021-12-30T11:52:00.661193",
     "status": "completed"
    },
    "tags": []
   },
   "outputs": [
    {
     "data": {
      "image/png": "[encoded data removed]",
      "text/plain": [
       "<Figure size 1800x504 with 2 Axes>"
      ]
     },
     "metadata": {},
     "output_type": "display_data"
    }
   ],
   "source": [
    "fig, axs = plt.subplots(ncols=2, figsize=(25, 7))\n",
    "sns.distplot(train[train.target==1].city_development_index,bins=50,  fit=norm,kde=True,kde_kws={\"shade\": True}, norm_hist=True,  color='teal', ax=axs[0])\n",
    "sns.distplot(train[train.target==0].city_development_index,bins=50,  fit=norm,kde=True,kde_kws={\"shade\": True}, norm_hist=True,  color='darkred', ax=axs[0])\n",
    "axs[0].set_title('Distribution of target values')\n",
    "\n",
    "sns.distplot(train[train.target==1].training_hours,bins=50,  fit=norm,kde=True,kde_kws={\"shade\": True}, norm_hist=True,  color='teal', ax=axs[1])\n",
    "sns.distplot(train[train.target==0].training_hours,bins=50,  fit=norm,kde=True,kde_kws={\"shade\": True},norm_hist=True,  color='darkred', ax=axs[1])\n",
    "axs[1].set_title('Distribution of target values')\n",
    "plt.show()"
   ]
  },
  {
   "cell_type": "code",
   "execution_count": 10,
   "metadata": {
    "execution": {
     "iopub.execute_input": "2021-12-30T11:52:01.706175Z",
     "iopub.status.busy": "2021-12-30T11:52:01.705454Z",
     "iopub.status.idle": "2021-12-30T11:52:01.710437Z",
     "shell.execute_reply": "2021-12-30T11:52:01.709930Z"
    },
    "papermill": {
     "duration": 0.086852,
     "end_time": "2021-12-30T11:52:01.710577",
     "exception": false,
     "start_time": "2021-12-30T11:52:01.623725",
     "status": "completed"
    },
    "tags": []
   },
   "outputs": [],
   "source": [
    "del train['enrollee_id']\n",
    "del test['enrollee_id']"
   ]
  },
  {
   "cell_type": "markdown",
   "metadata": {
    "papermill": {
     "duration": 0.077404,
     "end_time": "2021-12-30T11:52:01.866168",
     "exception": false,
     "start_time": "2021-12-30T11:52:01.788764",
     "status": "completed"
    },
    "tags": []
   },
   "source": [
    "### Cats"
   ]
  },
  {
   "cell_type": "code",
   "execution_count": 11,
   "metadata": {
    "execution": {
     "iopub.execute_input": "2021-12-30T11:52:02.033469Z",
     "iopub.status.busy": "2021-12-30T11:52:02.032743Z",
     "iopub.status.idle": "2021-12-30T11:52:02.115746Z",
     "shell.execute_reply": "2021-12-30T11:52:02.115081Z"
    },
    "papermill": {
     "duration": 0.170659,
     "end_time": "2021-12-30T11:52:02.115874",
     "exception": false,
     "start_time": "2021-12-30T11:52:01.945215",
     "status": "completed"
    },
    "tags": []
   },
   "outputs": [
    {
     "data": {
      "text/html": [
       "<div>\n",
       "<style scoped>\n",
       "    .dataframe tbody tr th:only-of-type {\n",
       "        vertical-align: middle;\n",
       "    }\n",
       "\n",
       "    .dataframe tbody tr th {\n",
       "        vertical-align: top;\n",
       "    }\n",
       "\n",
       "    .dataframe thead th {\n",
       "        text-align: right;\n",
       "    }\n",
       "</style>\n",
       "<table border=\"1\" class=\"dataframe\">\n",
       "  <thead>\n",
       "    <tr style=\"text-align: right;\">\n",
       "      <th></th>\n",
       "      <th>\"feat\"</th>\n",
       "      <th>uniques</th>\n",
       "      <th>cardinality</th>\n",
       "      <th>nans</th>\n",
       "    </tr>\n",
       "  </thead>\n",
       "  <tbody>\n",
       "    <tr>\n",
       "      <th>0</th>\n",
       "      <td>city_nom</td>\n",
       "      <td>[city_103, city_40, city_21, city_115, city_162, city_176, city_160, city_46, city_61, city_114, city_13, city_159, city_102, city_67, city_100, city_16, city_71, city_104, city_64, city_101, city_83, city_105, city_73, city_75, city_41, city_11, city_93, city_90, city_36, city_20, city_57, city...</td>\n",
       "      <td>123</td>\n",
       "      <td>0</td>\n",
       "    </tr>\n",
       "    <tr>\n",
       "      <th>1</th>\n",
       "      <td>gender_nom</td>\n",
       "      <td>[Male, nan, Female, Other]</td>\n",
       "      <td>4</td>\n",
       "      <td>4508</td>\n",
       "    </tr>\n",
       "    <tr>\n",
       "      <th>2</th>\n",
       "      <td>relevent_experience_nom</td>\n",
       "      <td>[Has relevent experience, No relevent experience]</td>\n",
       "      <td>2</td>\n",
       "      <td>0</td>\n",
       "    </tr>\n",
       "    <tr>\n",
       "      <th>3</th>\n",
       "      <td>enrolled_university_nom</td>\n",
       "      <td>[no_enrollment, Full time course, nan, Part time course]</td>\n",
       "      <td>4</td>\n",
       "      <td>386</td>\n",
       "    </tr>\n",
       "    <tr>\n",
       "      <th>4</th>\n",
       "      <td>major_discipline_nom</td>\n",
       "      <td>[STEM, Business Degree, nan, Arts, Humanities, No Major, Other]</td>\n",
       "      <td>7</td>\n",
       "      <td>2813</td>\n",
       "    </tr>\n",
       "    <tr>\n",
       "      <th>5</th>\n",
       "      <td>company_type_nom</td>\n",
       "      <td>[nan, Pvt Ltd, Funded Startup, Early Stage Startup, Other, Public Sector, NGO]</td>\n",
       "      <td>7</td>\n",
       "      <td>6140</td>\n",
       "    </tr>\n",
       "    <tr>\n",
       "      <th>6</th>\n",
       "      <td>education_level_ord</td>\n",
       "      <td>[Graduate, Masters, High School, nan, Phd, Primary School]</td>\n",
       "      <td>6</td>\n",
       "      <td>460</td>\n",
       "    </tr>\n",
       "    <tr>\n",
       "      <th>7</th>\n",
       "      <td>experience_ord</td>\n",
       "      <td>[&gt;20, 15, 5, &lt;1, 11, 13, 7, 17, 2, 16, 1, 4, 10, 14, 18, 19, 12, 3, 6, 9, 8, 20, nan]</td>\n",
       "      <td>23</td>\n",
       "      <td>65</td>\n",
       "    </tr>\n",
       "    <tr>\n",
       "      <th>8</th>\n",
       "      <td>company_size_ord</td>\n",
       "      <td>[nan, 50-99, &lt;10, 10000+, 5000-9999, 1000-4999, 10/49, 100-500, 500-999]</td>\n",
       "      <td>9</td>\n",
       "      <td>5938</td>\n",
       "    </tr>\n",
       "    <tr>\n",
       "      <th>9</th>\n",
       "      <td>last_new_job_ord</td>\n",
       "      <td>[1, &gt;4, never, 4, 3, 2, nan]</td>\n",
       "      <td>7</td>\n",
       "      <td>423</td>\n",
       "    </tr>\n",
       "  </tbody>\n",
       "</table>\n",
       "</div>"
      ],
      "text/plain": [
       "                    \"feat\"  \\\n",
       "0                 city_nom   \n",
       "1               gender_nom   \n",
       "2  relevent_experience_nom   \n",
       "3  enrolled_university_nom   \n",
       "4     major_discipline_nom   \n",
       "5         company_type_nom   \n",
       "6      education_level_ord   \n",
       "7           experience_ord   \n",
       "8         company_size_ord   \n",
       "9         last_new_job_ord   \n",
       "\n",
       "                                                                                                                                                                                                                                                                                                       uniques  \\\n",
       "0  [city_103, city_40, city_21, city_115, city_162, city_176, city_160, city_46, city_61, city_114, city_13, city_159, city_102, city_67, city_100, city_16, city_71, city_104, city_64, city_101, city_83, city_105, city_73, city_75, city_41, city_11, city_93, city_90, city_36, city_20, city_57, city...   \n",
       "1                                                                                                                                                                                                                                                                                   [Male, nan, Female, Other]   \n",
       "2                                                                                                                                                                                                                                                            [Has relevent experience, No relevent experience]   \n",
       "3                                                                                                                                                                                                                                                     [no_enrollment, Full time course, nan, Part time course]   \n",
       "4                                                                                                                                                                                                                                              [STEM, Business Degree, nan, Arts, Humanities, No Major, Other]   \n",
       "5                                                                                                                                                                                                                               [nan, Pvt Ltd, Funded Startup, Early Stage Startup, Other, Public Sector, NGO]   \n",
       "6                                                                                                                                                                                                                                                   [Graduate, Masters, High School, nan, Phd, Primary School]   \n",
       "7                                                                                                                                                                                                                        [>20, 15, 5, <1, 11, 13, 7, 17, 2, 16, 1, 4, 10, 14, 18, 19, 12, 3, 6, 9, 8, 20, nan]   \n",
       "8                                                                                                                                                                                                                                     [nan, 50-99, <10, 10000+, 5000-9999, 1000-4999, 10/49, 100-500, 500-999]   \n",
       "9                                                                                                                                                                                                                                                                                 [1, >4, never, 4, 3, 2, nan]   \n",
       "\n",
       "   cardinality  nans  \n",
       "0          123     0  \n",
       "1            4  4508  \n",
       "2            2     0  \n",
       "3            4   386  \n",
       "4            7  2813  \n",
       "5            7  6140  \n",
       "6            6   460  \n",
       "7           23    65  \n",
       "8            9  5938  \n",
       "9            7   423  "
      ]
     },
     "execution_count": 11,
     "metadata": {},
     "output_type": "execute_result"
    }
   ],
   "source": [
    "cats = nominals+ordinals\n",
    "\n",
    "\n",
    "def analyse_cats(df, cat_cols):\n",
    "    d = pd.DataFrame()\n",
    "    cl = [];u = [];s =[]; nans =[]\n",
    "    for c in cat_cols:\n",
    "        #print(\"column:\" , c ,\"--Uniques:\" , train[c].unique(), \"--Cardinality:\", train[c].unique().size)\n",
    "        cl.append(c); u.append(df[c].unique());s.append(df[c].unique().size);nans.append(df[c].isnull().sum())\n",
    "        \n",
    "    d['\"feat\"'] = cl;d[\"uniques\"] = u; d[\"cardinality\"] = s; d[\"nans\"] = nans\n",
    "    return d\n",
    "\n",
    "plt.style.use('fivethirtyeight')\n",
    "catanadf = analyse_cats(train, cats)\n",
    "catanadf"
   ]
  },
  {
   "cell_type": "markdown",
   "metadata": {
    "papermill": {
     "duration": 0.081184,
     "end_time": "2021-12-30T11:52:02.275436",
     "exception": false,
     "start_time": "2021-12-30T11:52:02.194252",
     "status": "completed"
    },
    "tags": []
   },
   "source": [
    "### **Missing Values**"
   ]
  },
  {
   "cell_type": "code",
   "execution_count": 12,
   "metadata": {
    "execution": {
     "iopub.execute_input": "2021-12-30T11:52:02.495330Z",
     "iopub.status.busy": "2021-12-30T11:52:02.494241Z",
     "iopub.status.idle": "2021-12-30T11:52:02.506621Z",
     "shell.execute_reply": "2021-12-30T11:52:02.507420Z"
    },
    "papermill": {
     "duration": 0.128191,
     "end_time": "2021-12-30T11:52:02.507711",
     "exception": false,
     "start_time": "2021-12-30T11:52:02.379520",
     "status": "completed"
    },
    "tags": []
   },
   "outputs": [
    {
     "data": {
      "text/html": [
       "<div>\n",
       "<style scoped>\n",
       "    .dataframe tbody tr th:only-of-type {\n",
       "        vertical-align: middle;\n",
       "    }\n",
       "\n",
       "    .dataframe tbody tr th {\n",
       "        vertical-align: top;\n",
       "    }\n",
       "\n",
       "    .dataframe thead th {\n",
       "        text-align: right;\n",
       "    }\n",
       "</style>\n",
       "<table border=\"1\" class=\"dataframe\">\n",
       "  <thead>\n",
       "    <tr style=\"text-align: right;\">\n",
       "      <th></th>\n",
       "      <th>missing percent</th>\n",
       "    </tr>\n",
       "  </thead>\n",
       "  <tbody>\n",
       "    <tr>\n",
       "      <th>company_type_nom</th>\n",
       "      <td>0.320493</td>\n",
       "    </tr>\n",
       "    <tr>\n",
       "      <th>company_size_ord</th>\n",
       "      <td>0.309949</td>\n",
       "    </tr>\n",
       "    <tr>\n",
       "      <th>gender_nom</th>\n",
       "      <td>0.235306</td>\n",
       "    </tr>\n",
       "    <tr>\n",
       "      <th>major_discipline_nom</th>\n",
       "      <td>0.146832</td>\n",
       "    </tr>\n",
       "    <tr>\n",
       "      <th>education_level_ord</th>\n",
       "      <td>0.024011</td>\n",
       "    </tr>\n",
       "    <tr>\n",
       "      <th>last_new_job_ord</th>\n",
       "      <td>0.022080</td>\n",
       "    </tr>\n",
       "    <tr>\n",
       "      <th>enrolled_university_nom</th>\n",
       "      <td>0.020148</td>\n",
       "    </tr>\n",
       "    <tr>\n",
       "      <th>experience_ord</th>\n",
       "      <td>0.003393</td>\n",
       "    </tr>\n",
       "    <tr>\n",
       "      <th>city_nom</th>\n",
       "      <td>0.000000</td>\n",
       "    </tr>\n",
       "    <tr>\n",
       "      <th>city_development_index</th>\n",
       "      <td>0.000000</td>\n",
       "    </tr>\n",
       "    <tr>\n",
       "      <th>relevent_experience_nom</th>\n",
       "      <td>0.000000</td>\n",
       "    </tr>\n",
       "    <tr>\n",
       "      <th>training_hours</th>\n",
       "      <td>0.000000</td>\n",
       "    </tr>\n",
       "    <tr>\n",
       "      <th>target</th>\n",
       "      <td>0.000000</td>\n",
       "    </tr>\n",
       "  </tbody>\n",
       "</table>\n",
       "</div>"
      ],
      "text/plain": [
       "                         missing percent\n",
       "company_type_nom                0.320493\n",
       "company_size_ord                0.309949\n",
       "gender_nom                      0.235306\n",
       "major_discipline_nom            0.146832\n",
       "education_level_ord             0.024011\n",
       "last_new_job_ord                0.022080\n",
       "enrolled_university_nom         0.020148\n",
       "experience_ord                  0.003393\n",
       "city_nom                        0.000000\n",
       "city_development_index          0.000000\n",
       "relevent_experience_nom         0.000000\n",
       "training_hours                  0.000000\n",
       "target                          0.000000"
      ]
     },
     "execution_count": 12,
     "metadata": {},
     "output_type": "execute_result"
    }
   ],
   "source": [
    "pd.DataFrame(train.isna().sum(axis=0)/len(train), columns=['missing percent']).sort_values('missing percent', ascending=False)"
   ]
  },
  {
   "cell_type": "code",
   "execution_count": 13,
   "metadata": {
    "execution": {
     "iopub.execute_input": "2021-12-30T11:52:02.722781Z",
     "iopub.status.busy": "2021-12-30T11:52:02.720639Z",
     "iopub.status.idle": "2021-12-30T11:52:02.760040Z",
     "shell.execute_reply": "2021-12-30T11:52:02.760610Z"
    },
    "papermill": {
     "duration": 0.162032,
     "end_time": "2021-12-30T11:52:02.760851",
     "exception": false,
     "start_time": "2021-12-30T11:52:02.598819",
     "status": "completed"
    },
    "tags": []
   },
   "outputs": [
    {
     "data": {
      "text/html": [
       "<div>\n",
       "<style scoped>\n",
       "    .dataframe tbody tr th:only-of-type {\n",
       "        vertical-align: middle;\n",
       "    }\n",
       "\n",
       "    .dataframe tbody tr th {\n",
       "        vertical-align: top;\n",
       "    }\n",
       "\n",
       "    .dataframe thead th {\n",
       "        text-align: right;\n",
       "    }\n",
       "</style>\n",
       "<table border=\"1\" class=\"dataframe\">\n",
       "  <thead>\n",
       "    <tr style=\"text-align: right;\">\n",
       "      <th></th>\n",
       "      <th>counts</th>\n",
       "      <th>percentage</th>\n",
       "    </tr>\n",
       "  </thead>\n",
       "  <tbody>\n",
       "    <tr>\n",
       "      <th>company_type_nom</th>\n",
       "      <td>6140</td>\n",
       "      <td>32.049274</td>\n",
       "    </tr>\n",
       "    <tr>\n",
       "      <th>company_size_ord</th>\n",
       "      <td>5938</td>\n",
       "      <td>30.994885</td>\n",
       "    </tr>\n",
       "    <tr>\n",
       "      <th>gender_nom</th>\n",
       "      <td>4508</td>\n",
       "      <td>23.530640</td>\n",
       "    </tr>\n",
       "    <tr>\n",
       "      <th>major_discipline_nom</th>\n",
       "      <td>2813</td>\n",
       "      <td>14.683161</td>\n",
       "    </tr>\n",
       "    <tr>\n",
       "      <th>education_level_ord</th>\n",
       "      <td>460</td>\n",
       "      <td>2.401086</td>\n",
       "    </tr>\n",
       "    <tr>\n",
       "      <th>last_new_job_ord</th>\n",
       "      <td>423</td>\n",
       "      <td>2.207955</td>\n",
       "    </tr>\n",
       "    <tr>\n",
       "      <th>enrolled_university_nom</th>\n",
       "      <td>386</td>\n",
       "      <td>2.014824</td>\n",
       "    </tr>\n",
       "    <tr>\n",
       "      <th>experience_ord</th>\n",
       "      <td>65</td>\n",
       "      <td>0.339284</td>\n",
       "    </tr>\n",
       "  </tbody>\n",
       "</table>\n",
       "</div>"
      ],
      "text/plain": [
       "                         counts  percentage\n",
       "company_type_nom           6140   32.049274\n",
       "company_size_ord           5938   30.994885\n",
       "gender_nom                 4508   23.530640\n",
       "major_discipline_nom       2813   14.683161\n",
       "education_level_ord         460    2.401086\n",
       "last_new_job_ord            423    2.207955\n",
       "enrolled_university_nom     386    2.014824\n",
       "experience_ord               65    0.339284"
      ]
     },
     "execution_count": 13,
     "metadata": {},
     "output_type": "execute_result"
    }
   ],
   "source": [
    "def null_analysis(df):\n",
    "  '''\n",
    "  desc: get nulls for each column in counts & percentages\n",
    "  arg: dataframe\n",
    "  return: dataframe\n",
    "  '''\n",
    "  null_cnt = df.isnull().sum() # calculate null counts\n",
    "  null_cnt = null_cnt[null_cnt!=0] # remove non-null cols\n",
    "  null_percent = null_cnt / len(df) * 100 # calculate null percentages\n",
    "  null_table = pd.concat([pd.DataFrame(null_cnt), pd.DataFrame(null_percent)], axis=1)\n",
    "  null_table.columns = ['counts', 'percentage']\n",
    "  null_table.sort_values('counts', ascending=False, inplace=True)\n",
    "  return null_table\n",
    "\n",
    "null_table = null_analysis(train)\n",
    "#plt.bar(null_table.reset_index(), x='index', y='percentage', text='counts', height=500)\n",
    "null_table"
   ]
  },
  {
   "cell_type": "code",
   "execution_count": 14,
   "metadata": {
    "execution": {
     "iopub.execute_input": "2021-12-30T11:52:02.937917Z",
     "iopub.status.busy": "2021-12-30T11:52:02.936546Z",
     "iopub.status.idle": "2021-12-30T11:52:02.951175Z",
     "shell.execute_reply": "2021-12-30T11:52:02.951740Z"
    },
    "papermill": {
     "duration": 0.105489,
     "end_time": "2021-12-30T11:52:02.951898",
     "exception": false,
     "start_time": "2021-12-30T11:52:02.846409",
     "status": "completed"
    },
    "tags": []
   },
   "outputs": [
    {
     "data": {
      "text/html": [
       "<div>\n",
       "<style scoped>\n",
       "    .dataframe tbody tr th:only-of-type {\n",
       "        vertical-align: middle;\n",
       "    }\n",
       "\n",
       "    .dataframe tbody tr th {\n",
       "        vertical-align: top;\n",
       "    }\n",
       "\n",
       "    .dataframe thead th {\n",
       "        text-align: right;\n",
       "    }\n",
       "</style>\n",
       "<table border=\"1\" class=\"dataframe\">\n",
       "  <thead>\n",
       "    <tr style=\"text-align: right;\">\n",
       "      <th></th>\n",
       "      <th>index</th>\n",
       "      <th>counts</th>\n",
       "      <th>percentage</th>\n",
       "    </tr>\n",
       "  </thead>\n",
       "  <tbody>\n",
       "    <tr>\n",
       "      <th>0</th>\n",
       "      <td>company_type_nom</td>\n",
       "      <td>6140</td>\n",
       "      <td>32.049274</td>\n",
       "    </tr>\n",
       "    <tr>\n",
       "      <th>1</th>\n",
       "      <td>company_size_ord</td>\n",
       "      <td>5938</td>\n",
       "      <td>30.994885</td>\n",
       "    </tr>\n",
       "    <tr>\n",
       "      <th>2</th>\n",
       "      <td>gender_nom</td>\n",
       "      <td>4508</td>\n",
       "      <td>23.530640</td>\n",
       "    </tr>\n",
       "    <tr>\n",
       "      <th>3</th>\n",
       "      <td>major_discipline_nom</td>\n",
       "      <td>2813</td>\n",
       "      <td>14.683161</td>\n",
       "    </tr>\n",
       "    <tr>\n",
       "      <th>4</th>\n",
       "      <td>education_level_ord</td>\n",
       "      <td>460</td>\n",
       "      <td>2.401086</td>\n",
       "    </tr>\n",
       "    <tr>\n",
       "      <th>5</th>\n",
       "      <td>last_new_job_ord</td>\n",
       "      <td>423</td>\n",
       "      <td>2.207955</td>\n",
       "    </tr>\n",
       "    <tr>\n",
       "      <th>6</th>\n",
       "      <td>enrolled_university_nom</td>\n",
       "      <td>386</td>\n",
       "      <td>2.014824</td>\n",
       "    </tr>\n",
       "    <tr>\n",
       "      <th>7</th>\n",
       "      <td>experience_ord</td>\n",
       "      <td>65</td>\n",
       "      <td>0.339284</td>\n",
       "    </tr>\n",
       "  </tbody>\n",
       "</table>\n",
       "</div>"
      ],
      "text/plain": [
       "                     index  counts  percentage\n",
       "0         company_type_nom    6140   32.049274\n",
       "1         company_size_ord    5938   30.994885\n",
       "2               gender_nom    4508   23.530640\n",
       "3     major_discipline_nom    2813   14.683161\n",
       "4      education_level_ord     460    2.401086\n",
       "5         last_new_job_ord     423    2.207955\n",
       "6  enrolled_university_nom     386    2.014824\n",
       "7           experience_ord      65    0.339284"
      ]
     },
     "execution_count": 14,
     "metadata": {},
     "output_type": "execute_result"
    }
   ],
   "source": [
    "null_table.reset_index()"
   ]
  },
  {
   "cell_type": "code",
   "execution_count": 15,
   "metadata": {
    "execution": {
     "iopub.execute_input": "2021-12-30T11:52:03.134973Z",
     "iopub.status.busy": "2021-12-30T11:52:03.133984Z",
     "iopub.status.idle": "2021-12-30T11:52:03.325306Z",
     "shell.execute_reply": "2021-12-30T11:52:03.325996Z"
    },
    "papermill": {
     "duration": 0.284325,
     "end_time": "2021-12-30T11:52:03.326155",
     "exception": false,
     "start_time": "2021-12-30T11:52:03.041830",
     "status": "completed"
    },
    "tags": []
   },
   "outputs": [
    {
     "data": {
      "text/plain": [
       "<matplotlib.axes._subplots.AxesSubplot at 0x7febe31df810>"
      ]
     },
     "execution_count": 15,
     "metadata": {},
     "output_type": "execute_result"
    },
    {
     "data": {
      "image/png": "[encoded data removed]",
      "text/plain": [
       "<Figure size 1008x360 with 1 Axes>"
      ]
     },
     "metadata": {},
     "output_type": "display_data"
    }
   ],
   "source": [
    "plt.figure(figsize=(14, 5))\n",
    "sns.barplot(data= null_table.reset_index()[['index', 'counts']], x= 'counts', y='index', palette='gray')"
   ]
  },
  {
   "cell_type": "markdown",
   "metadata": {
    "papermill": {
     "duration": 0.081947,
     "end_time": "2021-12-30T11:52:03.491350",
     "exception": false,
     "start_time": "2021-12-30T11:52:03.409403",
     "status": "completed"
    },
    "tags": []
   },
   "source": [
    "## **1. Label Encoding, Ordinal Encoding**"
   ]
  },
  {
   "cell_type": "markdown",
   "metadata": {
    "papermill": {
     "duration": 0.082596,
     "end_time": "2021-12-30T11:52:03.659958",
     "exception": false,
     "start_time": "2021-12-30T11:52:03.577362",
     "status": "completed"
    },
    "tags": []
   },
   "source": [
    "Label encoding  includes replacing the categories with digits from 1 to n (or 0 to n-1, depending on the implementation),where n is the number of the variable’s distinct categories (the cardinality), and these numbers are assigned arbitrarily."
   ]
  },
  {
   "cell_type": "markdown",
   "metadata": {
    "papermill": {
     "duration": 0.085385,
     "end_time": "2021-12-30T11:52:03.832991",
     "exception": false,
     "start_time": "2021-12-30T11:52:03.747606",
     "status": "completed"
    },
    "tags": []
   },
   "source": [
    "Advantages of integer (label) encoding\n",
    "- Straightforward to implement.\n",
    "- Does not expand the feature space.\n",
    "- Can work well enough with tree-based algorithms.\n",
    "- Allows agile benchmarking of machine learning models.\n",
    "\n",
    "Limitations of integer (label) encoding\n",
    "- Does not add extra information while encoding.\n",
    "- Not suitable for linear models.\n",
    "- Does not handle new categories in the test set automatically.\n",
    "- Creates an order relationship between the categories."
   ]
  },
  {
   "cell_type": "markdown",
   "metadata": {
    "papermill": {
     "duration": 0.087784,
     "end_time": "2021-12-30T11:52:04.008514",
     "exception": false,
     "start_time": "2021-12-30T11:52:03.920730",
     "status": "completed"
    },
    "tags": []
   },
   "source": [
    "in following implementation:\n",
    "- label encoder  will  map nans as a new category so imputation is not a must, So i wont impute nominals and will build new category of nans with label encoder\n",
    "\n",
    "\n",
    "- through the rest of note book we will find out why **generally** label encoding/ordinal encoding is not suitable for linear model (although it depends on data). Anyway i prefer to encode ordinals by manual mapping and nominal by Scikit.LabelEncoder() if i don't want to apply other techniaues for cat encoding.Because LabelEncoder wont preserve order during mapping and this will confuse  linear models e.g. Logistic Regression.\n"
   ]
  },
  {
   "cell_type": "code",
   "execution_count": 16,
   "metadata": {
    "execution": {
     "iopub.execute_input": "2021-12-30T11:52:04.190550Z",
     "iopub.status.busy": "2021-12-30T11:52:04.189844Z",
     "iopub.status.idle": "2021-12-30T11:52:04.195527Z",
     "shell.execute_reply": "2021-12-30T11:52:04.196136Z"
    },
    "papermill": {
     "duration": 0.099591,
     "end_time": "2021-12-30T11:52:04.196315",
     "exception": false,
     "start_time": "2021-12-30T11:52:04.096724",
     "status": "completed"
    },
    "tags": []
   },
   "outputs": [],
   "source": [
    "train = tr_orig.copy()\n",
    "test = ts_orig.copy()\n",
    "del train['enrollee_id']\n",
    "del test['enrollee_id']"
   ]
  },
  {
   "cell_type": "code",
   "execution_count": 17,
   "metadata": {
    "execution": {
     "iopub.execute_input": "2021-12-30T11:52:04.365635Z",
     "iopub.status.busy": "2021-12-30T11:52:04.364973Z",
     "iopub.status.idle": "2021-12-30T11:52:04.380455Z",
     "shell.execute_reply": "2021-12-30T11:52:04.381062Z"
    },
    "papermill": {
     "duration": 0.101613,
     "end_time": "2021-12-30T11:52:04.381227",
     "exception": false,
     "start_time": "2021-12-30T11:52:04.279614",
     "status": "completed"
    },
    "tags": []
   },
   "outputs": [
    {
     "name": "stdout",
     "output_type": "stream",
     "text": [
      "education_level_ord ['Graduate', 'Masters', 'High School', nan, 'Phd', 'Primary School']\n",
      "experience_ord ['>20', '15', '5', '<1', '11', '13', '7', '17', '2', '16', '1', '4', '10', '14', '18', '19', '12', '3', '6', '9', '8', '20', nan]\n",
      "company_size_ord [nan, '50-99', '<10', '10000+', '5000-9999', '1000-4999', '10/49', '100-500', '500-999']\n",
      "last_new_job_ord ['1', '>4', 'never', '4', '3', '2', nan]\n"
     ]
    }
   ],
   "source": [
    "for c in ordinals:\n",
    "    print(c,list(train[c].unique()))"
   ]
  },
  {
   "cell_type": "code",
   "execution_count": 18,
   "metadata": {
    "execution": {
     "iopub.execute_input": "2021-12-30T11:52:04.552910Z",
     "iopub.status.busy": "2021-12-30T11:52:04.551997Z",
     "iopub.status.idle": "2021-12-30T11:52:04.614491Z",
     "shell.execute_reply": "2021-12-30T11:52:04.613844Z"
    },
    "papermill": {
     "duration": 0.149351,
     "end_time": "2021-12-30T11:52:04.614609",
     "exception": false,
     "start_time": "2021-12-30T11:52:04.465258",
     "status": "completed"
    },
    "tags": []
   },
   "outputs": [
    {
     "data": {
      "text/html": [
       "<div>\n",
       "<style scoped>\n",
       "    .dataframe tbody tr th:only-of-type {\n",
       "        vertical-align: middle;\n",
       "    }\n",
       "\n",
       "    .dataframe tbody tr th {\n",
       "        vertical-align: top;\n",
       "    }\n",
       "\n",
       "    .dataframe thead th {\n",
       "        text-align: right;\n",
       "    }\n",
       "</style>\n",
       "<table border=\"1\" class=\"dataframe\">\n",
       "  <thead>\n",
       "    <tr style=\"text-align: right;\">\n",
       "      <th></th>\n",
       "      <th>city_nom</th>\n",
       "      <th>city_development_index</th>\n",
       "      <th>gender_nom</th>\n",
       "      <th>relevent_experience_nom</th>\n",
       "      <th>enrolled_university_nom</th>\n",
       "      <th>education_level_ord</th>\n",
       "      <th>major_discipline_nom</th>\n",
       "      <th>experience_ord</th>\n",
       "      <th>company_size_ord</th>\n",
       "      <th>company_type_nom</th>\n",
       "      <th>last_new_job_ord</th>\n",
       "      <th>training_hours</th>\n",
       "      <th>target</th>\n",
       "    </tr>\n",
       "  </thead>\n",
       "  <tbody>\n",
       "    <tr>\n",
       "      <th>0</th>\n",
       "      <td>city_103</td>\n",
       "      <td>0.920</td>\n",
       "      <td>Male</td>\n",
       "      <td>Has relevent experience</td>\n",
       "      <td>no_enrollment</td>\n",
       "      <td>2.0</td>\n",
       "      <td>STEM</td>\n",
       "      <td>22.0</td>\n",
       "      <td>NaN</td>\n",
       "      <td>NaN</td>\n",
       "      <td>1.0</td>\n",
       "      <td>36</td>\n",
       "      <td>1.0</td>\n",
       "    </tr>\n",
       "    <tr>\n",
       "      <th>1</th>\n",
       "      <td>city_40</td>\n",
       "      <td>0.776</td>\n",
       "      <td>Male</td>\n",
       "      <td>No relevent experience</td>\n",
       "      <td>no_enrollment</td>\n",
       "      <td>2.0</td>\n",
       "      <td>STEM</td>\n",
       "      <td>16.0</td>\n",
       "      <td>2.0</td>\n",
       "      <td>Pvt Ltd</td>\n",
       "      <td>5.0</td>\n",
       "      <td>47</td>\n",
       "      <td>0.0</td>\n",
       "    </tr>\n",
       "    <tr>\n",
       "      <th>2</th>\n",
       "      <td>city_21</td>\n",
       "      <td>0.624</td>\n",
       "      <td>NaN</td>\n",
       "      <td>No relevent experience</td>\n",
       "      <td>Full time course</td>\n",
       "      <td>2.0</td>\n",
       "      <td>STEM</td>\n",
       "      <td>6.0</td>\n",
       "      <td>NaN</td>\n",
       "      <td>NaN</td>\n",
       "      <td>0.0</td>\n",
       "      <td>83</td>\n",
       "      <td>0.0</td>\n",
       "    </tr>\n",
       "    <tr>\n",
       "      <th>3</th>\n",
       "      <td>city_115</td>\n",
       "      <td>0.789</td>\n",
       "      <td>NaN</td>\n",
       "      <td>No relevent experience</td>\n",
       "      <td>NaN</td>\n",
       "      <td>2.0</td>\n",
       "      <td>Business Degree</td>\n",
       "      <td>0.0</td>\n",
       "      <td>NaN</td>\n",
       "      <td>Pvt Ltd</td>\n",
       "      <td>0.0</td>\n",
       "      <td>52</td>\n",
       "      <td>1.0</td>\n",
       "    </tr>\n",
       "    <tr>\n",
       "      <th>4</th>\n",
       "      <td>city_162</td>\n",
       "      <td>0.767</td>\n",
       "      <td>Male</td>\n",
       "      <td>Has relevent experience</td>\n",
       "      <td>no_enrollment</td>\n",
       "      <td>3.0</td>\n",
       "      <td>STEM</td>\n",
       "      <td>22.0</td>\n",
       "      <td>2.0</td>\n",
       "      <td>Funded Startup</td>\n",
       "      <td>4.0</td>\n",
       "      <td>8</td>\n",
       "      <td>0.0</td>\n",
       "    </tr>\n",
       "  </tbody>\n",
       "</table>\n",
       "</div>"
      ],
      "text/plain": [
       "   city_nom  city_development_index gender_nom  relevent_experience_nom  \\\n",
       "0  city_103                   0.920       Male  Has relevent experience   \n",
       "1   city_40                   0.776       Male   No relevent experience   \n",
       "2   city_21                   0.624        NaN   No relevent experience   \n",
       "3  city_115                   0.789        NaN   No relevent experience   \n",
       "4  city_162                   0.767       Male  Has relevent experience   \n",
       "\n",
       "  enrolled_university_nom  education_level_ord major_discipline_nom  \\\n",
       "0           no_enrollment                  2.0                 STEM   \n",
       "1           no_enrollment                  2.0                 STEM   \n",
       "2        Full time course                  2.0                 STEM   \n",
       "3                     NaN                  2.0      Business Degree   \n",
       "4           no_enrollment                  3.0                 STEM   \n",
       "\n",
       "   experience_ord  company_size_ord company_type_nom  last_new_job_ord  \\\n",
       "0            22.0               NaN              NaN               1.0   \n",
       "1            16.0               2.0          Pvt Ltd               5.0   \n",
       "2             6.0               NaN              NaN               0.0   \n",
       "3             0.0               NaN          Pvt Ltd               0.0   \n",
       "4            22.0               2.0   Funded Startup               4.0   \n",
       "\n",
       "   training_hours  target  \n",
       "0              36     1.0  \n",
       "1              47     0.0  \n",
       "2              83     0.0  \n",
       "3              52     1.0  \n",
       "4               8     0.0  "
      ]
     },
     "execution_count": 18,
     "metadata": {},
     "output_type": "execute_result"
    }
   ],
   "source": [
    "def OrdMapping(df):\n",
    "    \n",
    "    \n",
    "    education_level_ord_mapping = {'Primary School': 0,'High School': 1,'Graduate': 2 , 'Masters':3,'Phd': 4 }\n",
    "    experience_ord_mapping= {'<1':0, '1':2, '2':3, '3':4,'4':5, '5':6, '6':7, '7':8, '8':9,'9':10, '10':11, '12':13, '13':14,'14':15, '15':16, '16':17,  '17':18,'18':19, '19':20,'20':21,'>20':22}\n",
    "    company_size_ord_mapping = {'<10':0 ,'10/49':1,'50-99':2, '100-500':3, '500-999':4, '1000-4999':5,'5000-9999':6, '10000+':7}\n",
    "    \n",
    "    last_new_job_ord_mapping = {'never':0,'1':1,'2':2,'3':3,'4':4,'>4':5}\n",
    "    df['education_level_ord'] = df.education_level_ord.map(education_level_ord_mapping)\n",
    "    df['experience_ord'] = df.experience_ord.map(experience_ord_mapping)\n",
    "    df['company_size_ord'] = df.company_size_ord.map(company_size_ord_mapping)\n",
    "    df['last_new_job_ord'] = df.last_new_job_ord.map(last_new_job_ord_mapping)\n",
    "     \n",
    "    return df\n",
    "\n",
    "train = OrdMapping(train)\n",
    "test  = OrdMapping(test)\n",
    "\n",
    "\n",
    "train.head()"
   ]
  },
  {
   "cell_type": "markdown",
   "metadata": {
    "papermill": {
     "duration": 0.08411,
     "end_time": "2021-12-30T11:52:04.782972",
     "exception": false,
     "start_time": "2021-12-30T11:52:04.698862",
     "status": "completed"
    },
    "tags": []
   },
   "source": [
    "Label encoding nominals:"
   ]
  },
  {
   "cell_type": "code",
   "execution_count": 19,
   "metadata": {
    "execution": {
     "iopub.execute_input": "2021-12-30T11:52:04.953625Z",
     "iopub.status.busy": "2021-12-30T11:52:04.952830Z",
     "iopub.status.idle": "2021-12-30T11:52:05.188275Z",
     "shell.execute_reply": "2021-12-30T11:52:05.188853Z"
    },
    "papermill": {
     "duration": 0.322135,
     "end_time": "2021-12-30T11:52:05.189018",
     "exception": false,
     "start_time": "2021-12-30T11:52:04.866883",
     "status": "completed"
    },
    "tags": []
   },
   "outputs": [
    {
     "name": "stdout",
     "output_type": "stream",
     "text": [
      "target mapping :   city_nom {'city_1': 0, 'city_10': 1, 'city_100': 2, 'city_101': 3, 'city_102': 4, 'city_103': 5, 'city_104': 6, 'city_105': 7, 'city_106': 8, 'city_107': 9, 'city_109': 10, 'city_11': 11, 'city_111': 12, 'city_114': 13, 'city_115': 14, 'city_116': 15, 'city_117': 16, 'city_118': 17, 'city_12': 18, 'city_120': 19, 'city_121': 20, 'city_123': 21, 'city_126': 22, 'city_127': 23, 'city_128': 24, 'city_129': 25, 'city_13': 26, 'city_131': 27, 'city_133': 28, 'city_134': 29, 'city_136': 30, 'city_138': 31, 'city_139': 32, 'city_14': 33, 'city_140': 34, 'city_141': 35, 'city_142': 36, 'city_143': 37, 'city_144': 38, 'city_145': 39, 'city_146': 40, 'city_149': 41, 'city_150': 42, 'city_152': 43, 'city_155': 44, 'city_157': 45, 'city_158': 46, 'city_159': 47, 'city_16': 48, 'city_160': 49, 'city_162': 50, 'city_165': 51, 'city_166': 52, 'city_167': 53, 'city_171': 54, 'city_173': 55, 'city_175': 56, 'city_176': 57, 'city_179': 58, 'city_18': 59, 'city_180': 60, 'city_19': 61, 'city_2': 62, 'city_20': 63, 'city_21': 64, 'city_23': 65, 'city_24': 66, 'city_25': 67, 'city_26': 68, 'city_27': 69, 'city_28': 70, 'city_30': 71, 'city_31': 72, 'city_33': 73, 'city_36': 74, 'city_37': 75, 'city_39': 76, 'city_40': 77, 'city_41': 78, 'city_42': 79, 'city_43': 80, 'city_44': 81, 'city_45': 82, 'city_46': 83, 'city_48': 84, 'city_50': 85, 'city_53': 86, 'city_54': 87, 'city_55': 88, 'city_57': 89, 'city_59': 90, 'city_61': 91, 'city_62': 92, 'city_64': 93, 'city_65': 94, 'city_67': 95, 'city_69': 96, 'city_7': 97, 'city_70': 98, 'city_71': 99, 'city_72': 100, 'city_73': 101, 'city_74': 102, 'city_75': 103, 'city_76': 104, 'city_77': 105, 'city_78': 106, 'city_79': 107, 'city_8': 108, 'city_80': 109, 'city_81': 110, 'city_82': 111, 'city_83': 112, 'city_84': 113, 'city_89': 114, 'city_9': 115, 'city_90': 116, 'city_91': 117, 'city_93': 118, 'city_94': 119, 'city_97': 120, 'city_98': 121, 'city_99': 122}\n",
      "target mapping :   gender_nom {'Female': 0, 'Male': 1, 'Other': 2, 'nan': 3}\n",
      "target mapping :   relevent_experience_nom {'Has relevent experience': 0, 'No relevent experience': 1}\n",
      "target mapping :   enrolled_university_nom {'Full time course': 0, 'Part time course': 1, 'nan': 2, 'no_enrollment': 3}\n",
      "target mapping :   major_discipline_nom {'Arts': 0, 'Business Degree': 1, 'Humanities': 2, 'No Major': 3, 'Other': 4, 'STEM': 5, 'nan': 6}\n",
      "target mapping :   company_type_nom {'Early Stage Startup': 0, 'Funded Startup': 1, 'NGO': 2, 'Other': 3, 'Public Sector': 4, 'Pvt Ltd': 5, 'nan': 6}\n"
     ]
    }
   ],
   "source": [
    "for c in nominals:\n",
    "    le = LabelEncoder()\n",
    "    le.fit(list(train[c].astype(str)) + list(test[c].astype(str)))\n",
    "    train[c] = le.transform(train[c].astype(str))\n",
    "    test[c] = le.transform(test[c].astype(str))\n",
    "    le_name_mapping = dict(zip(le.classes_, le.transform(le.classes_)))\n",
    "    print('target mapping :  ',c ,  le_name_mapping)"
   ]
  },
  {
   "cell_type": "code",
   "execution_count": 20,
   "metadata": {
    "execution": {
     "iopub.execute_input": "2021-12-30T11:52:05.366125Z",
     "iopub.status.busy": "2021-12-30T11:52:05.365087Z",
     "iopub.status.idle": "2021-12-30T11:52:05.459671Z",
     "shell.execute_reply": "2021-12-30T11:52:05.460250Z"
    },
    "papermill": {
     "duration": 0.185647,
     "end_time": "2021-12-30T11:52:05.460417",
     "exception": false,
     "start_time": "2021-12-30T11:52:05.274770",
     "status": "completed"
    },
    "tags": []
   },
   "outputs": [
    {
     "data": {
      "text/plain": [
       "city_nom                   0\n",
       "city_development_index     0\n",
       "gender_nom                 0\n",
       "relevent_experience_nom    0\n",
       "enrolled_university_nom    0\n",
       "education_level_ord        0\n",
       "major_discipline_nom       0\n",
       "experience_ord             0\n",
       "company_size_ord           0\n",
       "company_type_nom           0\n",
       "last_new_job_ord           0\n",
       "training_hours             0\n",
       "target                     0\n",
       "dtype: int64"
      ]
     },
     "execution_count": 20,
     "metadata": {},
     "output_type": "execute_result"
    }
   ],
   "source": [
    "cats = ordinals + nominals\n",
    "\n",
    "imp = SimpleImputer(strategy='most_frequent')\n",
    "train[cats] = imp.fit_transform(train[cats])\n",
    "test[cats]  = imp.transform(test[cats])\n",
    "\n",
    "train.isnull().sum()\n"
   ]
  },
  {
   "cell_type": "code",
   "execution_count": 21,
   "metadata": {
    "execution": {
     "iopub.execute_input": "2021-12-30T11:52:05.637572Z",
     "iopub.status.busy": "2021-12-30T11:52:05.636916Z",
     "iopub.status.idle": "2021-12-30T11:52:05.669426Z",
     "shell.execute_reply": "2021-12-30T11:52:05.668877Z"
    },
    "papermill": {
     "duration": 0.123883,
     "end_time": "2021-12-30T11:52:05.669553",
     "exception": false,
     "start_time": "2021-12-30T11:52:05.545670",
     "status": "completed"
    },
    "tags": []
   },
   "outputs": [],
   "source": [
    "target = train.pop('target')\n",
    "nums = [c for c in train.columns if c not in  cats]\n",
    "\n",
    "\n",
    "ss = StandardScaler()\n",
    "train[nums]= ss.fit_transform(train[nums])\n",
    "test[nums]= ss.fit_transform(test[nums])"
   ]
  },
  {
   "cell_type": "markdown",
   "metadata": {
    "papermill": {
     "duration": 0.084052,
     "end_time": "2021-12-30T11:52:05.837510",
     "exception": false,
     "start_time": "2021-12-30T11:52:05.753458",
     "status": "completed"
    },
    "tags": []
   },
   "source": [
    "### **Logistic Regression**"
   ]
  },
  {
   "cell_type": "code",
   "execution_count": 22,
   "metadata": {
    "execution": {
     "iopub.execute_input": "2021-12-30T11:52:06.013350Z",
     "iopub.status.busy": "2021-12-30T11:52:06.012703Z",
     "iopub.status.idle": "2021-12-30T11:52:06.446170Z",
     "shell.execute_reply": "2021-12-30T11:52:06.446821Z"
    },
    "papermill": {
     "duration": 0.526011,
     "end_time": "2021-12-30T11:52:06.446991",
     "exception": false,
     "start_time": "2021-12-30T11:52:05.920980",
     "status": "completed"
    },
    "tags": []
   },
   "outputs": [
    {
     "name": "stdout",
     "output_type": "stream",
     "text": [
      "fold: 0   - Starting ...\n",
      "train auc: 0.7518750700991399 val auc: 0.7465905172182334\n",
      "fold: 1   - Starting ...\n",
      "train auc: 0.7485694177374875 val auc: 0.7529268028712608\n",
      "fold: 2   - Starting ...\n",
      "train auc: 0.7499452997493498 val auc: 0.7493505019884571\n",
      "--------------------------------------------------\n",
      " Model auc:   0.7496226073593171\n"
     ]
    }
   ],
   "source": [
    "score_auc = []\n",
    "\n",
    "oof_lr = np.zeros(len(train))\n",
    "pred_lr = np.zeros(len(test))\n",
    "\n",
    "folds = StratifiedKFold(n_splits=3, shuffle=True, random_state=42)\n",
    "\n",
    "for fold_ , (train_ind, val_ind) in enumerate(folds.split(train, target)):\n",
    "    print('fold:', fold_, '  - Starting ...')\n",
    "    trn_data, val_data = train.iloc[train_ind], train.iloc[val_ind]\n",
    "    y_train, y_val = target.iloc[train_ind], target.iloc[val_ind]\n",
    "    \n",
    "    lr = LogisticRegression(C=0.1, solver='newton-cg',max_iter=100, random_state=2020, class_weight={0: 1, 1:3})\n",
    "    lr.fit(trn_data, y_train)\n",
    "    oof_lr[val_ind] = lr.predict_proba(val_data)[:, 1]\n",
    "    y = lr.predict_proba(trn_data)[:, 1]\n",
    "    print('train auc:' , roc_auc_score(y_train, y),'val auc:' , roc_auc_score(y_val, oof_lr[val_ind]))\n",
    "    \n",
    "    score_auc.append(roc_auc_score(y_val, oof_lr[val_ind]))\n",
    "    pred_lr += lr.predict_proba(test)[:, 1]/folds.n_splits\n",
    "    \n",
    "print('-'*50)\n",
    "print(' Model auc:  ', np.mean(score_auc))\n"
   ]
  },
  {
   "cell_type": "code",
   "execution_count": 23,
   "metadata": {
    "execution": {
     "iopub.execute_input": "2021-12-30T11:52:06.627319Z",
     "iopub.status.busy": "2021-12-30T11:52:06.626253Z",
     "iopub.status.idle": "2021-12-30T11:52:06.633773Z",
     "shell.execute_reply": "2021-12-30T11:52:06.634420Z"
    },
    "papermill": {
     "duration": 0.099946,
     "end_time": "2021-12-30T11:52:06.634570",
     "exception": false,
     "start_time": "2021-12-30T11:52:06.534624",
     "status": "completed"
    },
    "tags": []
   },
   "outputs": [
    {
     "data": {
      "text/plain": [
       "0.7386934785719396"
      ]
     },
     "execution_count": 23,
     "metadata": {},
     "output_type": "execute_result"
    }
   ],
   "source": [
    "roc_auc_score(answer, pred_lr)"
   ]
  },
  {
   "cell_type": "markdown",
   "metadata": {
    "papermill": {
     "duration": 0.084576,
     "end_time": "2021-12-30T11:52:06.804250",
     "exception": false,
     "start_time": "2021-12-30T11:52:06.719674",
     "status": "completed"
    },
    "tags": []
   },
   "source": [
    "### **QuadraticDiscriminantAnalysis**"
   ]
  },
  {
   "cell_type": "code",
   "execution_count": 24,
   "metadata": {
    "execution": {
     "iopub.execute_input": "2021-12-30T11:52:06.980303Z",
     "iopub.status.busy": "2021-12-30T11:52:06.979277Z",
     "iopub.status.idle": "2021-12-30T11:52:07.191330Z",
     "shell.execute_reply": "2021-12-30T11:52:07.191843Z"
    },
    "papermill": {
     "duration": 0.301433,
     "end_time": "2021-12-30T11:52:07.191998",
     "exception": false,
     "start_time": "2021-12-30T11:52:06.890565",
     "status": "completed"
    },
    "tags": []
   },
   "outputs": [
    {
     "name": "stdout",
     "output_type": "stream",
     "text": [
      "fold: 0   - Starting ...\n",
      "train auc: 0.6824049282306284\n",
      "val auc: 0.674879685290472\n",
      "fold: 1   - Starting ...\n",
      "train auc: 0.6842803687528868\n",
      "val auc: 0.6837723535128404\n",
      "fold: 2   - Starting ...\n",
      "train auc: 0.6784523199993595\n",
      "val auc: 0.6823025002411252\n",
      "fold: 3   - Starting ...\n",
      "train auc: 0.6843027432615811\n",
      "val auc: 0.6805549082859411\n",
      "fold: 4   - Starting ...\n",
      "train auc: 0.680065898588901\n",
      "val auc: 0.6779210873158619\n",
      "--------------------------------------------------\n",
      " Model auc:   0.6798861069292481\n"
     ]
    }
   ],
   "source": [
    "score_auc = []\n",
    "\n",
    "oof_qd = np.zeros(len(train))\n",
    "pred_qd = np.zeros(len(test))\n",
    "\n",
    "folds = StratifiedKFold(n_splits=5, shuffle=True, random_state=42)\n",
    "\n",
    "for fold_ , (train_ind, val_ind) in enumerate(folds.split(train, target)):\n",
    "    print('fold:', fold_, '  - Starting ...')\n",
    "    trn_data, val_data = train.iloc[train_ind], train.iloc[val_ind]\n",
    "    y_train, y_val = target[train_ind], target[val_ind]\n",
    "    \n",
    "    qd =   QuadraticDiscriminantAnalysis()\n",
    "    qd.fit(trn_data, y_train)\n",
    "    oof_qd[val_ind] = qd.predict(val_data)\n",
    "    y = qd.predict(trn_data)\n",
    "    print('train auc:' , roc_auc_score(y_train, y))\n",
    "    \n",
    "    print('val auc:' , roc_auc_score(y_val, oof_qd[val_ind]))\n",
    "       \n",
    "    score_auc.append(roc_auc_score(y_val, oof_qd[val_ind]))\n",
    "                            \n",
    "    pred_qd += qd.predict(test)/folds.n_splits\n",
    "    \n",
    "print('-'*50)\n",
    "print(' Model auc:  ', np.mean(score_auc))\n"
   ]
  },
  {
   "cell_type": "code",
   "execution_count": 25,
   "metadata": {
    "execution": {
     "iopub.execute_input": "2021-12-30T11:52:07.367310Z",
     "iopub.status.busy": "2021-12-30T11:52:07.366454Z",
     "iopub.status.idle": "2021-12-30T11:52:07.373397Z",
     "shell.execute_reply": "2021-12-30T11:52:07.374082Z"
    },
    "papermill": {
     "duration": 0.096041,
     "end_time": "2021-12-30T11:52:07.374282",
     "exception": false,
     "start_time": "2021-12-30T11:52:07.278241",
     "status": "completed"
    },
    "tags": []
   },
   "outputs": [
    {
     "data": {
      "text/plain": [
       "0.6863915942262288"
      ]
     },
     "execution_count": 25,
     "metadata": {},
     "output_type": "execute_result"
    }
   ],
   "source": [
    "roc_auc_score(answer, pred_qd)"
   ]
  },
  {
   "cell_type": "markdown",
   "metadata": {
    "papermill": {
     "duration": 0.087548,
     "end_time": "2021-12-30T11:52:07.551334",
     "exception": false,
     "start_time": "2021-12-30T11:52:07.463786",
     "status": "completed"
    },
    "tags": []
   },
   "source": [
    "## **2. One-Hot Encoding, Dummy Encoding**"
   ]
  },
  {
   "cell_type": "markdown",
   "metadata": {
    "papermill": {
     "duration": 0.08536,
     "end_time": "2021-12-30T11:52:07.724352",
     "exception": false,
     "start_time": "2021-12-30T11:52:07.638992",
     "status": "completed"
    },
    "tags": []
   },
   "source": [
    "In One-Hot method, we map each category to a vector that contains 1 and 0 denoting the presence of the feature or not. The number of vectors depends on the categories which we want to keep. For high cardinality features, this method produces a lot of columns that slows down the learning significantly. There is a buzz between one hot encoding and dummy encoding and when to use one. They are much alike except one hot encoding produces the number of columns equal to the number of categories and dummy producing is one less. This should ultimately be handled by the modeler accordingly in the validation process.\n",
    "\n"
   ]
  },
  {
   "cell_type": "markdown",
   "metadata": {
    "papermill": {
     "duration": 0.085181,
     "end_time": "2021-12-30T11:52:07.896414",
     "exception": false,
     "start_time": "2021-12-30T11:52:07.811233",
     "status": "completed"
    },
    "tags": []
   },
   "source": [
    "![oh1](https://www.renom.jp/notebooks/tutorial/preprocessing/onehot/ConvertCategorical_en.png)"
   ]
  },
  {
   "cell_type": "markdown",
   "metadata": {
    "papermill": {
     "duration": 0.086965,
     "end_time": "2021-12-30T11:52:08.068967",
     "exception": false,
     "start_time": "2021-12-30T11:52:07.982002",
     "status": "completed"
    },
    "tags": []
   },
   "source": [
    "Dummy encocoding scheme is similar to one-hot encoding. This categorical data encoding method transforms the categorical variable into a set of binary variables (also known as dummy variables). In the case of one-hot encoding, for N categories in a variable, it uses N binary variables. The dummy encoding is a small improvement over one-hot-encoding. Dummy encoding uses N-1 features to represent N labels/categories.\n",
    "\n",
    "To understand this better let’s see the image below. Here we are coding the same data using both one-hot encoding and dummy encoding techniques. While one-hot uses 3 variables to represent the data whereas dummy encoding uses 2 variables to code 3 categories."
   ]
  },
  {
   "cell_type": "markdown",
   "metadata": {
    "papermill": {
     "duration": 0.085311,
     "end_time": "2021-12-30T11:52:08.240169",
     "exception": false,
     "start_time": "2021-12-30T11:52:08.154858",
     "status": "completed"
    },
    "tags": []
   },
   "source": [
    "![dum](https://cdn.analyticsvidhya.com/wp-content/uploads/2020/08/Screenshot-from-2020-08-12-18-28-24-768x452.png)"
   ]
  },
  {
   "cell_type": "markdown",
   "metadata": {
    "papermill": {
     "duration": 0.085633,
     "end_time": "2021-12-30T11:52:08.412502",
     "exception": false,
     "start_time": "2021-12-30T11:52:08.326869",
     "status": "completed"
    },
    "tags": []
   },
   "source": [
    "Advantages of one-hot encoding\n",
    "\n",
    "- Does not assume the distribution of categories of the categorical variable.\n",
    "- Keeps all the information of the categorical variable.\n",
    "- Not so Suitable for tree based models.\n",
    "\n",
    "Limitations of one-hot encoding\n",
    "- Expands the feature space.\n",
    "- Does not add extra information while encoding.\n",
    "- Many dummy variables may be identical, and this can introduce redundant information."
   ]
  },
  {
   "cell_type": "markdown",
   "metadata": {
    "papermill": {
     "duration": 0.085098,
     "end_time": "2021-12-30T11:52:08.583726",
     "exception": false,
     "start_time": "2021-12-30T11:52:08.498628",
     "status": "completed"
    },
    "tags": []
   },
   "source": [
    "I will use dummy encoding:"
   ]
  },
  {
   "cell_type": "code",
   "execution_count": 26,
   "metadata": {
    "execution": {
     "iopub.execute_input": "2021-12-30T11:52:08.758078Z",
     "iopub.status.busy": "2021-12-30T11:52:08.757376Z",
     "iopub.status.idle": "2021-12-30T11:52:08.857763Z",
     "shell.execute_reply": "2021-12-30T11:52:08.857159Z"
    },
    "papermill": {
     "duration": 0.188743,
     "end_time": "2021-12-30T11:52:08.857912",
     "exception": false,
     "start_time": "2021-12-30T11:52:08.669169",
     "status": "completed"
    },
    "tags": []
   },
   "outputs": [],
   "source": [
    "train = tr_orig.copy()\n",
    "test = ts_orig.copy()\n",
    "\n",
    "\n",
    "target = train.pop('target')\n",
    "del train['enrollee_id']\n",
    "del test['enrollee_id']\n",
    "\n",
    "train.fillna('UnKnown', inplace=True)\n",
    "test.fillna('UnKnown', inplace=True)\n",
    "\n",
    "\n",
    "\n",
    "data = pd.concat([train, test], axis=0)\n",
    "data = pd.get_dummies(data)\n",
    "train = data.iloc[:len(train), ]\n",
    "test = data.iloc[:len(test), ]\n",
    "\n"
   ]
  },
  {
   "cell_type": "code",
   "execution_count": 27,
   "metadata": {
    "execution": {
     "iopub.execute_input": "2021-12-30T11:52:09.039031Z",
     "iopub.status.busy": "2021-12-30T11:52:09.036266Z",
     "iopub.status.idle": "2021-12-30T11:52:09.065950Z",
     "shell.execute_reply": "2021-12-30T11:52:09.065319Z"
    },
    "papermill": {
     "duration": 0.121375,
     "end_time": "2021-12-30T11:52:09.066063",
     "exception": false,
     "start_time": "2021-12-30T11:52:08.944688",
     "status": "completed"
    },
    "tags": []
   },
   "outputs": [
    {
     "name": "stdout",
     "output_type": "stream",
     "text": [
      "Series([], dtype: int64)\n"
     ]
    },
    {
     "data": {
      "text/html": [
       "<div>\n",
       "<style scoped>\n",
       "    .dataframe tbody tr th:only-of-type {\n",
       "        vertical-align: middle;\n",
       "    }\n",
       "\n",
       "    .dataframe tbody tr th {\n",
       "        vertical-align: top;\n",
       "    }\n",
       "\n",
       "    .dataframe thead th {\n",
       "        text-align: right;\n",
       "    }\n",
       "</style>\n",
       "<table border=\"1\" class=\"dataframe\">\n",
       "  <thead>\n",
       "    <tr style=\"text-align: right;\">\n",
       "      <th></th>\n",
       "      <th>city_development_index</th>\n",
       "      <th>training_hours</th>\n",
       "      <th>city_nom_city_1</th>\n",
       "      <th>city_nom_city_10</th>\n",
       "      <th>city_nom_city_100</th>\n",
       "      <th>city_nom_city_101</th>\n",
       "      <th>city_nom_city_102</th>\n",
       "      <th>city_nom_city_103</th>\n",
       "      <th>city_nom_city_104</th>\n",
       "      <th>city_nom_city_105</th>\n",
       "      <th>...</th>\n",
       "      <th>company_type_nom_Public Sector</th>\n",
       "      <th>company_type_nom_Pvt Ltd</th>\n",
       "      <th>company_type_nom_UnKnown</th>\n",
       "      <th>last_new_job_ord_1</th>\n",
       "      <th>last_new_job_ord_2</th>\n",
       "      <th>last_new_job_ord_3</th>\n",
       "      <th>last_new_job_ord_4</th>\n",
       "      <th>last_new_job_ord_&gt;4</th>\n",
       "      <th>last_new_job_ord_UnKnown</th>\n",
       "      <th>last_new_job_ord_never</th>\n",
       "    </tr>\n",
       "  </thead>\n",
       "  <tbody>\n",
       "    <tr>\n",
       "      <th>0</th>\n",
       "      <td>0.920</td>\n",
       "      <td>36</td>\n",
       "      <td>0</td>\n",
       "      <td>0</td>\n",
       "      <td>0</td>\n",
       "      <td>0</td>\n",
       "      <td>0</td>\n",
       "      <td>1</td>\n",
       "      <td>0</td>\n",
       "      <td>0</td>\n",
       "      <td>...</td>\n",
       "      <td>0</td>\n",
       "      <td>0</td>\n",
       "      <td>1</td>\n",
       "      <td>1</td>\n",
       "      <td>0</td>\n",
       "      <td>0</td>\n",
       "      <td>0</td>\n",
       "      <td>0</td>\n",
       "      <td>0</td>\n",
       "      <td>0</td>\n",
       "    </tr>\n",
       "    <tr>\n",
       "      <th>1</th>\n",
       "      <td>0.776</td>\n",
       "      <td>47</td>\n",
       "      <td>0</td>\n",
       "      <td>0</td>\n",
       "      <td>0</td>\n",
       "      <td>0</td>\n",
       "      <td>0</td>\n",
       "      <td>0</td>\n",
       "      <td>0</td>\n",
       "      <td>0</td>\n",
       "      <td>...</td>\n",
       "      <td>0</td>\n",
       "      <td>1</td>\n",
       "      <td>0</td>\n",
       "      <td>0</td>\n",
       "      <td>0</td>\n",
       "      <td>0</td>\n",
       "      <td>0</td>\n",
       "      <td>1</td>\n",
       "      <td>0</td>\n",
       "      <td>0</td>\n",
       "    </tr>\n",
       "    <tr>\n",
       "      <th>2</th>\n",
       "      <td>0.624</td>\n",
       "      <td>83</td>\n",
       "      <td>0</td>\n",
       "      <td>0</td>\n",
       "      <td>0</td>\n",
       "      <td>0</td>\n",
       "      <td>0</td>\n",
       "      <td>0</td>\n",
       "      <td>0</td>\n",
       "      <td>0</td>\n",
       "      <td>...</td>\n",
       "      <td>0</td>\n",
       "      <td>0</td>\n",
       "      <td>1</td>\n",
       "      <td>0</td>\n",
       "      <td>0</td>\n",
       "      <td>0</td>\n",
       "      <td>0</td>\n",
       "      <td>0</td>\n",
       "      <td>0</td>\n",
       "      <td>1</td>\n",
       "    </tr>\n",
       "    <tr>\n",
       "      <th>3</th>\n",
       "      <td>0.789</td>\n",
       "      <td>52</td>\n",
       "      <td>0</td>\n",
       "      <td>0</td>\n",
       "      <td>0</td>\n",
       "      <td>0</td>\n",
       "      <td>0</td>\n",
       "      <td>0</td>\n",
       "      <td>0</td>\n",
       "      <td>0</td>\n",
       "      <td>...</td>\n",
       "      <td>0</td>\n",
       "      <td>1</td>\n",
       "      <td>0</td>\n",
       "      <td>0</td>\n",
       "      <td>0</td>\n",
       "      <td>0</td>\n",
       "      <td>0</td>\n",
       "      <td>0</td>\n",
       "      <td>0</td>\n",
       "      <td>1</td>\n",
       "    </tr>\n",
       "    <tr>\n",
       "      <th>4</th>\n",
       "      <td>0.767</td>\n",
       "      <td>8</td>\n",
       "      <td>0</td>\n",
       "      <td>0</td>\n",
       "      <td>0</td>\n",
       "      <td>0</td>\n",
       "      <td>0</td>\n",
       "      <td>0</td>\n",
       "      <td>0</td>\n",
       "      <td>0</td>\n",
       "      <td>...</td>\n",
       "      <td>0</td>\n",
       "      <td>0</td>\n",
       "      <td>0</td>\n",
       "      <td>0</td>\n",
       "      <td>0</td>\n",
       "      <td>0</td>\n",
       "      <td>1</td>\n",
       "      <td>0</td>\n",
       "      <td>0</td>\n",
       "      <td>0</td>\n",
       "    </tr>\n",
       "  </tbody>\n",
       "</table>\n",
       "<p>5 rows × 194 columns</p>\n",
       "</div>"
      ],
      "text/plain": [
       "   city_development_index  training_hours  city_nom_city_1  city_nom_city_10  \\\n",
       "0                   0.920              36                0                 0   \n",
       "1                   0.776              47                0                 0   \n",
       "2                   0.624              83                0                 0   \n",
       "3                   0.789              52                0                 0   \n",
       "4                   0.767               8                0                 0   \n",
       "\n",
       "   city_nom_city_100  city_nom_city_101  city_nom_city_102  city_nom_city_103  \\\n",
       "0                  0                  0                  0                  1   \n",
       "1                  0                  0                  0                  0   \n",
       "2                  0                  0                  0                  0   \n",
       "3                  0                  0                  0                  0   \n",
       "4                  0                  0                  0                  0   \n",
       "\n",
       "   city_nom_city_104  city_nom_city_105  ...  company_type_nom_Public Sector  \\\n",
       "0                  0                  0  ...                               0   \n",
       "1                  0                  0  ...                               0   \n",
       "2                  0                  0  ...                               0   \n",
       "3                  0                  0  ...                               0   \n",
       "4                  0                  0  ...                               0   \n",
       "\n",
       "   company_type_nom_Pvt Ltd  company_type_nom_UnKnown  last_new_job_ord_1  \\\n",
       "0                         0                         1                   1   \n",
       "1                         1                         0                   0   \n",
       "2                         0                         1                   0   \n",
       "3                         1                         0                   0   \n",
       "4                         0                         0                   0   \n",
       "\n",
       "   last_new_job_ord_2  last_new_job_ord_3  last_new_job_ord_4  \\\n",
       "0                   0                   0                   0   \n",
       "1                   0                   0                   0   \n",
       "2                   0                   0                   0   \n",
       "3                   0                   0                   0   \n",
       "4                   0                   0                   1   \n",
       "\n",
       "   last_new_job_ord_>4  last_new_job_ord_UnKnown  last_new_job_ord_never  \n",
       "0                    0                         0                       0  \n",
       "1                    1                         0                       0  \n",
       "2                    0                         0                       1  \n",
       "3                    0                         0                       1  \n",
       "4                    0                         0                       0  \n",
       "\n",
       "[5 rows x 194 columns]"
      ]
     },
     "execution_count": 27,
     "metadata": {},
     "output_type": "execute_result"
    }
   ],
   "source": [
    "missing = test.isnull().sum()\n",
    "print(missing[missing>0])\n",
    "\n",
    "train.head()"
   ]
  },
  {
   "cell_type": "code",
   "execution_count": 28,
   "metadata": {
    "execution": {
     "iopub.execute_input": "2021-12-30T11:52:09.243829Z",
     "iopub.status.busy": "2021-12-30T11:52:09.243108Z",
     "iopub.status.idle": "2021-12-30T11:52:09.248886Z",
     "shell.execute_reply": "2021-12-30T11:52:09.249435Z"
    },
    "papermill": {
     "duration": 0.096807,
     "end_time": "2021-12-30T11:52:09.249594",
     "exception": false,
     "start_time": "2021-12-30T11:52:09.152787",
     "status": "completed"
    },
    "tags": []
   },
   "outputs": [
    {
     "data": {
      "text/plain": [
       "((19158, 194), (2129, 194))"
      ]
     },
     "execution_count": 28,
     "metadata": {},
     "output_type": "execute_result"
    }
   ],
   "source": [
    "train.shape, test.shape"
   ]
  },
  {
   "cell_type": "markdown",
   "metadata": {
    "papermill": {
     "duration": 0.08684,
     "end_time": "2021-12-30T11:52:09.425908",
     "exception": false,
     "start_time": "2021-12-30T11:52:09.339068",
     "status": "completed"
    },
    "tags": []
   },
   "source": [
    "### **LinearSVC**"
   ]
  },
  {
   "cell_type": "code",
   "execution_count": 29,
   "metadata": {
    "execution": {
     "iopub.execute_input": "2021-12-30T11:52:09.611556Z",
     "iopub.status.busy": "2021-12-30T11:52:09.610902Z",
     "iopub.status.idle": "2021-12-30T11:52:11.866372Z",
     "shell.execute_reply": "2021-12-30T11:52:11.865758Z"
    },
    "papermill": {
     "duration": 2.351398,
     "end_time": "2021-12-30T11:52:11.866503",
     "exception": false,
     "start_time": "2021-12-30T11:52:09.515105",
     "status": "completed"
    },
    "tags": []
   },
   "outputs": [
    {
     "name": "stdout",
     "output_type": "stream",
     "text": [
      "fold: 0   - Starting ...\n",
      "train auc: 0.5172872962053183\n",
      "val auc: 0.5130854976402606\n",
      "fold: 1   - Starting ...\n",
      "train auc: 0.515933845769411\n",
      "val auc: 0.5151775478494656\n",
      "fold: 2   - Starting ...\n",
      "train auc: 0.5147075774248933\n",
      "val auc: 0.5195629900983973\n",
      "fold: 3   - Starting ...\n",
      "train auc: 0.516802809781018\n",
      "val auc: 0.5132728702604694\n",
      "fold: 4   - Starting ...\n",
      "train auc: 0.5150985818056035\n",
      "val auc: 0.5148535633405907\n",
      "--------------------------------------------------\n",
      " Model auc:   0.5151904938378367\n"
     ]
    }
   ],
   "source": [
    "\n",
    "score_auc = []\n",
    "\n",
    "oof_svm = np.zeros(len(train))\n",
    "pred_svm = np.zeros(len(test))\n",
    "\n",
    "folds = StratifiedKFold(n_splits=5, shuffle=True, random_state=42)\n",
    "\n",
    "for fold_ , (train_ind, val_ind) in enumerate(folds.split(train, target)):\n",
    "    print('fold:', fold_, '  - Starting ...')\n",
    "    trn_data, val_data = train.iloc[train_ind], train.iloc[val_ind]\n",
    "    y_train, y_val = target[train_ind], target[val_ind]\n",
    "    \n",
    "    lsvm =   LinearSVC(C=.0001, random_state=2020)\n",
    "    lsvm.fit(trn_data, y_train)\n",
    "    oof_svm[val_ind] = lsvm.predict(val_data)\n",
    "    y = lsvm.predict(trn_data)\n",
    "    print('train auc:' , roc_auc_score(y_train, y))\n",
    "    \n",
    "    print('val auc:' , roc_auc_score(y_val, oof_svm[val_ind]))\n",
    "    score_auc.append(roc_auc_score(y_val, oof_svm[val_ind]))\n",
    "                           \n",
    "    pred_svm += lsvm.predict(test)/folds.n_splits\n",
    "    \n",
    "print('-'*50)\n",
    "print(' Model auc:  ', np.mean(score_auc))\n"
   ]
  },
  {
   "cell_type": "code",
   "execution_count": 30,
   "metadata": {
    "execution": {
     "iopub.execute_input": "2021-12-30T11:52:12.055814Z",
     "iopub.status.busy": "2021-12-30T11:52:12.054567Z",
     "iopub.status.idle": "2021-12-30T11:52:12.061721Z",
     "shell.execute_reply": "2021-12-30T11:52:12.060794Z"
    },
    "papermill": {
     "duration": 0.103597,
     "end_time": "2021-12-30T11:52:12.061872",
     "exception": false,
     "start_time": "2021-12-30T11:52:11.958275",
     "status": "completed"
    },
    "tags": []
   },
   "outputs": [
    {
     "data": {
      "text/plain": [
       "0.5015058220648207"
      ]
     },
     "execution_count": 30,
     "metadata": {},
     "output_type": "execute_result"
    }
   ],
   "source": [
    "roc_auc_score(answer, pred_svm)"
   ]
  },
  {
   "cell_type": "markdown",
   "metadata": {
    "papermill": {
     "duration": 0.090206,
     "end_time": "2021-12-30T11:52:12.242911",
     "exception": false,
     "start_time": "2021-12-30T11:52:12.152705",
     "status": "completed"
    },
    "tags": []
   },
   "source": [
    "seems we lost informations by dummy encoding"
   ]
  },
  {
   "cell_type": "markdown",
   "metadata": {
    "papermill": {
     "duration": 0.089364,
     "end_time": "2021-12-30T11:52:12.423118",
     "exception": false,
     "start_time": "2021-12-30T11:52:12.333754",
     "status": "completed"
    },
    "tags": []
   },
   "source": [
    "## **3. Frequency Encoding**"
   ]
  },
  {
   "cell_type": "markdown",
   "metadata": {
    "papermill": {
     "duration": 0.08961,
     "end_time": "2021-12-30T11:52:12.602352",
     "exception": false,
     "start_time": "2021-12-30T11:52:12.512742",
     "status": "completed"
    },
    "tags": []
   },
   "source": [
    "It is a way to utilize the frequency of the categories as labels. In the cases where the frequency is related somewhat with the target variable, it helps the model to understand and assign the weight in direct and inverse proportion, depending on the nature of the data.\n",
    "Replace the categories by the count of the observations that show that category in the dataset. Similarly, we can replace the category by the frequency -or percentage- of observations in the dataset. \n",
    "\n"
   ]
  },
  {
   "cell_type": "markdown",
   "metadata": {
    "papermill": {
     "duration": 0.089976,
     "end_time": "2021-12-30T11:52:12.782140",
     "exception": false,
     "start_time": "2021-12-30T11:52:12.692164",
     "status": "completed"
    },
    "tags": []
   },
   "source": [
    "Advantages of Count or Frequency encoding\n",
    "- Straightforward to implement.\n",
    "- Does not expand the feature space.\n",
    "- Can work well with tree-based algorithms.\n",
    "\n",
    "Limitations of Count or Frequency encoding\n",
    "\n",
    "- Does not handle new categories in the test set automatically.\n",
    "- We can lose valuable information if there are two different categories with the same amount of observations count—this is because we replace them with the same number."
   ]
  },
  {
   "cell_type": "markdown",
   "metadata": {
    "papermill": {
     "duration": 0.089694,
     "end_time": "2021-12-30T11:52:12.963263",
     "exception": false,
     "start_time": "2021-12-30T11:52:12.873569",
     "status": "completed"
    },
    "tags": []
   },
   "source": [
    "Here we will add frequency encoded features to labeled encoded features:"
   ]
  },
  {
   "cell_type": "code",
   "execution_count": 31,
   "metadata": {
    "execution": {
     "iopub.execute_input": "2021-12-30T11:52:13.195682Z",
     "iopub.status.busy": "2021-12-30T11:52:13.194678Z",
     "iopub.status.idle": "2021-12-30T11:52:13.201485Z",
     "shell.execute_reply": "2021-12-30T11:52:13.200918Z"
    },
    "papermill": {
     "duration": 0.103871,
     "end_time": "2021-12-30T11:52:13.201600",
     "exception": false,
     "start_time": "2021-12-30T11:52:13.097729",
     "status": "completed"
    },
    "tags": []
   },
   "outputs": [],
   "source": [
    "train = tr_orig.copy()\n",
    "test = ts_orig.copy()\n",
    "\n",
    "target = train.pop('target')\n",
    "del train['enrollee_id']\n",
    "del test['enrollee_id']\n"
   ]
  },
  {
   "cell_type": "code",
   "execution_count": 32,
   "metadata": {
    "execution": {
     "iopub.execute_input": "2021-12-30T11:52:13.407202Z",
     "iopub.status.busy": "2021-12-30T11:52:13.406515Z",
     "iopub.status.idle": "2021-12-30T11:52:13.549050Z",
     "shell.execute_reply": "2021-12-30T11:52:13.548455Z"
    },
    "papermill": {
     "duration": 0.256883,
     "end_time": "2021-12-30T11:52:13.549166",
     "exception": false,
     "start_time": "2021-12-30T11:52:13.292283",
     "status": "completed"
    },
    "tags": []
   },
   "outputs": [
    {
     "data": {
      "text/plain": [
       "((19158, 22), (2129, 22))"
      ]
     },
     "execution_count": 32,
     "metadata": {},
     "output_type": "execute_result"
    }
   ],
   "source": [
    "daset = pd.concat([train, test], axis=0)\n",
    "\n",
    "\n",
    "for c in (cats):\n",
    "    daset[c+'_freq'] = daset[c].map(daset.groupby(c).size() / daset.shape[0])\n",
    "    indexer = pd.factorize(daset[c], sort=True)[1]\n",
    "    daset[c] = indexer.get_indexer(daset[c])\n",
    "\n",
    "train= daset.iloc[:len(train) , ]\n",
    "test= daset.iloc[len(train): , ]\n",
    "cols=train.columns\n",
    "train.shape, test.shape"
   ]
  },
  {
   "cell_type": "code",
   "execution_count": 33,
   "metadata": {
    "execution": {
     "iopub.execute_input": "2021-12-30T11:52:13.735609Z",
     "iopub.status.busy": "2021-12-30T11:52:13.734995Z",
     "iopub.status.idle": "2021-12-30T11:52:13.744132Z",
     "shell.execute_reply": "2021-12-30T11:52:13.744818Z"
    },
    "papermill": {
     "duration": 0.105021,
     "end_time": "2021-12-30T11:52:13.744967",
     "exception": false,
     "start_time": "2021-12-30T11:52:13.639946",
     "status": "completed"
    },
    "tags": []
   },
   "outputs": [
    {
     "data": {
      "text/plain": [
       "city_nom                           0\n",
       "city_development_index             0\n",
       "gender_nom                         0\n",
       "relevent_experience_nom            0\n",
       "enrolled_university_nom            0\n",
       "education_level_ord                0\n",
       "major_discipline_nom               0\n",
       "experience_ord                     0\n",
       "company_size_ord                   0\n",
       "company_type_nom                   0\n",
       "last_new_job_ord                   0\n",
       "training_hours                     0\n",
       "education_level_ord_freq         460\n",
       "experience_ord_freq               65\n",
       "company_size_ord_freq           5938\n",
       "last_new_job_ord_freq            423\n",
       "city_nom_freq                      0\n",
       "gender_nom_freq                 4508\n",
       "relevent_experience_nom_freq       0\n",
       "enrolled_university_nom_freq     386\n",
       "major_discipline_nom_freq       2813\n",
       "company_type_nom_freq           6140\n",
       "dtype: int64"
      ]
     },
     "execution_count": 33,
     "metadata": {},
     "output_type": "execute_result"
    }
   ],
   "source": [
    "train.isnull().sum()"
   ]
  },
  {
   "cell_type": "code",
   "execution_count": 34,
   "metadata": {
    "execution": {
     "iopub.execute_input": "2021-12-30T11:52:13.932028Z",
     "iopub.status.busy": "2021-12-30T11:52:13.931358Z",
     "iopub.status.idle": "2021-12-30T11:52:13.968702Z",
     "shell.execute_reply": "2021-12-30T11:52:13.968084Z"
    },
    "papermill": {
     "duration": 0.131832,
     "end_time": "2021-12-30T11:52:13.968831",
     "exception": false,
     "start_time": "2021-12-30T11:52:13.836999",
     "status": "completed"
    },
    "tags": []
   },
   "outputs": [],
   "source": [
    "imp = SimpleImputer(strategy='constant')\n",
    "train = imp.fit_transform(train)\n",
    "test  = imp.transform(test)\n",
    "\n",
    "ss = StandardScaler()\n",
    "train = ss.fit_transform(train)\n",
    "test  = ss.transform(test)"
   ]
  },
  {
   "cell_type": "markdown",
   "metadata": {
    "papermill": {
     "duration": 0.091026,
     "end_time": "2021-12-30T11:52:14.152225",
     "exception": false,
     "start_time": "2021-12-30T11:52:14.061199",
     "status": "completed"
    },
    "tags": []
   },
   "source": [
    "### **Logistic Regression**"
   ]
  },
  {
   "cell_type": "code",
   "execution_count": 35,
   "metadata": {
    "execution": {
     "iopub.execute_input": "2021-12-30T11:52:14.347587Z",
     "iopub.status.busy": "2021-12-30T11:52:14.346938Z",
     "iopub.status.idle": "2021-12-30T11:52:14.599386Z",
     "shell.execute_reply": "2021-12-30T11:52:14.600017Z"
    },
    "papermill": {
     "duration": 0.354996,
     "end_time": "2021-12-30T11:52:14.600189",
     "exception": false,
     "start_time": "2021-12-30T11:52:14.245193",
     "status": "completed"
    },
    "tags": []
   },
   "outputs": [
    {
     "name": "stdout",
     "output_type": "stream",
     "text": [
      "fold: 0   - Starting ...\n",
      "train auc: 0.7927518439349438\n",
      "val auc: 0.7845561421768957\n",
      "fold: 1   - Starting ...\n",
      "train auc: 0.7908308592270505\n",
      "val auc: 0.7879848895080325\n",
      "fold: 2   - Starting ...\n",
      "train auc: 0.7879599680297054\n",
      "val auc: 0.7930706148598645\n",
      "--------------------------------------------------\n",
      " Model auc:   0.788537215514931\n"
     ]
    }
   ],
   "source": [
    "score_auc = []\n",
    "\n",
    "oof_lr = np.zeros(len(train))\n",
    "pred_lr = np.zeros(len(test))\n",
    "\n",
    "folds = StratifiedKFold(n_splits=3, shuffle=True, random_state=42)\n",
    "\n",
    "for fold_ , (train_ind, val_ind) in enumerate(folds.split(train, target)):\n",
    "    print('fold:', fold_, '  - Starting ...')\n",
    "    trn_data, val_data = train[train_ind], train[val_ind]\n",
    "    y_train, y_val = target.iloc[train_ind], target.iloc[val_ind]\n",
    "    \n",
    "    lr = LogisticRegression(C= 1,max_iter=200, random_state=2020, class_weight={0: 1, 1:3})\n",
    "    lr.fit(trn_data, y_train)\n",
    "    oof_lr[val_ind] = lr.predict_proba(val_data)[:, 1]\n",
    "    y = lr.predict_proba(trn_data)[:, 1]\n",
    "    print('train auc:' , roc_auc_score(y_train, y))\n",
    "    \n",
    "    print('val auc:' , roc_auc_score(y_val, oof_lr[val_ind]))\n",
    "    score_auc.append(roc_auc_score(y_val, oof_lr[val_ind]))\n",
    "    \n",
    "                        \n",
    "    pred_lr += lr.predict_proba(test)[:, 1]/folds.n_splits\n",
    "    \n",
    "print('-'*50)\n",
    "print(' Model auc:  ', np.mean(score_auc))\n"
   ]
  },
  {
   "cell_type": "code",
   "execution_count": 36,
   "metadata": {
    "execution": {
     "iopub.execute_input": "2021-12-30T11:52:14.802119Z",
     "iopub.status.busy": "2021-12-30T11:52:14.801411Z",
     "iopub.status.idle": "2021-12-30T11:52:14.806320Z",
     "shell.execute_reply": "2021-12-30T11:52:14.805675Z"
    },
    "papermill": {
     "duration": 0.108045,
     "end_time": "2021-12-30T11:52:14.806445",
     "exception": false,
     "start_time": "2021-12-30T11:52:14.698400",
     "status": "completed"
    },
    "tags": []
   },
   "outputs": [
    {
     "data": {
      "text/plain": [
       "0.7836836856979322"
      ]
     },
     "execution_count": 36,
     "metadata": {},
     "output_type": "execute_result"
    }
   ],
   "source": [
    "roc_auc_score(answer, pred_lr)"
   ]
  },
  {
   "cell_type": "markdown",
   "metadata": {
    "papermill": {
     "duration": 0.093896,
     "end_time": "2021-12-30T11:52:14.994264",
     "exception": false,
     "start_time": "2021-12-30T11:52:14.900368",
     "status": "completed"
    },
    "tags": []
   },
   "source": [
    "Good score for logistic regression"
   ]
  },
  {
   "cell_type": "markdown",
   "metadata": {
    "papermill": {
     "duration": 0.094157,
     "end_time": "2021-12-30T11:52:15.185564",
     "exception": false,
     "start_time": "2021-12-30T11:52:15.091407",
     "status": "completed"
    },
    "tags": []
   },
   "source": [
    "## **4. Target Encoding - Mean Likelihood Encoding ,\"The Right Way !\"**"
   ]
  },
  {
   "cell_type": "markdown",
   "metadata": {
    "papermill": {
     "duration": 0.094592,
     "end_time": "2021-12-30T11:52:15.374378",
     "exception": false,
     "start_time": "2021-12-30T11:52:15.279786",
     "status": "completed"
    },
    "tags": []
   },
   "source": [
    "Mean encoding means replacing the category with the mean target value for that category. We start by grouping each category alone, and for each group, we calculate the mean of the target in the corresponding observations. Then we assign that mean to that category. Thus, we encoded the category with the mean of the target.\n",
    "Here’s a detailed illustration of mean encoding:\n",
    "\n",
    "\n",
    "![te](https://miro.medium.com/max/653/1*gbKFmnAGdnaatRm011RLxA.png)\n",
    "\n",
    "\n"
   ]
  },
  {
   "cell_type": "markdown",
   "metadata": {
    "papermill": {
     "duration": 0.094406,
     "end_time": "2021-12-30T11:52:15.563807",
     "exception": false,
     "start_time": "2021-12-30T11:52:15.469401",
     "status": "completed"
    },
    "tags": []
   },
   "source": [
    "Advantages of Mean encoding\n",
    "\n",
    "- Does not expand the feature space.\n",
    "- Creates a monotonic relationship between categories and the target.\n",
    "\n",
    "Limitations of Mean encoding\n",
    "- May lead to overfitting.\n",
    "- May lead to a possible loss of value if two categories have the same mean as the target—in these cases, the same number replaces the original."
   ]
  },
  {
   "cell_type": "markdown",
   "metadata": {
    "papermill": {
     "duration": 0.093848,
     "end_time": "2021-12-30T11:52:15.752539",
     "exception": false,
     "start_time": "2021-12-30T11:52:15.658691",
     "status": "completed"
    },
    "tags": []
   },
   "source": [
    "According to: \n",
    " - https://maxhalford.github.io/blog/target-encoding/\n",
    " - https://medium.com/@pouryaayria/k-fold-target-encoding-dfe9a594874b \n",
    " \n",
    "we have better implement target encoding through KFold and  with smoothing.\n",
    "\n",
    "min_samples_leaf define a threshold where prior and target mean (for a given category value) have the same weight. Below the threshold prior becomes more important and above mean becomes more important.How weight behaves against value counts is controlled by smoothing parameter"
   ]
  },
  {
   "cell_type": "code",
   "execution_count": 37,
   "metadata": {
    "execution": {
     "iopub.execute_input": "2021-12-30T11:52:15.945900Z",
     "iopub.status.busy": "2021-12-30T11:52:15.944929Z",
     "iopub.status.idle": "2021-12-30T11:52:15.950603Z",
     "shell.execute_reply": "2021-12-30T11:52:15.951247Z"
    },
    "papermill": {
     "duration": 0.105674,
     "end_time": "2021-12-30T11:52:15.951396",
     "exception": false,
     "start_time": "2021-12-30T11:52:15.845722",
     "status": "completed"
    },
    "tags": []
   },
   "outputs": [],
   "source": [
    "train = tr_orig.copy()\n",
    "test = ts_orig.copy()\n",
    "\n",
    "target = train.pop('target')\n",
    "del train['enrollee_id']\n",
    "del test['enrollee_id']"
   ]
  },
  {
   "cell_type": "code",
   "execution_count": 38,
   "metadata": {
    "execution": {
     "iopub.execute_input": "2021-12-30T11:52:16.144782Z",
     "iopub.status.busy": "2021-12-30T11:52:16.144104Z",
     "iopub.status.idle": "2021-12-30T11:52:16.161025Z",
     "shell.execute_reply": "2021-12-30T11:52:16.161534Z"
    },
    "papermill": {
     "duration": 0.115909,
     "end_time": "2021-12-30T11:52:16.161744",
     "exception": false,
     "start_time": "2021-12-30T11:52:16.045835",
     "status": "completed"
    },
    "tags": []
   },
   "outputs": [],
   "source": [
    "def add_noise(series, noise_level):\n",
    "    return series * (1 + noise_level * np.random.randn(len(series)))\n",
    "\n",
    "def target_encode(trn_series=None, \n",
    "                  tst_series=None, \n",
    "                  target=None, \n",
    "                  min_samples_leaf=1, \n",
    "                  smoothing=1,\n",
    "                  noise_level=0):\n",
    "    \"\"\"\n",
    "    Smoothing is computed like in the following paper by Daniele Micci-Barreca\n",
    "    https://kaggle2.blob.core.windows.net/forum-message-attachments/225952/7441/high%20cardinality%20categoricals.pdf\n",
    "    trn_series : training categorical feature as a pd.Series\n",
    "    tst_series : test categorical feature as a pd.Series\n",
    "    target : target data as a pd.Series\n",
    "    min_samples_leaf (int) : minimum samples to take category average into account\n",
    "    smoothing (int) : smoothing effect to balance categorical average vs prior  \n",
    "    \"\"\" \n",
    "    assert len(trn_series) == len(target)\n",
    "    assert trn_series.name == tst_series.name\n",
    "    temp = pd.concat([trn_series, target], axis=1)\n",
    "    # Compute target mean \n",
    "    averages = temp.groupby(by=trn_series.name)[target.name].agg([\"mean\", \"count\"])\n",
    "    # Compute smoothing\n",
    "    smoothing = 1 / (1 + np.exp(-(averages[\"count\"] - min_samples_leaf) / smoothing))\n",
    "    # Apply average function to all target data\n",
    "    prior = target.mean()\n",
    "    # The bigger the count the less full_avg is taken into account\n",
    "    averages[target.name] = prior * (1 - smoothing) + averages[\"mean\"] * smoothing\n",
    "    averages.drop([\"mean\", \"count\"], axis=1, inplace=True)\n",
    "    # Apply averages to trn and tst series\n",
    "    ft_trn_series = pd.merge(\n",
    "        trn_series.to_frame(trn_series.name),\n",
    "        averages.reset_index().rename(columns={'index': target.name, target.name: 'average'}),\n",
    "        on=trn_series.name,\n",
    "        how='left')['average'].rename(trn_series.name + '_mean').fillna(prior)\n",
    "    # pd.merge does not keep the index so restore it\n",
    "    ft_trn_series.index = trn_series.index \n",
    "    ft_tst_series = pd.merge(\n",
    "        tst_series.to_frame(tst_series.name),\n",
    "        averages.reset_index().rename(columns={'index': target.name, target.name: 'average'}),\n",
    "        on=tst_series.name,\n",
    "        how='left')['average'].rename(trn_series.name + '_mean').fillna(prior)\n",
    "    # pd.merge does not keep the index so restore it\n",
    "    ft_tst_series.index = tst_series.index\n",
    "    return add_noise(ft_trn_series, noise_level), add_noise(ft_tst_series, noise_level)"
   ]
  },
  {
   "cell_type": "code",
   "execution_count": 39,
   "metadata": {
    "execution": {
     "iopub.execute_input": "2021-12-30T11:52:16.361313Z",
     "iopub.status.busy": "2021-12-30T11:52:16.360616Z",
     "iopub.status.idle": "2021-12-30T11:52:17.806889Z",
     "shell.execute_reply": "2021-12-30T11:52:17.807480Z"
    },
    "papermill": {
     "duration": 1.550351,
     "end_time": "2021-12-30T11:52:17.807679",
     "exception": false,
     "start_time": "2021-12-30T11:52:16.257328",
     "status": "completed"
    },
    "tags": []
   },
   "outputs": [],
   "source": [
    "\n",
    "smoothing =1\n",
    "import category_encoders as ce\n",
    "oof = pd.DataFrame([])\n",
    "from sklearn.model_selection import StratifiedKFold\n",
    "for tr_idx, oof_idx in StratifiedKFold(n_splits=5, random_state=2020, shuffle=True).split(train, target):\n",
    "    ce_target_encoder = ce.TargetEncoder(cols = cats, smoothing=smoothing)\n",
    "    ce_target_encoder.fit(train.iloc[tr_idx, :], target.iloc[tr_idx])\n",
    "    oof = oof.append(ce_target_encoder.transform(train.iloc[oof_idx, :]), ignore_index=False)\n",
    "ce_target_encoder = ce.TargetEncoder(cols = cats, smoothing=smoothing)\n",
    "ce_target_encoder.fit(train, target);  train = oof.sort_index(); test = ce_target_encoder.transform(test)\n"
   ]
  },
  {
   "cell_type": "markdown",
   "metadata": {
    "papermill": {
     "duration": 0.094124,
     "end_time": "2021-12-30T11:52:17.997453",
     "exception": false,
     "start_time": "2021-12-30T11:52:17.903329",
     "status": "completed"
    },
    "tags": []
   },
   "source": [
    "### **Logistic Regression**"
   ]
  },
  {
   "cell_type": "code",
   "execution_count": 40,
   "metadata": {
    "execution": {
     "iopub.execute_input": "2021-12-30T11:52:18.195550Z",
     "iopub.status.busy": "2021-12-30T11:52:18.194892Z",
     "iopub.status.idle": "2021-12-30T11:52:18.794217Z",
     "shell.execute_reply": "2021-12-30T11:52:18.793467Z"
    },
    "papermill": {
     "duration": 0.700286,
     "end_time": "2021-12-30T11:52:18.794388",
     "exception": false,
     "start_time": "2021-12-30T11:52:18.094102",
     "status": "completed"
    },
    "tags": []
   },
   "outputs": [
    {
     "name": "stdout",
     "output_type": "stream",
     "text": [
      "fold: 0   - Starting ...\n",
      "train auc: 0.7929377249174203\n",
      "val auc: 0.7835950430581811\n",
      "fold: 1   - Starting ...\n",
      "train auc: 0.7866845172061454\n",
      "val auc: 0.7957620782723204\n",
      "fold: 2   - Starting ...\n",
      "train auc: 0.7900903359108432\n",
      "val auc: 0.7891252883170745\n",
      " Model auc: ------->  0.789494136549192\n"
     ]
    }
   ],
   "source": [
    "score_auc = []\n",
    "\n",
    "oof_lr = np.zeros(len(train))\n",
    "pred_lr = np.zeros(len(test))\n",
    "\n",
    "folds = KFold(n_splits=3, shuffle=True, random_state=42)\n",
    "\n",
    "for fold_ , (train_ind, val_ind) in enumerate(folds.split(train, target)):\n",
    "    print('fold:', fold_, '  - Starting ...')\n",
    "    trn_data, val_data = train.iloc[train_ind], train.iloc[val_ind]\n",
    "    y_train, y_val = target.iloc[train_ind], target.iloc[val_ind]\n",
    "    \n",
    "    lr = LogisticRegression(C= 0.1,max_iter=100, random_state=2020, class_weight={0: 1, 1:3})\n",
    "    lr.fit(trn_data, y_train)\n",
    "    oof_lr[val_ind] = lr.predict_proba(val_data)[:, 1]\n",
    "    y = lr.predict_proba(trn_data)[:, 1]\n",
    "    print('train auc:' , roc_auc_score(y_train, y))\n",
    "    \n",
    "    print('val auc:' , roc_auc_score(y_val, oof_lr[val_ind]))\n",
    "    \n",
    "    score_auc.append(roc_auc_score(y_val, oof_lr[val_ind]))\n",
    "                           \n",
    "    pred_lr += lr.predict_proba(test)[:, 1]/folds.n_splits\n",
    "    \n",
    "print(' Model auc: -------> ', np.mean(score_auc))\n"
   ]
  },
  {
   "cell_type": "code",
   "execution_count": 41,
   "metadata": {
    "execution": {
     "iopub.execute_input": "2021-12-30T11:52:18.998254Z",
     "iopub.status.busy": "2021-12-30T11:52:18.997181Z",
     "iopub.status.idle": "2021-12-30T11:52:19.004384Z",
     "shell.execute_reply": "2021-12-30T11:52:19.004881Z"
    },
    "papermill": {
     "duration": 0.110017,
     "end_time": "2021-12-30T11:52:19.005056",
     "exception": false,
     "start_time": "2021-12-30T11:52:18.895039",
     "status": "completed"
    },
    "tags": []
   },
   "outputs": [
    {
     "data": {
      "text/plain": [
       "0.7914755044000858"
      ]
     },
     "execution_count": 41,
     "metadata": {},
     "output_type": "execute_result"
    }
   ],
   "source": [
    "roc_auc_score(answer, pred_lr)"
   ]
  },
  {
   "cell_type": "markdown",
   "metadata": {
    "papermill": {
     "duration": 0.095741,
     "end_time": "2021-12-30T11:52:19.197635",
     "exception": false,
     "start_time": "2021-12-30T11:52:19.101894",
     "status": "completed"
    },
    "tags": []
   },
   "source": [
    "## **5. Hash Encoding**"
   ]
  },
  {
   "cell_type": "markdown",
   "metadata": {
    "papermill": {
     "duration": 0.096241,
     "end_time": "2021-12-30T11:52:19.390166",
     "exception": false,
     "start_time": "2021-12-30T11:52:19.293925",
     "status": "completed"
    },
    "tags": []
   },
   "source": [
    "To understand Hash encoding it is necessary to know about hashing. Hashing is the transformation of arbitrary size input in the form of a fixed-size value. We use hashing algorithms to perform hashing operations i.e to generate the hash value of an input. Further, hashing is a one-way process, in other words, one can not generate original input from the hash representation.\n",
    "\n",
    "Hashing has several applications like data retrieval, checking data corruption, and in data encryption also. We have multiple hash functions available for example Message Digest (MD, MD2, MD5), Secure Hash Function (SHA0, SHA1, SHA2), and many more.\n",
    "\n",
    "Just like one-hot encoding, the Hash encoder represents categorical features using the new dimensions. Here, the user can fix the number of dimensions after transformation using n_component argument. Here is what we mean – A feature with 5 categories can be represented using N new features similarly, a feature with 100 categories can also be transformed using N new features. \n",
    "\n",
    "By default, the Hashing encoder uses the md5 hashing algorithm but a user can pass any algorithm of his choice. "
   ]
  },
  {
   "cell_type": "code",
   "execution_count": 42,
   "metadata": {
    "execution": {
     "iopub.execute_input": "2021-12-30T11:52:19.587135Z",
     "iopub.status.busy": "2021-12-30T11:52:19.586162Z",
     "iopub.status.idle": "2021-12-30T11:52:19.601745Z",
     "shell.execute_reply": "2021-12-30T11:52:19.602346Z"
    },
    "papermill": {
     "duration": 0.116478,
     "end_time": "2021-12-30T11:52:19.602520",
     "exception": false,
     "start_time": "2021-12-30T11:52:19.486042",
     "status": "completed"
    },
    "tags": []
   },
   "outputs": [],
   "source": [
    "train = tr_orig.copy()\n",
    "test = ts_orig.copy()\n",
    "\n",
    "target = train.pop('target')\n",
    "del train['enrollee_id']\n",
    "del test['enrollee_id']\n",
    "\n",
    "data = pd.concat([train, test], axis=0)\n"
   ]
  },
  {
   "cell_type": "markdown",
   "metadata": {
    "papermill": {
     "duration": 0.095944,
     "end_time": "2021-12-30T11:52:19.795064",
     "exception": false,
     "start_time": "2021-12-30T11:52:19.699120",
     "status": "completed"
    },
    "tags": []
   },
   "source": [
    "using https://contrib.scikit-learn.org/category_encoders/index.html#"
   ]
  },
  {
   "cell_type": "code",
   "execution_count": 43,
   "metadata": {
    "execution": {
     "iopub.execute_input": "2021-12-30T11:52:19.995156Z",
     "iopub.status.busy": "2021-12-30T11:52:19.994181Z",
     "iopub.status.idle": "2021-12-30T11:52:30.473567Z",
     "shell.execute_reply": "2021-12-30T11:52:30.474127Z"
    },
    "papermill": {
     "duration": 10.580288,
     "end_time": "2021-12-30T11:52:30.474295",
     "exception": false,
     "start_time": "2021-12-30T11:52:19.894007",
     "status": "completed"
    },
    "tags": []
   },
   "outputs": [],
   "source": [
    "#Create object for hash encoder\n",
    "encoder=ce.HashingEncoder(cols=cats,n_components=6)\n",
    "data = encoder.fit_transform(data)\n",
    "train = data.iloc[:len(train), ]\n",
    "test = data.iloc[len(train):, ]\n"
   ]
  },
  {
   "cell_type": "markdown",
   "metadata": {
    "papermill": {
     "duration": 0.095004,
     "end_time": "2021-12-30T11:52:30.665476",
     "exception": false,
     "start_time": "2021-12-30T11:52:30.570472",
     "status": "completed"
    },
    "tags": []
   },
   "source": [
    "### **Logistic Regression**"
   ]
  },
  {
   "cell_type": "code",
   "execution_count": 44,
   "metadata": {
    "execution": {
     "iopub.execute_input": "2021-12-30T11:52:30.870767Z",
     "iopub.status.busy": "2021-12-30T11:52:30.870096Z",
     "iopub.status.idle": "2021-12-30T11:52:31.864801Z",
     "shell.execute_reply": "2021-12-30T11:52:31.865422Z"
    },
    "papermill": {
     "duration": 1.104731,
     "end_time": "2021-12-30T11:52:31.865693",
     "exception": false,
     "start_time": "2021-12-30T11:52:30.760962",
     "status": "completed"
    },
    "tags": []
   },
   "outputs": [
    {
     "name": "stdout",
     "output_type": "stream",
     "text": [
      "fold: 0   - Starting ...\n",
      "train auc: 0.7543950199272242\n",
      "val auc: 0.7578537144024277\n",
      "fold: 1   - Starting ...\n",
      "train auc: 0.7593256451160089\n",
      "val auc: 0.7383210557320962\n",
      "fold: 2   - Starting ...\n",
      "train auc: 0.7513579550339317\n",
      "val auc: 0.7689983102866371\n",
      "fold: 3   - Starting ...\n",
      "train auc: 0.7560451308726017\n",
      "val auc: 0.7503604615390318\n",
      "fold: 4   - Starting ...\n",
      "train auc: 0.754486372570182\n",
      "val auc: 0.7572854820146513\n",
      " Model auc: ------->  0.7545638047949688\n"
     ]
    }
   ],
   "source": [
    "score_auc = []\n",
    "\n",
    "oof_lr = np.zeros(len(train))\n",
    "pred_lr = np.zeros(len(test))\n",
    "\n",
    "folds = KFold(n_splits=5, shuffle=True, random_state=42)\n",
    "\n",
    "for fold_ , (train_ind, val_ind) in enumerate(folds.split(train, target)):\n",
    "    print('fold:', fold_, '  - Starting ...')\n",
    "    trn_data, val_data = train.iloc[train_ind], train.iloc[val_ind]\n",
    "    y_train, y_val = target.iloc[train_ind], target.iloc[val_ind]\n",
    "    \n",
    "    lr = LogisticRegression(C= 0.1,max_iter=200, random_state=2020, class_weight={0: 1, 1:3})\n",
    "    lr.fit(trn_data, y_train)\n",
    "    oof_lr[val_ind] = lr.predict_proba(val_data)[:, 1]\n",
    "    y = lr.predict_proba(trn_data)[:, 1]\n",
    "    print('train auc:' , roc_auc_score(y_train, y))\n",
    "    \n",
    "    print('val auc:' , roc_auc_score(y_val, oof_lr[val_ind]))\n",
    "      \n",
    "    score_auc.append(roc_auc_score(y_val, oof_lr[val_ind]))\n",
    "    \n",
    "                        \n",
    "    pred_lr += lr.predict_proba(test)[:, 1]/folds.n_splits\n",
    "    \n",
    "print(' Model auc: -------> ', np.mean(score_auc))\n"
   ]
  },
  {
   "cell_type": "code",
   "execution_count": 45,
   "metadata": {
    "execution": {
     "iopub.execute_input": "2021-12-30T11:52:32.072705Z",
     "iopub.status.busy": "2021-12-30T11:52:32.071635Z",
     "iopub.status.idle": "2021-12-30T11:52:32.078341Z",
     "shell.execute_reply": "2021-12-30T11:52:32.078950Z"
    },
    "papermill": {
     "duration": 0.111744,
     "end_time": "2021-12-30T11:52:32.079100",
     "exception": false,
     "start_time": "2021-12-30T11:52:31.967356",
     "status": "completed"
    },
    "tags": []
   },
   "outputs": [
    {
     "data": {
      "text/plain": [
       "0.7484293392716607"
      ]
     },
     "execution_count": 45,
     "metadata": {},
     "output_type": "execute_result"
    }
   ],
   "source": [
    "roc_auc_score(answer, pred_lr)"
   ]
  },
  {
   "cell_type": "markdown",
   "metadata": {
    "papermill": {
     "duration": 0.096951,
     "end_time": "2021-12-30T11:52:32.273768",
     "exception": false,
     "start_time": "2021-12-30T11:52:32.176817",
     "status": "completed"
    },
    "tags": []
   },
   "source": [
    "Since Hashing transforms the data in lesser dimensions, it may lead to loss of information. Another issue faced by hashing encoder is the collision. Since here, a large number of features are depicted into lesser dimensions, hence multiple values can be represented by the same hash value, this is known as a collision.\n",
    "\n",
    "Moreover, hashing encoders have been very successful in some Kaggle competitions. It is great to try if the dataset has high cardinality features."
   ]
  },
  {
   "cell_type": "markdown",
   "metadata": {
    "papermill": {
     "duration": 0.106684,
     "end_time": "2021-12-30T11:52:32.478757",
     "exception": false,
     "start_time": "2021-12-30T11:52:32.372073",
     "status": "completed"
    },
    "tags": []
   },
   "source": [
    "## **6. Encoding using “Weight of Evidence”**\n",
    "\n"
   ]
  },
  {
   "cell_type": "markdown",
   "metadata": {
    "papermill": {
     "duration": 0.101902,
     "end_time": "2021-12-30T11:52:32.701190",
     "exception": false,
     "start_time": "2021-12-30T11:52:32.599288",
     "status": "completed"
    },
    "tags": []
   },
   "source": [
    "Weight of evidence (WOE) is a technique used to encode categorical variables for classification.\n",
    "The rule is simple; WOE is the natural logarithm (ln) of the probability that the target equals 1 divided by the probability of the target equals 0.\n",
    "Here is a mathematic formula : WOE = ln (p(1) / p(0)).\n",
    "Where p(1) is the probability of the target being 1, and p(0) is the probability of the target being 0.\n",
    "If the result is negative, you can change the sign of the output.\n",
    "The WOE is bigger than 0 if the probability of the target being 0 is more significant and smaller than 0 when the probability of the target being 1 is more significant.\n",
    "This way, the WOE transformation creates an excellent visual representation of the variable. By looking at the WOE encoded variable, you can see which category favors the target being 0 or 1."
   ]
  },
  {
   "cell_type": "markdown",
   "metadata": {
    "papermill": {
     "duration": 0.099242,
     "end_time": "2021-12-30T11:52:32.898774",
     "exception": false,
     "start_time": "2021-12-30T11:52:32.799532",
     "status": "completed"
    },
    "tags": []
   },
   "source": [
    "![we](https://miro.medium.com/max/412/1*tCDfdEZA9G7zHZV3bGvCfA.png)"
   ]
  },
  {
   "cell_type": "markdown",
   "metadata": {
    "papermill": {
     "duration": 0.09724,
     "end_time": "2021-12-30T11:52:33.094862",
     "exception": false,
     "start_time": "2021-12-30T11:52:32.997622",
     "status": "completed"
    },
    "tags": []
   },
   "source": [
    "Advantages of the Weight of evidence encoding\n",
    "- Creates a monotonic relationship between the target and the variables.\n",
    "- Orders the categories on a “logistic” scale, which is natural for logistic regression.\n",
    "- We can compare the transformed variables because they are on the same scale. Therefore, it’s possible to determine which one is more predictive.\n",
    "\n",
    "Limitations of the Weight of evidence encoding\n",
    "- May lead to overfitting.\n",
    "- Not defined when the denominator is 0."
   ]
  },
  {
   "cell_type": "code",
   "execution_count": 46,
   "metadata": {
    "execution": {
     "iopub.execute_input": "2021-12-30T11:52:33.295753Z",
     "iopub.status.busy": "2021-12-30T11:52:33.295091Z",
     "iopub.status.idle": "2021-12-30T11:52:33.301936Z",
     "shell.execute_reply": "2021-12-30T11:52:33.302462Z"
    },
    "papermill": {
     "duration": 0.110316,
     "end_time": "2021-12-30T11:52:33.302608",
     "exception": false,
     "start_time": "2021-12-30T11:52:33.192292",
     "status": "completed"
    },
    "tags": []
   },
   "outputs": [],
   "source": [
    "train = tr_orig.copy()\n",
    "test = ts_orig.copy()\n",
    "target = train.pop('target')\n",
    "del train['enrollee_id']\n",
    "del test['enrollee_id']"
   ]
  },
  {
   "cell_type": "markdown",
   "metadata": {
    "papermill": {
     "duration": 0.097194,
     "end_time": "2021-12-30T11:52:33.500894",
     "exception": false,
     "start_time": "2021-12-30T11:52:33.403700",
     "status": "completed"
    },
    "tags": []
   },
   "source": [
    "using https://contrib.scikit-learn.org/category_encoders/index.html#"
   ]
  },
  {
   "cell_type": "code",
   "execution_count": 47,
   "metadata": {
    "execution": {
     "iopub.execute_input": "2021-12-30T11:52:33.699291Z",
     "iopub.status.busy": "2021-12-30T11:52:33.698339Z",
     "iopub.status.idle": "2021-12-30T11:52:34.033467Z",
     "shell.execute_reply": "2021-12-30T11:52:34.034149Z"
    },
    "papermill": {
     "duration": 0.435849,
     "end_time": "2021-12-30T11:52:34.034308",
     "exception": false,
     "start_time": "2021-12-30T11:52:33.598459",
     "status": "completed"
    },
    "tags": []
   },
   "outputs": [],
   "source": [
    "import category_encoders as ce\n",
    "\n",
    "encoder = ce.WOEEncoder(cols=cats, drop_invariant=False, return_df=True, handle_unknown='value', handle_missing='value', random_state=42, randomized=False, sigma=0.05, regularization=1.0)\n",
    "\n",
    "encoder.fit(train, target)\n",
    "train = encoder.transform(train)\n",
    "test = encoder.transform(test)\n",
    "\n",
    "\n",
    "\n",
    "ss = StandardScaler()\n",
    "train = ss.fit_transform(train)\n",
    "test  = ss.transform(test)"
   ]
  },
  {
   "cell_type": "markdown",
   "metadata": {
    "papermill": {
     "duration": 0.10388,
     "end_time": "2021-12-30T11:52:34.244456",
     "exception": false,
     "start_time": "2021-12-30T11:52:34.140576",
     "status": "completed"
    },
    "tags": []
   },
   "source": [
    "### LogisticRegression"
   ]
  },
  {
   "cell_type": "code",
   "execution_count": 48,
   "metadata": {
    "execution": {
     "iopub.execute_input": "2021-12-30T11:52:34.446137Z",
     "iopub.status.busy": "2021-12-30T11:52:34.445169Z",
     "iopub.status.idle": "2021-12-30T11:52:34.622522Z",
     "shell.execute_reply": "2021-12-30T11:52:34.623201Z"
    },
    "papermill": {
     "duration": 0.28027,
     "end_time": "2021-12-30T11:52:34.623350",
     "exception": false,
     "start_time": "2021-12-30T11:52:34.343080",
     "status": "completed"
    },
    "tags": []
   },
   "outputs": [
    {
     "name": "stdout",
     "output_type": "stream",
     "text": [
      "fold: 0   - Starting ...\n",
      "train auc: 0.8039925358173848\n",
      "val auc: 0.7937824293615048\n",
      "fold: 1   - Starting ...\n",
      "train auc: 0.8009373630139845\n",
      "val auc: 0.7990355275543342\n",
      "fold: 2   - Starting ...\n",
      "train auc: 0.7968033799040073\n",
      "val auc: 0.807161328125819\n",
      " Model auc: ------->  0.7999930950138859\n"
     ]
    }
   ],
   "source": [
    "score_auc = []\n",
    "\n",
    "oof_lr = np.zeros(len(train))\n",
    "pred_lr = np.zeros(len(test))\n",
    "\n",
    "folds = StratifiedKFold(n_splits=3, shuffle=True, random_state=42)\n",
    "\n",
    "for fold_ , (train_ind, val_ind) in enumerate(folds.split(train, target)):\n",
    "    print('fold:', fold_, '  - Starting ...')\n",
    "    trn_data, val_data = train[train_ind], train[val_ind]\n",
    "    y_train, y_val = target.iloc[train_ind], target.iloc[val_ind]\n",
    "    \n",
    "    lr = LogisticRegression(C= 1,max_iter=100, random_state=2020, class_weight={0: 1, 1:3})\n",
    "    lr.fit(trn_data, y_train)\n",
    "    oof_lr[val_ind] = lr.predict_proba(val_data)[:, 1]\n",
    "    y = lr.predict_proba(trn_data)[:, 1]\n",
    "    print('train auc:' , roc_auc_score(y_train, y))\n",
    "    \n",
    "    print('val auc:' , roc_auc_score(y_val, oof_lr[val_ind]))\n",
    "    score_auc.append(roc_auc_score(y_val, oof_lr[val_ind]))\n",
    "                            \n",
    "    pred_lr += lr.predict_proba(test)[:, 1]/folds.n_splits\n",
    "    \n",
    "print(' Model auc: -------> ', np.mean(score_auc))\n"
   ]
  },
  {
   "cell_type": "code",
   "execution_count": 49,
   "metadata": {
    "execution": {
     "iopub.execute_input": "2021-12-30T11:52:34.826016Z",
     "iopub.status.busy": "2021-12-30T11:52:34.825043Z",
     "iopub.status.idle": "2021-12-30T11:52:34.833316Z",
     "shell.execute_reply": "2021-12-30T11:52:34.833937Z"
    },
    "papermill": {
     "duration": 0.109582,
     "end_time": "2021-12-30T11:52:34.834082",
     "exception": false,
     "start_time": "2021-12-30T11:52:34.724500",
     "status": "completed"
    },
    "tags": []
   },
   "outputs": [
    {
     "data": {
      "text/plain": [
       "0.7942590952994206"
      ]
     },
     "execution_count": 49,
     "metadata": {},
     "output_type": "execute_result"
    }
   ],
   "source": [
    "roc_auc_score(answer, pred_lr)"
   ]
  },
  {
   "cell_type": "markdown",
   "metadata": {
    "papermill": {
     "duration": 0.099189,
     "end_time": "2021-12-30T11:52:35.034328",
     "exception": false,
     "start_time": "2021-12-30T11:52:34.935139",
     "status": "completed"
    },
    "tags": []
   },
   "source": [
    "### QuadraticDiscriminantAnalysis"
   ]
  },
  {
   "cell_type": "code",
   "execution_count": 50,
   "metadata": {
    "execution": {
     "iopub.execute_input": "2021-12-30T11:52:35.236100Z",
     "iopub.status.busy": "2021-12-30T11:52:35.235116Z",
     "iopub.status.idle": "2021-12-30T11:52:35.379628Z",
     "shell.execute_reply": "2021-12-30T11:52:35.380533Z"
    },
    "papermill": {
     "duration": 0.247151,
     "end_time": "2021-12-30T11:52:35.380776",
     "exception": false,
     "start_time": "2021-12-30T11:52:35.133625",
     "status": "completed"
    },
    "tags": []
   },
   "outputs": [
    {
     "name": "stdout",
     "output_type": "stream",
     "text": [
      "fold: 0   - Starting ...\n",
      "train auc: 0.7419266522833341\n",
      "val auc: 0.7294715754680199\n",
      "fold: 1   - Starting ...\n",
      "train auc: 0.7405669917418107\n",
      "val auc: 0.7347133396570085\n",
      "fold: 2   - Starting ...\n",
      "train auc: 0.7390490619057082\n",
      "val auc: 0.7372981599870428\n",
      "fold: 3   - Starting ...\n",
      "train auc: 0.7409702081614914\n",
      "val auc: 0.7325892564571213\n",
      "fold: 4   - Starting ...\n",
      "train auc: 0.7342974217066227\n",
      "val auc: 0.7505321163046407\n",
      "--------------------------------------------------\n",
      " Model auc:   0.7369208895747666\n"
     ]
    }
   ],
   "source": [
    "score_auc = []\n",
    "\n",
    "oof_qd = np.zeros(len(train))\n",
    "pred_qd = np.zeros(len(test))\n",
    "\n",
    "folds = StratifiedKFold(n_splits=5, shuffle=True, random_state=42)\n",
    "\n",
    "for fold_ , (train_ind, val_ind) in enumerate(folds.split(train, target)):\n",
    "    print('fold:', fold_, '  - Starting ...')\n",
    "    trn_data, val_data = train[train_ind], train[val_ind]\n",
    "    y_train, y_val = target[train_ind], target[val_ind]\n",
    "    \n",
    "    qd =   QuadraticDiscriminantAnalysis()\n",
    "    qd.fit(trn_data, y_train)\n",
    "    oof_qd[val_ind] = qd.predict(val_data)\n",
    "    y = qd.predict(trn_data)\n",
    "    print('train auc:' , roc_auc_score(y_train, y))\n",
    "    \n",
    "    print('val auc:' , roc_auc_score(y_val, oof_qd[val_ind]))\n",
    "      \n",
    "    score_auc.append(roc_auc_score(y_val, oof_qd[val_ind]))\n",
    "                           \n",
    "    pred_qd += qd.predict(test)/folds.n_splits\n",
    "    \n",
    "print('-'*50)\n",
    "print(' Model auc:  ', np.mean(score_auc))\n"
   ]
  },
  {
   "cell_type": "code",
   "execution_count": 51,
   "metadata": {
    "execution": {
     "iopub.execute_input": "2021-12-30T11:52:35.589196Z",
     "iopub.status.busy": "2021-12-30T11:52:35.588377Z",
     "iopub.status.idle": "2021-12-30T11:52:35.592325Z",
     "shell.execute_reply": "2021-12-30T11:52:35.591672Z"
    },
    "papermill": {
     "duration": 0.11173,
     "end_time": "2021-12-30T11:52:35.592471",
     "exception": false,
     "start_time": "2021-12-30T11:52:35.480741",
     "status": "completed"
    },
    "tags": []
   },
   "outputs": [
    {
     "data": {
      "text/plain": [
       "0.7407761411604781"
      ]
     },
     "execution_count": 51,
     "metadata": {},
     "output_type": "execute_result"
    }
   ],
   "source": [
    "roc_auc_score(answer, pred_qd)"
   ]
  },
  {
   "cell_type": "markdown",
   "metadata": {
    "papermill": {
     "duration": 0.098761,
     "end_time": "2021-12-30T11:52:35.793052",
     "exception": false,
     "start_time": "2021-12-30T11:52:35.694291",
     "status": "completed"
    },
    "tags": []
   },
   "source": [
    "## **6. CatBoost and Cats**"
   ]
  },
  {
   "cell_type": "markdown",
   "metadata": {
    "papermill": {
     "duration": 0.100574,
     "end_time": "2021-12-30T11:52:35.995319",
     "exception": false,
     "start_time": "2021-12-30T11:52:35.894745",
     "status": "completed"
    },
    "tags": []
   },
   "source": [
    "When running machine learning algorithms, simply assigning numbers to categorical variables work if a category has only two levels. This is the case for gender (male/female), bought a product (yes/no), attended a course (yes/no). When a category has several levels, as with nationality, assigning numbers to each level implies an order of the levels. This means that one level of the category has a lower rank than another level. While this makes sense for ordinal variables (e.g., preferences of food items or educational degree), it is a wrong assumption for nominal variables such as color preferences, nationality, residential city specially when we use linear Algorithms. Algorithms like CatBoost have different perspective to solve this problem.  \n",
    "\n",
    "We can use CatBoost without any explicit pre-processing to convert categories into numbers. CatBoost converts categorical values into numbers using various statistics on combinations of categorical features and combinations of categorical and numerical features.\n",
    "\n",
    "In detail , Catboost calculates for every category of a nominal variable , a value (target-based statistic). This is done using a number of steps:\n",
    "We begin with one categorical feature (e.g., Nationality). This is called x.\n",
    "In one randomly chosen row (k-th row in the training data set), we exchange one random level of this categorical feature (i-th level of x) with a number (e.g., Dutch by 5)\n",
    "This number (in our example 5) is usually based on the target variable (the one we want to predict) conditional on the category level. In other words, the target number is based on the expected outcome variable.\n",
    "A splitting attribute is used to create two sets of the training data: One set that has all categories (e.g., German, French, Indian etc) who will have greater target variable than the one computed in step 3, and the other set with smaller target variables.\n",
    "\n",
    "![catb](https://developer-blogs.nvidia.com/wp-content/uploads/2018/12/catboost_hero.png)\n",
    "\n",
    "In their [paper](http://learningsys.org/nips17/assets/papers/paper_11.pdf) authors describe how catboost is dealing with categorical features. The standard way is to compute some statistics, such as median, based on the label values of the category. However, this creates problems if there is only one example for a label value. In this case, the numerical value of the category would be the same than the label value. For example if in our example with nationalities, the category Belgian is assigned the value 2, and there is only 1 Belgian student, this student would get the value 2 for nationality. This can create problems of overfitting.\n",
    "\n",
    "To avoid this problem, the authors designed a solution which involves randomly changing the order of rows in the complete data set. We perform a random permutation of the data set and for each example we compute average label value for the example with the same category value placed before the given one in the permutation .In their paper they also describe how different features are combined to create a new feature. Think about it, every individual observations of categorical and numerical data points describe one observation. The chances that two observations are exactly identical is slim. Hence, different categorical values and numerical values could be combined to create a unique merged categorical variable which contains all the different individual choices. While this might sound easy, doing this for all potential types of combinations will be computational intensive.\n",
    "Another way to combine different features is to do a greedy search at every tree split. Catboost does this by combining all categorical and numerical values at the current tree with all categorical values in the data set.\n",
    "\n",
    "Transforming categorical features to numerical features methods are:\n",
    "\n",
    "\n",
    "- Borders\n",
    "- Buckets\n",
    "- BinarizedTargetMeanValue\n",
    "- Counter\n",
    "\n",
    "\n",
    " You can read more about it [here](https://catboost.ai/docs/concepts/algorithm-main-stages_cat-to-numberic.html)."
   ]
  },
  {
   "cell_type": "code",
   "execution_count": 52,
   "metadata": {
    "execution": {
     "iopub.execute_input": "2021-12-30T11:52:36.198646Z",
     "iopub.status.busy": "2021-12-30T11:52:36.198035Z",
     "iopub.status.idle": "2021-12-30T11:52:36.238626Z",
     "shell.execute_reply": "2021-12-30T11:52:36.238002Z"
    },
    "papermill": {
     "duration": 0.14318,
     "end_time": "2021-12-30T11:52:36.238765",
     "exception": false,
     "start_time": "2021-12-30T11:52:36.095585",
     "status": "completed"
    },
    "tags": []
   },
   "outputs": [
    {
     "data": {
      "text/plain": [
       "array([ 0,  2,  3,  4,  5,  6,  7,  8,  9, 10])"
      ]
     },
     "execution_count": 52,
     "metadata": {},
     "output_type": "execute_result"
    }
   ],
   "source": [
    "train = tr_orig.copy()\n",
    "test = ts_orig.copy()\n",
    "\n",
    "target = train.pop('target')\n",
    "del train['enrollee_id']\n",
    "del test['enrollee_id']\n",
    "\n",
    "train.fillna('UnKnown', inplace=True)\n",
    "test.fillna('UnKnown', inplace=True)\n",
    "\n",
    "categorical_features_indices = np.where(train.dtypes == 'object')[0]\n",
    "categorical_features_indices"
   ]
  },
  {
   "cell_type": "code",
   "execution_count": 53,
   "metadata": {
    "execution": {
     "iopub.execute_input": "2021-12-30T11:52:36.461475Z",
     "iopub.status.busy": "2021-12-30T11:52:36.460818Z",
     "iopub.status.idle": "2021-12-30T11:54:18.793419Z",
     "shell.execute_reply": "2021-12-30T11:54:18.793954Z"
    },
    "papermill": {
     "duration": 102.454758,
     "end_time": "2021-12-30T11:54:18.794162",
     "exception": false,
     "start_time": "2021-12-30T11:52:36.339404",
     "status": "completed"
    },
    "tags": []
   },
   "outputs": [
    {
     "name": "stdout",
     "output_type": "stream",
     "text": [
      "0:\ttest: 0.7814371\ttest1: 0.7771193\tbest: 0.7771193 (0)\ttotal: 98.5ms\tremaining: 3m 16s\n",
      "100:\ttest: 0.8106067\ttest1: 0.7988123\tbest: 0.7988123 (100)\ttotal: 3.66s\tremaining: 1m 8s\n",
      "200:\ttest: 0.8191841\ttest1: 0.8011868\tbest: 0.8011868 (200)\ttotal: 7.28s\tremaining: 1m 5s\n",
      "300:\ttest: 0.8249301\ttest1: 0.8028758\tbest: 0.8028758 (300)\ttotal: 11s\tremaining: 1m 2s\n",
      "400:\ttest: 0.8279264\ttest1: 0.8039108\tbest: 0.8039108 (400)\ttotal: 14.8s\tremaining: 58.8s\n",
      "500:\ttest: 0.8305463\ttest1: 0.8042950\tbest: 0.8043412 (491)\ttotal: 18.6s\tremaining: 55.5s\n",
      "600:\ttest: 0.8320781\ttest1: 0.8048230\tbest: 0.8048230 (600)\ttotal: 22.2s\tremaining: 51.6s\n",
      "700:\ttest: 0.8334625\ttest1: 0.8051692\tbest: 0.8051809 (697)\ttotal: 25.9s\tremaining: 48s\n",
      "800:\ttest: 0.8347925\ttest1: 0.8054508\tbest: 0.8054508 (800)\ttotal: 29.7s\tremaining: 44.5s\n",
      "900:\ttest: 0.8364473\ttest1: 0.8056657\tbest: 0.8056657 (900)\ttotal: 33.7s\tremaining: 41.2s\n",
      "1000:\ttest: 0.8378791\ttest1: 0.8058976\tbest: 0.8059263 (988)\ttotal: 37.5s\tremaining: 37.5s\n",
      "1100:\ttest: 0.8393396\ttest1: 0.8059220\tbest: 0.8060146 (1062)\ttotal: 41.5s\tremaining: 33.9s\n",
      "Stopped by overfitting detector  (100 iterations wait)\n",
      "\n",
      "bestTest = 0.8060145779\n",
      "bestIteration = 1062\n",
      "\n",
      "Shrink model to first 1063 iterations.\n",
      "0:\ttest: 0.7848207\ttest1: 0.7800540\tbest: 0.7800540 (0)\ttotal: 48.1ms\tremaining: 1m 36s\n",
      "100:\ttest: 0.8139606\ttest1: 0.7941283\tbest: 0.7941283 (100)\ttotal: 3.58s\tremaining: 1m 7s\n",
      "200:\ttest: 0.8227020\ttest1: 0.7972601\tbest: 0.7972770 (197)\ttotal: 7.34s\tremaining: 1m 5s\n",
      "300:\ttest: 0.8293541\ttest1: 0.7985525\tbest: 0.7985593 (299)\ttotal: 11s\tremaining: 1m 2s\n",
      "400:\ttest: 0.8331489\ttest1: 0.7989921\tbest: 0.7990813 (396)\ttotal: 14.7s\tremaining: 58.7s\n",
      "500:\ttest: 0.8351654\ttest1: 0.7992814\tbest: 0.7992814 (500)\ttotal: 18.7s\tremaining: 56.1s\n",
      "600:\ttest: 0.8367883\ttest1: 0.7996054\tbest: 0.7996176 (596)\ttotal: 22.5s\tremaining: 52.4s\n",
      "700:\ttest: 0.8381532\ttest1: 0.7997302\tbest: 0.7997461 (654)\ttotal: 26.3s\tremaining: 48.7s\n",
      "800:\ttest: 0.8394135\ttest1: 0.7997362\tbest: 0.7998322 (758)\ttotal: 30s\tremaining: 44.9s\n",
      "900:\ttest: 0.8404035\ttest1: 0.7998814\tbest: 0.7999139 (897)\ttotal: 33.8s\tremaining: 41.3s\n",
      "1000:\ttest: 0.8418276\ttest1: 0.7998761\tbest: 0.8000202 (945)\ttotal: 37.5s\tremaining: 37.5s\n",
      "1100:\ttest: 0.8430997\ttest1: 0.7999556\tbest: 0.8000482 (1081)\ttotal: 41.5s\tremaining: 33.9s\n",
      "Stopped by overfitting detector  (100 iterations wait)\n",
      "\n",
      "bestTest = 0.8000481653\n",
      "bestIteration = 1081\n",
      "\n",
      "Shrink model to first 1082 iterations.\n",
      "0:\ttest: 0.7741665\ttest1: 0.7782829\tbest: 0.7782829 (0)\ttotal: 26.9ms\tremaining: 53.7s\n",
      "100:\ttest: 0.8086661\ttest1: 0.8063520\tbest: 0.8063520 (100)\ttotal: 3.71s\tremaining: 1m 9s\n",
      "200:\ttest: 0.8165343\ttest1: 0.8099612\tbest: 0.8100101 (198)\ttotal: 7.77s\tremaining: 1m 9s\n",
      "300:\ttest: 0.8214602\ttest1: 0.8098227\tbest: 0.8103500 (226)\ttotal: 11.5s\tremaining: 1m 4s\n",
      "Stopped by overfitting detector  (100 iterations wait)\n",
      "\n",
      "bestTest = 0.8103499873\n",
      "bestIteration = 226\n",
      "\n",
      "Shrink model to first 227 iterations.\n",
      "0.8054709101819109\n"
     ]
    }
   ],
   "source": [
    "\n",
    "cat_score = []\n",
    "# Split data with kfold\n",
    "kfolds = StratifiedKFold(n_splits=3, shuffle=True, random_state=2018)\n",
    "train_features = train.columns\n",
    "# Make importance dataframe\n",
    "importances = pd.DataFrame()\n",
    "\n",
    "oof_preds = np.zeros(train.shape[0])\n",
    "sub_preds = np.zeros(test.shape[0])\n",
    "\n",
    "for n_fold, (trn_idx, val_idx) in enumerate(kfolds.split(train, target)):\n",
    "    X_train, y_train = train.iloc[trn_idx], target.iloc[trn_idx]\n",
    "    X_valid, y_valid = train.iloc[val_idx], target.iloc[val_idx]\n",
    "    \n",
    "    # CatBoost Regressor estimator\n",
    "    model = cb.CatBoostClassifier(\n",
    "        learning_rate = 0.01,\n",
    "        iterations = 2000,\n",
    "        eval_metric = 'AUC',\n",
    "        allow_writing_files = False,\n",
    "        od_type = 'Iter',\n",
    "        bagging_temperature = 0.8,\n",
    "        class_weights = [0.3, 1], \n",
    "        depth = 6,\n",
    "        od_wait = 20,\n",
    "        silent = False\n",
    "    )\n",
    "    \n",
    "    # Fit\n",
    "    model.fit(\n",
    "        X_train, y_train,\n",
    "        cat_features=categorical_features_indices,\n",
    "        eval_set=[(X_train, y_train), (X_valid, y_valid)],\n",
    "        verbose=100,\n",
    "        early_stopping_rounds=100\n",
    "    )\n",
    "    \n",
    "    # Feature importance\n",
    "    imp_df = pd.DataFrame()\n",
    "    imp_df['feature'] = train_features\n",
    "    imp_df['gain'] = model.get_feature_importance()\n",
    "    imp_df['fold'] = n_fold + 1\n",
    "    importances = pd.concat([importances, imp_df], axis=0, sort=False)\n",
    "    \n",
    "    oof_preds[val_idx] = model.predict_proba(X_valid)[:, 1]\n",
    "    cat_score.append(roc_auc_score(y_valid, oof_preds[val_idx]))\n",
    "    test_preds = model.predict_proba(test)[:, 1]\n",
    "    sub_preds += test_preds / kfolds.n_splits\n",
    "    \n",
    "print(np.mean(cat_score))\n"
   ]
  },
  {
   "cell_type": "code",
   "execution_count": 54,
   "metadata": {
    "execution": {
     "iopub.execute_input": "2021-12-30T11:54:19.029821Z",
     "iopub.status.busy": "2021-12-30T11:54:19.029062Z",
     "iopub.status.idle": "2021-12-30T11:54:19.039306Z",
     "shell.execute_reply": "2021-12-30T11:54:19.038743Z"
    },
    "papermill": {
     "duration": 0.130003,
     "end_time": "2021-12-30T11:54:19.039426",
     "exception": false,
     "start_time": "2021-12-30T11:54:18.909423",
     "status": "completed"
    },
    "tags": []
   },
   "outputs": [
    {
     "data": {
      "text/plain": [
       "0.7992533492523433"
      ]
     },
     "execution_count": 54,
     "metadata": {},
     "output_type": "execute_result"
    }
   ],
   "source": [
    "roc_auc_score(answer, sub_preds)"
   ]
  },
  {
   "cell_type": "code",
   "execution_count": 55,
   "metadata": {
    "execution": {
     "iopub.execute_input": "2021-12-30T11:54:19.283062Z",
     "iopub.status.busy": "2021-12-30T11:54:19.276269Z",
     "iopub.status.idle": "2021-12-30T11:54:19.890029Z",
     "shell.execute_reply": "2021-12-30T11:54:19.889370Z"
    },
    "papermill": {
     "duration": 0.738973,
     "end_time": "2021-12-30T11:54:19.890164",
     "exception": false,
     "start_time": "2021-12-30T11:54:19.151191",
     "status": "completed"
    },
    "tags": []
   },
   "outputs": [
    {
     "data": {
      "text/plain": [
       "<matplotlib.axes._subplots.AxesSubplot at 0x7febd06da790>"
      ]
     },
     "execution_count": 55,
     "metadata": {},
     "output_type": "execute_result"
    },
    {
     "data": {
      "image/png": "[encoded data removed]",
      "text/plain": [
       "<Figure size 1440x576 with 1 Axes>"
      ]
     },
     "metadata": {},
     "output_type": "display_data"
    }
   ],
   "source": [
    "importances['gain_log'] = importances['gain']\n",
    "mean_gain = importances[['gain', 'feature']].groupby('feature').mean()\n",
    "importances['mean_gain'] = importances['feature'].map(mean_gain['gain'])\n",
    "\n",
    "plt.figure(figsize=(20, 8))\n",
    "sns.barplot(x='gain_log', y='feature', data=importances.sort_values('mean_gain', ascending=False))"
   ]
  },
  {
   "cell_type": "code",
   "execution_count": 56,
   "metadata": {
    "execution": {
     "iopub.execute_input": "2021-12-30T11:54:20.133588Z",
     "iopub.status.busy": "2021-12-30T11:54:20.132390Z",
     "iopub.status.idle": "2021-12-30T11:54:20.562438Z",
     "shell.execute_reply": "2021-12-30T11:54:20.561764Z"
    },
    "papermill": {
     "duration": 0.556328,
     "end_time": "2021-12-30T11:54:20.562562",
     "exception": false,
     "start_time": "2021-12-30T11:54:20.006234",
     "status": "completed"
    },
    "tags": []
   },
   "outputs": [
    {
     "data": {
      "text/plain": [
       "<matplotlib.axes._subplots.AxesSubplot at 0x7febd01d68d0>"
      ]
     },
     "execution_count": 56,
     "metadata": {},
     "output_type": "execute_result"
    },
    {
     "data": {
      "image/png": "[encoded data removed]",
      "text/plain": [
       "<Figure size 576x432 with 2 Axes>"
      ]
     },
     "metadata": {},
     "output_type": "display_data"
    }
   ],
   "source": [
    "oof_cb_rnd = np.where(oof_preds>.50, 1, 0)\n",
    "cf_matrix = confusion_matrix(target, (oof_cb_rnd)) \n",
    "group_names = ['True Neg','False Pos','False Neg','True Pos']\n",
    "group_counts = [\"{0:0.0f}\".format(value) for value in\n",
    "                cf_matrix.flatten()]\n",
    "group_percentages = [\"{0:.2%}\".format(value) for value in\n",
    "                     cf_matrix.flatten()/np.sum(cf_matrix)]\n",
    "labels = [f\"{v1}\\n{v2}\\n{v3}\" for v1, v2, v3 in\n",
    "          zip(group_names,group_counts,group_percentages)]\n",
    "labels = np.asarray(labels).reshape(2,2)\n",
    "plt.figure(figsize=(8, 6))\n",
    "sns.set(font_scale=1.4)\n",
    "plt.style.use('seaborn-poster')\n",
    "sns.heatmap(cf_matrix, annot=labels, fmt='', cmap='vlag_r')"
   ]
  },
  {
   "cell_type": "markdown",
   "metadata": {
    "papermill": {
     "duration": 0.115099,
     "end_time": "2021-12-30T11:54:20.794856",
     "exception": false,
     "start_time": "2021-12-30T11:54:20.679757",
     "status": "completed"
    },
    "tags": []
   },
   "source": [
    "## **7. LightGBM and Cats**"
   ]
  },
  {
   "cell_type": "markdown",
   "metadata": {
    "papermill": {
     "duration": 0.115733,
     "end_time": "2021-12-30T11:54:21.026152",
     "exception": false,
     "start_time": "2021-12-30T11:54:20.910419",
     "status": "completed"
    },
    "tags": []
   },
   "source": [
    "Lgb sorts the categories according to the training objective at each split. More specifically, LightGBM sorts the histogram (for a categorical feature) according to its accumulated values (sum_gradient / sum_hessian) and then finds the best split on the sorted histogram. So the split can be made based on the variable being of one specific level or any subset of levels, so you have 2^N splits available in comparision with e.g of 4 for OHE.\n",
    "\n",
    "The algorithm behind above mechanism is Fisher (1958) to find the optimal split over categories. http://www.csiss.org/SPACE/workshops/2004/SAC/files/fisher.pdf"
   ]
  },
  {
   "cell_type": "markdown",
   "metadata": {
    "papermill": {
     "duration": 0.115268,
     "end_time": "2021-12-30T11:54:21.256868",
     "exception": false,
     "start_time": "2021-12-30T11:54:21.141600",
     "status": "completed"
    },
    "tags": []
   },
   "source": [
    "Folowing we specified categorical feats for lgb .  As lgb is using target encoding i used 2 additive parameters 'min_data_per_group' and 'cat_smooth' and changed default values. Thease parameters help to prevent overfitting, similar to what we did with target encoding for Logistic regression throug KFold. \n",
    "\n"
   ]
  },
  {
   "cell_type": "code",
   "execution_count": 57,
   "metadata": {
    "execution": {
     "iopub.execute_input": "2021-12-30T11:54:21.498255Z",
     "iopub.status.busy": "2021-12-30T11:54:21.497541Z",
     "iopub.status.idle": "2021-12-30T11:54:21.506121Z",
     "shell.execute_reply": "2021-12-30T11:54:21.505416Z"
    },
    "papermill": {
     "duration": 0.133857,
     "end_time": "2021-12-30T11:54:21.506242",
     "exception": false,
     "start_time": "2021-12-30T11:54:21.372385",
     "status": "completed"
    },
    "tags": []
   },
   "outputs": [],
   "source": [
    "train = tr_orig.copy()\n",
    "test = ts_orig.copy()\n",
    "\n",
    "target = train.pop('target')\n",
    "del train['enrollee_id']\n",
    "del test['enrollee_id']"
   ]
  },
  {
   "cell_type": "code",
   "execution_count": 58,
   "metadata": {
    "execution": {
     "iopub.execute_input": "2021-12-30T11:54:21.746117Z",
     "iopub.status.busy": "2021-12-30T11:54:21.745228Z",
     "iopub.status.idle": "2021-12-30T11:54:21.748332Z",
     "shell.execute_reply": "2021-12-30T11:54:21.748838Z"
    },
    "papermill": {
     "duration": 0.125739,
     "end_time": "2021-12-30T11:54:21.748992",
     "exception": false,
     "start_time": "2021-12-30T11:54:21.623253",
     "status": "completed"
    },
    "tags": []
   },
   "outputs": [],
   "source": [
    "cats = [c for c in train.columns if train[c].dtypes =='object']"
   ]
  },
  {
   "cell_type": "markdown",
   "metadata": {
    "papermill": {
     "duration": 0.116198,
     "end_time": "2021-12-30T11:54:21.980741",
     "exception": false,
     "start_time": "2021-12-30T11:54:21.864543",
     "status": "completed"
    },
    "tags": []
   },
   "source": [
    "As lgb is inherently tree based we can convert ordinals by LabelEncoder like nominals and then specify them for lgb: "
   ]
  },
  {
   "cell_type": "code",
   "execution_count": 59,
   "metadata": {
    "execution": {
     "iopub.execute_input": "2021-12-30T11:54:22.217762Z",
     "iopub.status.busy": "2021-12-30T11:54:22.216748Z",
     "iopub.status.idle": "2021-12-30T11:54:22.631164Z",
     "shell.execute_reply": "2021-12-30T11:54:22.631721Z"
    },
    "papermill": {
     "duration": 0.53471,
     "end_time": "2021-12-30T11:54:22.631884",
     "exception": false,
     "start_time": "2021-12-30T11:54:22.097174",
     "status": "completed"
    },
    "tags": []
   },
   "outputs": [
    {
     "data": {
      "text/html": [
       "<div>\n",
       "<style scoped>\n",
       "    .dataframe tbody tr th:only-of-type {\n",
       "        vertical-align: middle;\n",
       "    }\n",
       "\n",
       "    .dataframe tbody tr th {\n",
       "        vertical-align: top;\n",
       "    }\n",
       "\n",
       "    .dataframe thead th {\n",
       "        text-align: right;\n",
       "    }\n",
       "</style>\n",
       "<table border=\"1\" class=\"dataframe\">\n",
       "  <thead>\n",
       "    <tr style=\"text-align: right;\">\n",
       "      <th></th>\n",
       "      <th>city_nom</th>\n",
       "      <th>city_development_index</th>\n",
       "      <th>gender_nom</th>\n",
       "      <th>relevent_experience_nom</th>\n",
       "      <th>enrolled_university_nom</th>\n",
       "      <th>education_level_ord</th>\n",
       "      <th>major_discipline_nom</th>\n",
       "      <th>experience_ord</th>\n",
       "      <th>company_size_ord</th>\n",
       "      <th>company_type_nom</th>\n",
       "      <th>last_new_job_ord</th>\n",
       "      <th>training_hours</th>\n",
       "    </tr>\n",
       "  </thead>\n",
       "  <tbody>\n",
       "    <tr>\n",
       "      <th>0</th>\n",
       "      <td>5</td>\n",
       "      <td>0.920</td>\n",
       "      <td>1</td>\n",
       "      <td>0</td>\n",
       "      <td>3</td>\n",
       "      <td>0</td>\n",
       "      <td>5</td>\n",
       "      <td>21</td>\n",
       "      <td>8</td>\n",
       "      <td>6</td>\n",
       "      <td>0</td>\n",
       "      <td>36</td>\n",
       "    </tr>\n",
       "    <tr>\n",
       "      <th>1</th>\n",
       "      <td>77</td>\n",
       "      <td>0.776</td>\n",
       "      <td>1</td>\n",
       "      <td>1</td>\n",
       "      <td>3</td>\n",
       "      <td>0</td>\n",
       "      <td>5</td>\n",
       "      <td>6</td>\n",
       "      <td>4</td>\n",
       "      <td>5</td>\n",
       "      <td>4</td>\n",
       "      <td>47</td>\n",
       "    </tr>\n",
       "    <tr>\n",
       "      <th>2</th>\n",
       "      <td>64</td>\n",
       "      <td>0.624</td>\n",
       "      <td>3</td>\n",
       "      <td>1</td>\n",
       "      <td>0</td>\n",
       "      <td>0</td>\n",
       "      <td>5</td>\n",
       "      <td>15</td>\n",
       "      <td>8</td>\n",
       "      <td>6</td>\n",
       "      <td>6</td>\n",
       "      <td>83</td>\n",
       "    </tr>\n",
       "    <tr>\n",
       "      <th>3</th>\n",
       "      <td>14</td>\n",
       "      <td>0.789</td>\n",
       "      <td>3</td>\n",
       "      <td>1</td>\n",
       "      <td>2</td>\n",
       "      <td>0</td>\n",
       "      <td>1</td>\n",
       "      <td>20</td>\n",
       "      <td>8</td>\n",
       "      <td>5</td>\n",
       "      <td>6</td>\n",
       "      <td>52</td>\n",
       "    </tr>\n",
       "    <tr>\n",
       "      <th>4</th>\n",
       "      <td>50</td>\n",
       "      <td>0.767</td>\n",
       "      <td>1</td>\n",
       "      <td>0</td>\n",
       "      <td>3</td>\n",
       "      <td>2</td>\n",
       "      <td>5</td>\n",
       "      <td>21</td>\n",
       "      <td>4</td>\n",
       "      <td>1</td>\n",
       "      <td>3</td>\n",
       "      <td>8</td>\n",
       "    </tr>\n",
       "  </tbody>\n",
       "</table>\n",
       "</div>"
      ],
      "text/plain": [
       "   city_nom  city_development_index  gender_nom  relevent_experience_nom  \\\n",
       "0         5                   0.920           1                        0   \n",
       "1        77                   0.776           1                        1   \n",
       "2        64                   0.624           3                        1   \n",
       "3        14                   0.789           3                        1   \n",
       "4        50                   0.767           1                        0   \n",
       "\n",
       "   enrolled_university_nom  education_level_ord  major_discipline_nom  \\\n",
       "0                        3                    0                     5   \n",
       "1                        3                    0                     5   \n",
       "2                        0                    0                     5   \n",
       "3                        2                    0                     1   \n",
       "4                        3                    2                     5   \n",
       "\n",
       "   experience_ord  company_size_ord  company_type_nom  last_new_job_ord  \\\n",
       "0              21                 8                 6                 0   \n",
       "1               6                 4                 5                 4   \n",
       "2              15                 8                 6                 6   \n",
       "3              20                 8                 5                 6   \n",
       "4              21                 4                 1                 3   \n",
       "\n",
       "   training_hours  \n",
       "0              36  \n",
       "1              47  \n",
       "2              83  \n",
       "3              52  \n",
       "4               8  "
      ]
     },
     "execution_count": 59,
     "metadata": {},
     "output_type": "execute_result"
    }
   ],
   "source": [
    "for c in cats:\n",
    "    le=LabelEncoder()\n",
    "    le.fit(list(train[c].astype('str')) + list(test[c].astype('str')))\n",
    "    train[c] = le.transform(list(train[c].astype(str))) \n",
    "    test[c] = le.transform(list(test[c].astype(str))) \n",
    "train.head()"
   ]
  },
  {
   "cell_type": "markdown",
   "metadata": {
    "papermill": {
     "duration": 0.117039,
     "end_time": "2021-12-30T11:54:22.866421",
     "exception": false,
     "start_time": "2021-12-30T11:54:22.749382",
     "status": "completed"
    },
    "tags": []
   },
   "source": [
    "Note:\n",
    "1. Lgb will handle nan values automatically\n",
    "2. 'categorical_feature' parameter get cats directly (Numeric)\n",
    "3. We used 'unbalance'parameter for handling imbalanced data by lgb (see confusion matrix below), You can use scale_pos_weight too like XGBoost."
   ]
  },
  {
   "cell_type": "code",
   "execution_count": 60,
   "metadata": {
    "execution": {
     "iopub.execute_input": "2021-12-30T11:54:23.105807Z",
     "iopub.status.busy": "2021-12-30T11:54:23.105102Z",
     "iopub.status.idle": "2021-12-30T11:54:26.646408Z",
     "shell.execute_reply": "2021-12-30T11:54:26.647086Z"
    },
    "papermill": {
     "duration": 3.663385,
     "end_time": "2021-12-30T11:54:26.647263",
     "exception": false,
     "start_time": "2021-12-30T11:54:22.983878",
     "status": "completed"
    },
    "tags": []
   },
   "outputs": [
    {
     "name": "stdout",
     "output_type": "stream",
     "text": [
      "fold : --------------------------------------- 0\n",
      "Training until validation scores don't improve for 100 rounds\n",
      "[100]\ttraining's auc: 0.822134\tvalid_1's auc: 0.794678\n",
      "[200]\ttraining's auc: 0.832718\tvalid_1's auc: 0.796661\n",
      "[300]\ttraining's auc: 0.84273\tvalid_1's auc: 0.797445\n",
      "Early stopping, best iteration is:\n",
      "[282]\ttraining's auc: 0.84112\tvalid_1's auc: 0.797658\n",
      "fold: 0 roc_auc == 0.797658137933681\n",
      "fold : --------------------------------------- 1\n",
      "Training until validation scores don't improve for 100 rounds\n",
      "[100]\ttraining's auc: 0.818825\tvalid_1's auc: 0.800851\n",
      "[200]\ttraining's auc: 0.830765\tvalid_1's auc: 0.802899\n",
      "Early stopping, best iteration is:\n",
      "[164]\ttraining's auc: 0.826457\tvalid_1's auc: 0.803769\n",
      "fold: 1 roc_auc == 0.8037692504030374\n",
      "fold : --------------------------------------- 2\n",
      "Training until validation scores don't improve for 100 rounds\n",
      "[100]\ttraining's auc: 0.81674\tvalid_1's auc: 0.804528\n",
      "[200]\ttraining's auc: 0.827993\tvalid_1's auc: 0.806928\n",
      "[300]\ttraining's auc: 0.83897\tvalid_1's auc: 0.808524\n",
      "[400]\ttraining's auc: 0.847173\tvalid_1's auc: 0.808771\n",
      "Early stopping, best iteration is:\n",
      "[333]\ttraining's auc: 0.841829\tvalid_1's auc: 0.808881\n",
      "fold: 2 roc_auc == 0.808881246554005\n",
      " \\\\\\\\\\\\\\\\ model roc_auc ////////////// :  0.8034362116302413\n"
     ]
    }
   ],
   "source": [
    "\n",
    "lgb_params = {\n",
    "    \n",
    " 'objective': 'binary', \n",
    " 'boosting': 'gbdt', \n",
    " 'bagging_fraction': 0.9,\n",
    " 'bagging_frequency': 1,\n",
    " 'cat_smooth': 70,\n",
    " 'feature_fraction': 0.9,\n",
    " 'learning_rate': 0.01,\n",
    " 'min_child_samples': 20,\n",
    " 'min_data_per_group': 100,\n",
    " 'num_leaves': 18,\n",
    " #'reg_alpha': 1.,\n",
    " #'reg_lambda': 3., \n",
    " 'metric':'auc', \n",
    " 'unbalance':True}\n",
    "    \n",
    "    \n",
    "    \n",
    "    \n",
    "\n",
    "\n",
    "oof_lgb = np.zeros(len(train))\n",
    "pred_lgb = np.zeros(len(test))\n",
    "\n",
    "scores = []\n",
    "\n",
    "feature_importances_gain = pd.DataFrame()\n",
    "feature_importances_gain['feature'] = train.columns\n",
    "\n",
    "feature_importances_split = pd.DataFrame()\n",
    "feature_importances_split['feature'] = train.columns\n",
    "\n",
    "\n",
    "folds = StratifiedKFold(n_splits=3, shuffle=True, random_state=42)\n",
    "\n",
    "for fold_, (train_ind, val_ind) in enumerate(folds.split(train, target)):\n",
    "    print(\"fold : ---------------------------------------\", fold_)\n",
    "    trn_data = lgb.Dataset(train.iloc[train_ind], label=target.iloc[train_ind], categorical_feature=cats) #-------> Specify Categorical feature for lgb\n",
    "    val_data= lgb.Dataset(train.iloc[val_ind], label=target.iloc[val_ind], categorical_feature=cats)  #-------> Specify Categorical feature for lgb\n",
    "    \n",
    "    lgb_clf = lgb.train(lgb_params, trn_data, num_boost_round=1000, valid_sets=(trn_data, val_data), verbose_eval=100, early_stopping_rounds=100)\n",
    "    oof_lgb[val_ind] = lgb_clf.predict(train.iloc[val_ind], num_iteration= lgb_clf.best_iteration)\n",
    "    print(\"fold:\", fold_, \"roc_auc ==\", roc_auc_score(target.iloc[val_ind], oof_lgb[val_ind]))\n",
    "    scores.append(roc_auc_score(target.iloc[val_ind], oof_lgb[val_ind]))\n",
    "    \n",
    "    feature_importances_gain['fold_{}'.format(fold_ + 1)] = lgb_clf.feature_importance(importance_type='gain')\n",
    "    feature_importances_split['fold_{}'.format(fold_ + 1)] = lgb_clf.feature_importance(importance_type='split')\n",
    "    \n",
    "    pred_lgb += lgb_clf.predict(test, num_iteration=lgb_clf.best_iteration)/folds.n_splits\n",
    "    \n",
    "print(' \\\\\\\\\\\\\\\\\\\\\\\\\\\\\\ model roc_auc ////////////// : ' , np.mean(scores))\n",
    "    \n",
    "np.save('oof_lgb', oof_lgb)\n",
    "np.save('pred_lgb', pred_lgb)"
   ]
  },
  {
   "cell_type": "code",
   "execution_count": 61,
   "metadata": {
    "execution": {
     "iopub.execute_input": "2021-12-30T11:54:26.943411Z",
     "iopub.status.busy": "2021-12-30T11:54:26.942706Z",
     "iopub.status.idle": "2021-12-30T11:54:26.946978Z",
     "shell.execute_reply": "2021-12-30T11:54:26.946414Z"
    },
    "papermill": {
     "duration": 0.142744,
     "end_time": "2021-12-30T11:54:26.947110",
     "exception": false,
     "start_time": "2021-12-30T11:54:26.804366",
     "status": "completed"
    },
    "tags": []
   },
   "outputs": [
    {
     "data": {
      "text/plain": [
       "0.7971846605137012"
      ]
     },
     "execution_count": 61,
     "metadata": {},
     "output_type": "execute_result"
    }
   ],
   "source": [
    "roc_auc_score(answer, pred_lgb)"
   ]
  },
  {
   "cell_type": "code",
   "execution_count": 62,
   "metadata": {
    "execution": {
     "iopub.execute_input": "2021-12-30T11:54:27.206434Z",
     "iopub.status.busy": "2021-12-30T11:54:27.205368Z",
     "iopub.status.idle": "2021-12-30T11:54:27.904291Z",
     "shell.execute_reply": "2021-12-30T11:54:27.903644Z"
    },
    "papermill": {
     "duration": 0.833818,
     "end_time": "2021-12-30T11:54:27.904415",
     "exception": false,
     "start_time": "2021-12-30T11:54:27.070597",
     "status": "completed"
    },
    "tags": []
   },
   "outputs": [
    {
     "data": {
      "image/png": "[encoded data removed]",
      "text/plain": [
       "<Figure size 1440x576 with 1 Axes>"
      ]
     },
     "metadata": {},
     "output_type": "display_data"
    }
   ],
   "source": [
    "feature_importances_gain['average'] = feature_importances_gain[['fold_{}'.format(fold + 1) for fold in range(folds.n_splits)]].mean(axis=1)\n",
    "feature_importances_gain.to_csv('feature_importances.csv')\n",
    "\n",
    "plt.figure(figsize=(20, 8))\n",
    "sns.barplot(data=feature_importances_gain.sort_values(by='average', ascending=False).head(100),palette='Reds_r',  x='average', y='feature');\n",
    "plt.title('TOP n feature importance over {} folds average'.format(folds.n_splits));"
   ]
  },
  {
   "cell_type": "code",
   "execution_count": 63,
   "metadata": {
    "execution": {
     "iopub.execute_input": "2021-12-30T11:54:28.162904Z",
     "iopub.status.busy": "2021-12-30T11:54:28.162214Z",
     "iopub.status.idle": "2021-12-30T11:54:28.410834Z",
     "shell.execute_reply": "2021-12-30T11:54:28.410184Z"
    },
    "papermill": {
     "duration": 0.381878,
     "end_time": "2021-12-30T11:54:28.410943",
     "exception": false,
     "start_time": "2021-12-30T11:54:28.029065",
     "status": "completed"
    },
    "tags": []
   },
   "outputs": [
    {
     "data": {
      "text/plain": [
       "<matplotlib.axes._subplots.AxesSubplot at 0x7febc17f8150>"
      ]
     },
     "execution_count": 63,
     "metadata": {},
     "output_type": "execute_result"
    },
    {
     "data": {
      "image/png": "[encoded data removed]",
      "text/plain": [
       "<Figure size 576x432 with 2 Axes>"
      ]
     },
     "metadata": {},
     "output_type": "display_data"
    }
   ],
   "source": [
    "oof_lgb_rnd = np.where(oof_lgb>.50, 1, 0)\n",
    "cf_matrix = confusion_matrix(target, (oof_lgb_rnd)) \n",
    "group_names = ['True Neg','False Pos','False Neg','True Pos']\n",
    "group_counts = [\"{0:0.0f}\".format(value) for value in\n",
    "                cf_matrix.flatten()]\n",
    "group_percentages = [\"{0:.2%}\".format(value) for value in\n",
    "                     cf_matrix.flatten()/np.sum(cf_matrix)]\n",
    "labels = [f\"{v1}\\n{v2}\\n{v3}\" for v1, v2, v3 in\n",
    "          zip(group_names,group_counts,group_percentages)]\n",
    "labels = np.asarray(labels).reshape(2,2)\n",
    "plt.figure(figsize=(8, 6))\n",
    "sns.set(font_scale=1.4)\n",
    "plt.style.use('seaborn-poster')\n",
    "sns.heatmap(cf_matrix, annot=labels, fmt='', cmap='vlag_r')"
   ]
  },
  {
   "cell_type": "markdown",
   "metadata": {
    "papermill": {
     "duration": 0.124805,
     "end_time": "2021-12-30T11:54:28.661380",
     "exception": false,
     "start_time": "2021-12-30T11:54:28.536575",
     "status": "completed"
    },
    "tags": []
   },
   "source": [
    "### **Conclusion**\n",
    "- The results shows we gained acceptable results as these models are base models.In most cases we handled imbalanced data with class weight. Potential improvement exists for Logistic Regression, Lightgbm and CatBoost.\n",
    "- It is interesting we could get a competitive result from LogisticRegression by applying weght of evidence and target encoding (.7942 auc and .7915 ) which in comaprision of CatBoost and LightGBM (.7992 auc and .7971) are good performance\n",
    "- According to CB and LGB feature importance we can see 'city_development_index', 'company_size' and 'education_level' along side with 'city' are most important factor in hob changes. Data scientists in cities with better development index which work in higher size of company don't tend to change their jobs (corr is negative)"
   ]
  },
  {
   "cell_type": "code",
   "execution_count": null,
   "metadata": {
    "papermill": {
     "duration": 0.125103,
     "end_time": "2021-12-30T11:54:28.911961",
     "exception": false,
     "start_time": "2021-12-30T11:54:28.786858",
     "status": "completed"
    },
    "tags": []
   },
   "outputs": [],
   "source": []
  }
 ],
 "metadata": {
  "kernelspec": {
   "display_name": "Python 3",
   "language": "python",
   "name": "python3"
  },
  "language_info": {
   "codemirror_mode": {
    "name": "ipython",
    "version": 3
   },
   "file_extension": ".py",
   "mimetype": "text/x-python",
   "name": "python",
   "nbconvert_exporter": "python",
   "pygments_lexer": "ipython3",
   "version": "3.7.6"
  },
  "papermill": {
   "duration": 158.861617,
   "end_time": "2021-12-30T11:54:29.148421",
   "environment_variables": {},
   "exception": null,
   "input_path": "__notebook__.ipynb",
   "output_path": "__notebook__.ipynb",
   "parameters": {},
   "start_time": "2021-12-30T11:51:50.286804",
   "version": "2.1.0"
  }
 },
 "nbformat": 4,
 "nbformat_minor": 4
}
